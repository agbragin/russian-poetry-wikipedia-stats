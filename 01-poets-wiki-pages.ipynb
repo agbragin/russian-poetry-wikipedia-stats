{
 "cells": [
  {
   "cell_type": "markdown",
   "source": [
    "# Формируем список русскоязычных поэтов из Википедии\n",
    "\n",
    "Для формирования списка русскоязычных поэтов из Википедии запросим список страниц в следующих категориях:"
   ],
   "metadata": {
    "collapsed": false,
    "pycharm": {
     "name": "#%% md\n"
    }
   }
  },
  {
   "cell_type": "code",
   "execution_count": 1,
   "outputs": [
    {
     "data": {
      "text/plain": "['Русские поэты', 'Поэты_России', 'Поэтессы России']"
     },
     "execution_count": 1,
     "metadata": {},
     "output_type": "execute_result"
    }
   ],
   "source": [
    "page_categories = [\n",
    "    'Русские поэты',\n",
    "    'Поэты_России',\n",
    "    'Поэтессы России'\n",
    "]\n",
    "page_categories"
   ],
   "metadata": {
    "collapsed": false,
    "pycharm": {
     "name": "#%%\n"
    }
   }
  },
  {
   "cell_type": "markdown",
   "source": [
    "## Запрос страниц Википедии из определенной категории"
   ],
   "metadata": {
    "collapsed": false,
    "pycharm": {
     "name": "#%% md\n"
    }
   }
  },
  {
   "cell_type": "code",
   "execution_count": 2,
   "outputs": [],
   "source": [
    "import requests\n",
    "\n",
    "S = requests.Session()\n",
    "URL = 'https://ru.wikipedia.org/w/api.php'\n",
    "\n",
    "def get_category_chunk(cmtitle, cmcontinue=None):\n",
    "    params = {\n",
    "        'action': 'query',\n",
    "        'format': 'json',\n",
    "        'list': 'categorymembers',\n",
    "        'cmtitle': cmtitle,\n",
    "        'cmlimit': 50\n",
    "    }\n",
    "    \n",
    "    if cmcontinue:\n",
    "        params['cmcontinue'] = cmcontinue\n",
    "    \n",
    "    r = S.get(url=URL, params=params)\n",
    "    return r.json()"
   ],
   "metadata": {
    "collapsed": false,
    "pycharm": {
     "name": "#%%\n"
    }
   }
  },
  {
   "cell_type": "code",
   "source": [
    "def get_category_pages(category):\n",
    "    pages = []\n",
    "    cmcontinue = None\n",
    "\n",
    "    while True :\n",
    "        data = get_category_chunk('Category:' + category, cmcontinue)\n",
    "        pages += data['query']['categorymembers']\n",
    "\n",
    "        if 'continue' not in data or 'cmcontinue' not in data['continue']:\n",
    "            break\n",
    "\n",
    "        cmcontinue = data['continue']['cmcontinue']\n",
    "\n",
    "    return pages\n",
    "\n",
    "russian_poets_category = 'Русские поэты'\n",
    "pages = get_category_pages(russian_poets_category)"
   ],
   "metadata": {
    "collapsed": false,
    "pycharm": {
     "name": "#%%\n"
    }
   },
   "execution_count": 3,
   "outputs": []
  },
  {
   "cell_type": "markdown",
   "source": [
    "## Сохраняем данные в текстовый файл"
   ],
   "metadata": {
    "collapsed": false,
    "pycharm": {
     "name": "#%% md\n"
    }
   }
  },
  {
   "cell_type": "code",
   "execution_count": 4,
   "outputs": [],
   "source": [
    "import csv\n",
    "\n",
    "def save_pages_to_file(pages, file_path):\n",
    "    keys = pages[0].keys()\n",
    "    with open(file_path, 'w', encoding='utf8', newline='') as f:\n",
    "        dict_writer = csv.DictWriter(f, keys)\n",
    "        dict_writer.writeheader()\n",
    "        dict_writer.writerows(pages)\n",
    "\n",
    "def process_category(category, file_path):\n",
    "    print('Processing category: {}'.format(category))\n",
    "    category_pages = get_category_pages(category)\n",
    "    print('Pages in category: {}'.format(len(category_pages)))\n",
    "    save_pages_to_file(category_pages, file_path)"
   ],
   "metadata": {
    "collapsed": false,
    "pycharm": {
     "name": "#%%\n"
    }
   }
  },
  {
   "cell_type": "code",
   "execution_count": 5,
   "outputs": [
    {
     "data": {
      "text/plain": "['Русские поэты', 'Поэты_России', 'Поэтессы России']"
     },
     "execution_count": 5,
     "metadata": {},
     "output_type": "execute_result"
    }
   ],
   "source": [
    "page_categories"
   ],
   "metadata": {
    "collapsed": false,
    "pycharm": {
     "name": "#%%\n"
    }
   }
  },
  {
   "cell_type": "code",
   "execution_count": 6,
   "outputs": [
    {
     "name": "stdout",
     "output_type": "stream",
     "text": [
      "Processing category: Русские поэты\n",
      "Pages in category: 2131\n"
     ]
    }
   ],
   "source": [
    "process_category('Русские поэты', 'data/russian-poets-pages.csv')"
   ],
   "metadata": {
    "collapsed": false,
    "pycharm": {
     "name": "#%%\n"
    }
   }
  },
  {
   "cell_type": "code",
   "execution_count": 7,
   "outputs": [
    {
     "name": "stdout",
     "output_type": "stream",
     "text": [
      "Processing category: Поэты_России\n",
      "Pages in category: 2310\n"
     ]
    }
   ],
   "source": [
    "process_category('Поэты_России', 'data/poets-of-russia-pages.csv')"
   ],
   "metadata": {
    "collapsed": false,
    "pycharm": {
     "name": "#%%\n"
    }
   }
  },
  {
   "cell_type": "code",
   "execution_count": 8,
   "outputs": [
    {
     "name": "stdout",
     "output_type": "stream",
     "text": [
      "Processing category: Поэтессы России\n",
      "Pages in category: 249\n"
     ]
    }
   ],
   "source": [
    "process_category('Поэтессы России', 'data/russian-wmn-poets-pages.csv')"
   ],
   "metadata": {
    "collapsed": false,
    "pycharm": {
     "name": "#%%\n"
    }
   }
  }
 ],
 "metadata": {
  "kernelspec": {
   "display_name": "Python 3",
   "language": "python",
   "name": "python3"
  },
  "language_info": {
   "codemirror_mode": {
    "name": "ipython",
    "version": 2
   },
   "file_extension": ".py",
   "mimetype": "text/x-python",
   "name": "python",
   "nbconvert_exporter": "python",
   "pygments_lexer": "ipython2",
   "version": "2.7.6"
  }
 },
 "nbformat": 4,
 "nbformat_minor": 0
}