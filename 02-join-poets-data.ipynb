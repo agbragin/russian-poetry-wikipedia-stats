{
 "cells": [
  {
   "cell_type": "markdown",
   "metadata": {
    "collapsed": true,
    "pycharm": {
     "name": "#%% md\n"
    }
   },
   "source": [
    "# Объединяем данные из разных категорий"
   ]
  },
  {
   "cell_type": "code",
   "execution_count": 1,
   "outputs": [
    {
     "data": {
      "text/plain": "                                                  pageid   ns\ntitle                                                        \nПроект:Литература/Списки/Русские поэты Украины     89076  104\nПроект:Литература/Списки/Русские поэты XIX века    87816  104\nПоэтессы Серебряного века                        4692805    0\nРусские поэты Серебряного века                     87820    0\nРусские поэты-футуристы                            89092    0\n...                                                  ...  ...\nКатегория:Поэты русского зарубежья               3607915   14\nКатегория:Русские поэты Серебряного века         6779381   14\nКатегория:Русские поэты США                      4672187   14\nКатегория:Русские поэты Украины                  4762218   14\nКатегория:Даниил Хармс                           1666311   14\n\n[2131 rows x 2 columns]",
      "text/html": "<div>\n<style scoped>\n    .dataframe tbody tr th:only-of-type {\n        vertical-align: middle;\n    }\n\n    .dataframe tbody tr th {\n        vertical-align: top;\n    }\n\n    .dataframe thead th {\n        text-align: right;\n    }\n</style>\n<table border=\"1\" class=\"dataframe\">\n  <thead>\n    <tr style=\"text-align: right;\">\n      <th></th>\n      <th>pageid</th>\n      <th>ns</th>\n    </tr>\n    <tr>\n      <th>title</th>\n      <th></th>\n      <th></th>\n    </tr>\n  </thead>\n  <tbody>\n    <tr>\n      <th>Проект:Литература/Списки/Русские поэты Украины</th>\n      <td>89076</td>\n      <td>104</td>\n    </tr>\n    <tr>\n      <th>Проект:Литература/Списки/Русские поэты XIX века</th>\n      <td>87816</td>\n      <td>104</td>\n    </tr>\n    <tr>\n      <th>Поэтессы Серебряного века</th>\n      <td>4692805</td>\n      <td>0</td>\n    </tr>\n    <tr>\n      <th>Русские поэты Серебряного века</th>\n      <td>87820</td>\n      <td>0</td>\n    </tr>\n    <tr>\n      <th>Русские поэты-футуристы</th>\n      <td>89092</td>\n      <td>0</td>\n    </tr>\n    <tr>\n      <th>...</th>\n      <td>...</td>\n      <td>...</td>\n    </tr>\n    <tr>\n      <th>Категория:Поэты русского зарубежья</th>\n      <td>3607915</td>\n      <td>14</td>\n    </tr>\n    <tr>\n      <th>Категория:Русские поэты Серебряного века</th>\n      <td>6779381</td>\n      <td>14</td>\n    </tr>\n    <tr>\n      <th>Категория:Русские поэты США</th>\n      <td>4672187</td>\n      <td>14</td>\n    </tr>\n    <tr>\n      <th>Категория:Русские поэты Украины</th>\n      <td>4762218</td>\n      <td>14</td>\n    </tr>\n    <tr>\n      <th>Категория:Даниил Хармс</th>\n      <td>1666311</td>\n      <td>14</td>\n    </tr>\n  </tbody>\n</table>\n<p>2131 rows × 2 columns</p>\n</div>"
     },
     "execution_count": 1,
     "metadata": {},
     "output_type": "execute_result"
    }
   ],
   "source": [
    "import pandas as pd\n",
    "\n",
    "russian_poets = pd.read_csv('data/russian-poets-pages.csv')\n",
    "russian_poets.set_index('title', inplace=True)\n",
    "russian_poets"
   ],
   "metadata": {
    "collapsed": false,
    "pycharm": {
     "name": "#%%\n"
    }
   }
  },
  {
   "cell_type": "code",
   "execution_count": 2,
   "outputs": [
    {
     "data": {
      "text/plain": "                                                    por_pageid  por_ns\ntitle                                                                 \nАбдулаев, Леча Шарипович                               5735959       0\nАбдулкадир Инан                                        3947572       0\nАбитов, Владимир Кадырович                             5066268       0\nАбитов, Хизир Яхьяевич                                 8426220       0\nАбрамов, Анатолий Михайлович                            988819       0\n...                                                        ...     ...\nКатегория:Народные поэты автономных республик Р...     8812025      14\nКатегория:Поэтессы России                              4524265      14\nКатегория:Поэты Крыма                                  1543153      14\nКатегория:Поэты Российской империи                     2822245      14\nКатегория:Поэты русского авангарда                     4088718      14\n\n[2310 rows x 2 columns]",
      "text/html": "<div>\n<style scoped>\n    .dataframe tbody tr th:only-of-type {\n        vertical-align: middle;\n    }\n\n    .dataframe tbody tr th {\n        vertical-align: top;\n    }\n\n    .dataframe thead th {\n        text-align: right;\n    }\n</style>\n<table border=\"1\" class=\"dataframe\">\n  <thead>\n    <tr style=\"text-align: right;\">\n      <th></th>\n      <th>por_pageid</th>\n      <th>por_ns</th>\n    </tr>\n    <tr>\n      <th>title</th>\n      <th></th>\n      <th></th>\n    </tr>\n  </thead>\n  <tbody>\n    <tr>\n      <th>Абдулаев, Леча Шарипович</th>\n      <td>5735959</td>\n      <td>0</td>\n    </tr>\n    <tr>\n      <th>Абдулкадир Инан</th>\n      <td>3947572</td>\n      <td>0</td>\n    </tr>\n    <tr>\n      <th>Абитов, Владимир Кадырович</th>\n      <td>5066268</td>\n      <td>0</td>\n    </tr>\n    <tr>\n      <th>Абитов, Хизир Яхьяевич</th>\n      <td>8426220</td>\n      <td>0</td>\n    </tr>\n    <tr>\n      <th>Абрамов, Анатолий Михайлович</th>\n      <td>988819</td>\n      <td>0</td>\n    </tr>\n    <tr>\n      <th>...</th>\n      <td>...</td>\n      <td>...</td>\n    </tr>\n    <tr>\n      <th>Категория:Народные поэты автономных республик РСФСР</th>\n      <td>8812025</td>\n      <td>14</td>\n    </tr>\n    <tr>\n      <th>Категория:Поэтессы России</th>\n      <td>4524265</td>\n      <td>14</td>\n    </tr>\n    <tr>\n      <th>Категория:Поэты Крыма</th>\n      <td>1543153</td>\n      <td>14</td>\n    </tr>\n    <tr>\n      <th>Категория:Поэты Российской империи</th>\n      <td>2822245</td>\n      <td>14</td>\n    </tr>\n    <tr>\n      <th>Категория:Поэты русского авангарда</th>\n      <td>4088718</td>\n      <td>14</td>\n    </tr>\n  </tbody>\n</table>\n<p>2310 rows × 2 columns</p>\n</div>"
     },
     "execution_count": 2,
     "metadata": {},
     "output_type": "execute_result"
    }
   ],
   "source": [
    "poets_of_russia = pd.read_csv('data/poets-of-russia-pages.csv')\n",
    "poets_of_russia.set_index('title', inplace=True)\n",
    "poets_of_russia.rename(columns={'pageid': 'por_pageid', 'ns': 'por_ns'}, inplace=True)\n",
    "poets_of_russia"
   ],
   "metadata": {
    "collapsed": false,
    "pycharm": {
     "name": "#%%\n"
    }
   }
  },
  {
   "cell_type": "code",
   "execution_count": 3,
   "outputs": [
    {
     "data": {
      "text/plain": "                                       rwp_pageid  rwp_ns\ntitle                                                    \nАгашина, Маргарита Константиновна         1584087       0\nАгурбаш, Анжелика Анатольевна             2190621       0\nАзарова, Наталия Михайловна               4043156       0\nАйвазян, Галина Николаевна                6853362       0\nАкулова, Валерия Константиновна           5513006       0\n...                                           ...     ...\nЯкушева, Ада                                79145       0\nЯнбулатова, Рагида Саитгалеевна           3788328       0\nЯшина, Лариса Ивановна                    3192440       0\nЯшина, Роза Ивановна                      8739019       0\nКатегория:Поэтессы Российской империи     3412574      14\n\n[249 rows x 2 columns]",
      "text/html": "<div>\n<style scoped>\n    .dataframe tbody tr th:only-of-type {\n        vertical-align: middle;\n    }\n\n    .dataframe tbody tr th {\n        vertical-align: top;\n    }\n\n    .dataframe thead th {\n        text-align: right;\n    }\n</style>\n<table border=\"1\" class=\"dataframe\">\n  <thead>\n    <tr style=\"text-align: right;\">\n      <th></th>\n      <th>rwp_pageid</th>\n      <th>rwp_ns</th>\n    </tr>\n    <tr>\n      <th>title</th>\n      <th></th>\n      <th></th>\n    </tr>\n  </thead>\n  <tbody>\n    <tr>\n      <th>Агашина, Маргарита Константиновна</th>\n      <td>1584087</td>\n      <td>0</td>\n    </tr>\n    <tr>\n      <th>Агурбаш, Анжелика Анатольевна</th>\n      <td>2190621</td>\n      <td>0</td>\n    </tr>\n    <tr>\n      <th>Азарова, Наталия Михайловна</th>\n      <td>4043156</td>\n      <td>0</td>\n    </tr>\n    <tr>\n      <th>Айвазян, Галина Николаевна</th>\n      <td>6853362</td>\n      <td>0</td>\n    </tr>\n    <tr>\n      <th>Акулова, Валерия Константиновна</th>\n      <td>5513006</td>\n      <td>0</td>\n    </tr>\n    <tr>\n      <th>...</th>\n      <td>...</td>\n      <td>...</td>\n    </tr>\n    <tr>\n      <th>Якушева, Ада</th>\n      <td>79145</td>\n      <td>0</td>\n    </tr>\n    <tr>\n      <th>Янбулатова, Рагида Саитгалеевна</th>\n      <td>3788328</td>\n      <td>0</td>\n    </tr>\n    <tr>\n      <th>Яшина, Лариса Ивановна</th>\n      <td>3192440</td>\n      <td>0</td>\n    </tr>\n    <tr>\n      <th>Яшина, Роза Ивановна</th>\n      <td>8739019</td>\n      <td>0</td>\n    </tr>\n    <tr>\n      <th>Категория:Поэтессы Российской империи</th>\n      <td>3412574</td>\n      <td>14</td>\n    </tr>\n  </tbody>\n</table>\n<p>249 rows × 2 columns</p>\n</div>"
     },
     "execution_count": 3,
     "metadata": {},
     "output_type": "execute_result"
    }
   ],
   "source": [
    "russian_wmn_poets = pd.read_csv('data/russian-wmn-poets-pages.csv')\n",
    "russian_wmn_poets.set_index('title', inplace=True)\n",
    "russian_wmn_poets.rename(columns={'pageid': 'rwp_pageid', 'ns': 'rwp_ns'}, inplace=True)\n",
    "russian_wmn_poets"
   ],
   "metadata": {
    "collapsed": false,
    "pycharm": {
     "name": "#%%\n"
    }
   }
  },
  {
   "cell_type": "code",
   "execution_count": 4,
   "outputs": [
    {
     "name": "stdout",
     "output_type": "stream",
     "text": [
      "Total number of poets: 3617\n"
     ]
    }
   ],
   "source": [
    "poets = pd.concat([russian_poets, poets_of_russia], axis=1)\n",
    "poets = pd.concat([poets, russian_wmn_poets], axis=1)\n",
    "\n",
    "print('Total number of poets: {}'.format(len(poets)))\n",
    "\n",
    "poets.to_csv('data/poets-joined.csv')"
   ],
   "metadata": {
    "collapsed": false,
    "pycharm": {
     "name": "#%%\n"
    }
   }
  },
  {
   "cell_type": "markdown",
   "source": [
    "## Деление на категории и страницы индивидуальных поэтов не представляется перспективным"
   ],
   "metadata": {
    "collapsed": false
   }
  },
  {
   "cell_type": "code",
   "execution_count": 5,
   "outputs": [
    {
     "name": "stdout",
     "output_type": "stream",
     "text": [
      "Category pages: 28\n"
     ]
    },
    {
     "data": {
      "text/plain": "                                                       pageid     ns  \\\ntitle                                                                  \nПроект:Литература/Списки/Русские поэты Украины        89076.0  104.0   \nПроект:Литература/Списки/Русские поэты XIX века       87816.0  104.0   \nКатегория:Николай Асеев                             7258677.0   14.0   \nКатегория:Анна Ахматова                             2507209.0   14.0   \nКатегория:Константин Бальмонт                       4687262.0   14.0   \nКатегория:Валерий Брюсов                            4761930.0   14.0   \nКатегория:Пётр Вяземский                            5936444.0   14.0   \nКатегория:Борис Пастернак                           1681440.0   14.0   \nКатегория:Поэты русского зарубежья                  3607915.0   14.0   \nКатегория:Русские поэты Серебряного века            6779381.0   14.0   \nКатегория:Русские поэты США                         4672187.0   14.0   \nКатегория:Русские поэты Украины                     4762218.0   14.0   \nКатегория:Даниил Хармс                              1666311.0   14.0   \nКатегория:Поэты России XX века                            NaN    NaN   \nКатегория:Поэты России XXI века                           NaN    NaN   \nКатегория:Поэты по городам России                         NaN    NaN   \nКатегория:Поэты России по алфавиту                        NaN    NaN   \nКатегория:Поэты-песенники России                          NaN    NaN   \nКатегория:Поэты по субъектам Российской Федерации         NaN    NaN   \nКатегория:Авторы песен России                             NaN    NaN   \nКатегория:Авторы-исполнители России                       NaN    NaN   \nКатегория:Детские поэты России                            NaN    NaN   \nКатегория:Народные поэты автономных республик Р...        NaN    NaN   \nКатегория:Поэтессы России                                 NaN    NaN   \nКатегория:Поэты Крыма                                     NaN    NaN   \nКатегория:Поэты Российской империи                        NaN    NaN   \nКатегория:Поэты русского авангарда                        NaN    NaN   \nКатегория:Поэтессы Российской империи                     NaN    NaN   \n\n                                                    por_pageid  por_ns  \\\ntitle                                                                    \nПроект:Литература/Списки/Русские поэты Украины             NaN     NaN   \nПроект:Литература/Списки/Русские поэты XIX века            NaN     NaN   \nКатегория:Николай Асеев                                    NaN     NaN   \nКатегория:Анна Ахматова                                    NaN     NaN   \nКатегория:Константин Бальмонт                              NaN     NaN   \nКатегория:Валерий Брюсов                                   NaN     NaN   \nКатегория:Пётр Вяземский                                   NaN     NaN   \nКатегория:Борис Пастернак                                  NaN     NaN   \nКатегория:Поэты русского зарубежья                         NaN     NaN   \nКатегория:Русские поэты Серебряного века                   NaN     NaN   \nКатегория:Русские поэты США                                NaN     NaN   \nКатегория:Русские поэты Украины                            NaN     NaN   \nКатегория:Даниил Хармс                                     NaN     NaN   \nКатегория:Поэты России XX века                       4558355.0    14.0   \nКатегория:Поэты России XXI века                      4558361.0    14.0   \nКатегория:Поэты по городам России                    3037843.0    14.0   \nКатегория:Поэты России по алфавиту                   6914193.0    14.0   \nКатегория:Поэты-песенники России                     2358853.0    14.0   \nКатегория:Поэты по субъектам Российской Федерации    4239146.0    14.0   \nКатегория:Авторы песен России                        8345472.0    14.0   \nКатегория:Авторы-исполнители России                  3001972.0    14.0   \nКатегория:Детские поэты России                       8943560.0    14.0   \nКатегория:Народные поэты автономных республик Р...   8812025.0    14.0   \nКатегория:Поэтессы России                            4524265.0    14.0   \nКатегория:Поэты Крыма                                1543153.0    14.0   \nКатегория:Поэты Российской империи                   2822245.0    14.0   \nКатегория:Поэты русского авангарда                   4088718.0    14.0   \nКатегория:Поэтессы Российской империи                      NaN     NaN   \n\n                                                    rwp_pageid  rwp_ns  \ntitle                                                                   \nПроект:Литература/Списки/Русские поэты Украины             NaN     NaN  \nПроект:Литература/Списки/Русские поэты XIX века            NaN     NaN  \nКатегория:Николай Асеев                                    NaN     NaN  \nКатегория:Анна Ахматова                                    NaN     NaN  \nКатегория:Константин Бальмонт                              NaN     NaN  \nКатегория:Валерий Брюсов                                   NaN     NaN  \nКатегория:Пётр Вяземский                                   NaN     NaN  \nКатегория:Борис Пастернак                                  NaN     NaN  \nКатегория:Поэты русского зарубежья                         NaN     NaN  \nКатегория:Русские поэты Серебряного века                   NaN     NaN  \nКатегория:Русские поэты США                                NaN     NaN  \nКатегория:Русские поэты Украины                            NaN     NaN  \nКатегория:Даниил Хармс                                     NaN     NaN  \nКатегория:Поэты России XX века                             NaN     NaN  \nКатегория:Поэты России XXI века                            NaN     NaN  \nКатегория:Поэты по городам России                          NaN     NaN  \nКатегория:Поэты России по алфавиту                         NaN     NaN  \nКатегория:Поэты-песенники России                           NaN     NaN  \nКатегория:Поэты по субъектам Российской Федерации          NaN     NaN  \nКатегория:Авторы песен России                              NaN     NaN  \nКатегория:Авторы-исполнители России                        NaN     NaN  \nКатегория:Детские поэты России                             NaN     NaN  \nКатегория:Народные поэты автономных республик Р...         NaN     NaN  \nКатегория:Поэтессы России                                  NaN     NaN  \nКатегория:Поэты Крыма                                      NaN     NaN  \nКатегория:Поэты Российской империи                         NaN     NaN  \nКатегория:Поэты русского авангарда                         NaN     NaN  \nКатегория:Поэтессы Российской империи                3412574.0    14.0  ",
      "text/html": "<div>\n<style scoped>\n    .dataframe tbody tr th:only-of-type {\n        vertical-align: middle;\n    }\n\n    .dataframe tbody tr th {\n        vertical-align: top;\n    }\n\n    .dataframe thead th {\n        text-align: right;\n    }\n</style>\n<table border=\"1\" class=\"dataframe\">\n  <thead>\n    <tr style=\"text-align: right;\">\n      <th></th>\n      <th>pageid</th>\n      <th>ns</th>\n      <th>por_pageid</th>\n      <th>por_ns</th>\n      <th>rwp_pageid</th>\n      <th>rwp_ns</th>\n    </tr>\n    <tr>\n      <th>title</th>\n      <th></th>\n      <th></th>\n      <th></th>\n      <th></th>\n      <th></th>\n      <th></th>\n    </tr>\n  </thead>\n  <tbody>\n    <tr>\n      <th>Проект:Литература/Списки/Русские поэты Украины</th>\n      <td>89076.0</td>\n      <td>104.0</td>\n      <td>NaN</td>\n      <td>NaN</td>\n      <td>NaN</td>\n      <td>NaN</td>\n    </tr>\n    <tr>\n      <th>Проект:Литература/Списки/Русские поэты XIX века</th>\n      <td>87816.0</td>\n      <td>104.0</td>\n      <td>NaN</td>\n      <td>NaN</td>\n      <td>NaN</td>\n      <td>NaN</td>\n    </tr>\n    <tr>\n      <th>Категория:Николай Асеев</th>\n      <td>7258677.0</td>\n      <td>14.0</td>\n      <td>NaN</td>\n      <td>NaN</td>\n      <td>NaN</td>\n      <td>NaN</td>\n    </tr>\n    <tr>\n      <th>Категория:Анна Ахматова</th>\n      <td>2507209.0</td>\n      <td>14.0</td>\n      <td>NaN</td>\n      <td>NaN</td>\n      <td>NaN</td>\n      <td>NaN</td>\n    </tr>\n    <tr>\n      <th>Категория:Константин Бальмонт</th>\n      <td>4687262.0</td>\n      <td>14.0</td>\n      <td>NaN</td>\n      <td>NaN</td>\n      <td>NaN</td>\n      <td>NaN</td>\n    </tr>\n    <tr>\n      <th>Категория:Валерий Брюсов</th>\n      <td>4761930.0</td>\n      <td>14.0</td>\n      <td>NaN</td>\n      <td>NaN</td>\n      <td>NaN</td>\n      <td>NaN</td>\n    </tr>\n    <tr>\n      <th>Категория:Пётр Вяземский</th>\n      <td>5936444.0</td>\n      <td>14.0</td>\n      <td>NaN</td>\n      <td>NaN</td>\n      <td>NaN</td>\n      <td>NaN</td>\n    </tr>\n    <tr>\n      <th>Категория:Борис Пастернак</th>\n      <td>1681440.0</td>\n      <td>14.0</td>\n      <td>NaN</td>\n      <td>NaN</td>\n      <td>NaN</td>\n      <td>NaN</td>\n    </tr>\n    <tr>\n      <th>Категория:Поэты русского зарубежья</th>\n      <td>3607915.0</td>\n      <td>14.0</td>\n      <td>NaN</td>\n      <td>NaN</td>\n      <td>NaN</td>\n      <td>NaN</td>\n    </tr>\n    <tr>\n      <th>Категория:Русские поэты Серебряного века</th>\n      <td>6779381.0</td>\n      <td>14.0</td>\n      <td>NaN</td>\n      <td>NaN</td>\n      <td>NaN</td>\n      <td>NaN</td>\n    </tr>\n    <tr>\n      <th>Категория:Русские поэты США</th>\n      <td>4672187.0</td>\n      <td>14.0</td>\n      <td>NaN</td>\n      <td>NaN</td>\n      <td>NaN</td>\n      <td>NaN</td>\n    </tr>\n    <tr>\n      <th>Категория:Русские поэты Украины</th>\n      <td>4762218.0</td>\n      <td>14.0</td>\n      <td>NaN</td>\n      <td>NaN</td>\n      <td>NaN</td>\n      <td>NaN</td>\n    </tr>\n    <tr>\n      <th>Категория:Даниил Хармс</th>\n      <td>1666311.0</td>\n      <td>14.0</td>\n      <td>NaN</td>\n      <td>NaN</td>\n      <td>NaN</td>\n      <td>NaN</td>\n    </tr>\n    <tr>\n      <th>Категория:Поэты России XX века</th>\n      <td>NaN</td>\n      <td>NaN</td>\n      <td>4558355.0</td>\n      <td>14.0</td>\n      <td>NaN</td>\n      <td>NaN</td>\n    </tr>\n    <tr>\n      <th>Категория:Поэты России XXI века</th>\n      <td>NaN</td>\n      <td>NaN</td>\n      <td>4558361.0</td>\n      <td>14.0</td>\n      <td>NaN</td>\n      <td>NaN</td>\n    </tr>\n    <tr>\n      <th>Категория:Поэты по городам России</th>\n      <td>NaN</td>\n      <td>NaN</td>\n      <td>3037843.0</td>\n      <td>14.0</td>\n      <td>NaN</td>\n      <td>NaN</td>\n    </tr>\n    <tr>\n      <th>Категория:Поэты России по алфавиту</th>\n      <td>NaN</td>\n      <td>NaN</td>\n      <td>6914193.0</td>\n      <td>14.0</td>\n      <td>NaN</td>\n      <td>NaN</td>\n    </tr>\n    <tr>\n      <th>Категория:Поэты-песенники России</th>\n      <td>NaN</td>\n      <td>NaN</td>\n      <td>2358853.0</td>\n      <td>14.0</td>\n      <td>NaN</td>\n      <td>NaN</td>\n    </tr>\n    <tr>\n      <th>Категория:Поэты по субъектам Российской Федерации</th>\n      <td>NaN</td>\n      <td>NaN</td>\n      <td>4239146.0</td>\n      <td>14.0</td>\n      <td>NaN</td>\n      <td>NaN</td>\n    </tr>\n    <tr>\n      <th>Категория:Авторы песен России</th>\n      <td>NaN</td>\n      <td>NaN</td>\n      <td>8345472.0</td>\n      <td>14.0</td>\n      <td>NaN</td>\n      <td>NaN</td>\n    </tr>\n    <tr>\n      <th>Категория:Авторы-исполнители России</th>\n      <td>NaN</td>\n      <td>NaN</td>\n      <td>3001972.0</td>\n      <td>14.0</td>\n      <td>NaN</td>\n      <td>NaN</td>\n    </tr>\n    <tr>\n      <th>Категория:Детские поэты России</th>\n      <td>NaN</td>\n      <td>NaN</td>\n      <td>8943560.0</td>\n      <td>14.0</td>\n      <td>NaN</td>\n      <td>NaN</td>\n    </tr>\n    <tr>\n      <th>Категория:Народные поэты автономных республик РСФСР</th>\n      <td>NaN</td>\n      <td>NaN</td>\n      <td>8812025.0</td>\n      <td>14.0</td>\n      <td>NaN</td>\n      <td>NaN</td>\n    </tr>\n    <tr>\n      <th>Категория:Поэтессы России</th>\n      <td>NaN</td>\n      <td>NaN</td>\n      <td>4524265.0</td>\n      <td>14.0</td>\n      <td>NaN</td>\n      <td>NaN</td>\n    </tr>\n    <tr>\n      <th>Категория:Поэты Крыма</th>\n      <td>NaN</td>\n      <td>NaN</td>\n      <td>1543153.0</td>\n      <td>14.0</td>\n      <td>NaN</td>\n      <td>NaN</td>\n    </tr>\n    <tr>\n      <th>Категория:Поэты Российской империи</th>\n      <td>NaN</td>\n      <td>NaN</td>\n      <td>2822245.0</td>\n      <td>14.0</td>\n      <td>NaN</td>\n      <td>NaN</td>\n    </tr>\n    <tr>\n      <th>Категория:Поэты русского авангарда</th>\n      <td>NaN</td>\n      <td>NaN</td>\n      <td>4088718.0</td>\n      <td>14.0</td>\n      <td>NaN</td>\n      <td>NaN</td>\n    </tr>\n    <tr>\n      <th>Категория:Поэтессы Российской империи</th>\n      <td>NaN</td>\n      <td>NaN</td>\n      <td>NaN</td>\n      <td>NaN</td>\n      <td>3412574.0</td>\n      <td>14.0</td>\n    </tr>\n  </tbody>\n</table>\n</div>"
     },
     "execution_count": 5,
     "metadata": {},
     "output_type": "execute_result"
    }
   ],
   "source": [
    "categories = poets.loc[(poets.ns > 0) | (poets.por_ns > 0) | (poets.rwp_ns > 0)]\n",
    "print('Category pages: {}'.format(len(categories)))\n",
    "categories"
   ],
   "metadata": {
    "collapsed": false,
    "pycharm": {
     "name": "#%%\n"
    }
   }
  },
  {
   "cell_type": "code",
   "execution_count": 6,
   "outputs": [
    {
     "name": "stdout",
     "output_type": "stream",
     "text": [
      "Category pages: 3589\n"
     ]
    },
    {
     "data": {
      "text/plain": "                                    pageid   ns  por_pageid  por_ns  \\\ntitle                                                                 \nПоэтессы Серебряного века        4692805.0  0.0         NaN     NaN   \nРусские поэты Серебряного века     87820.0  0.0         NaN     NaN   \nРусские поэты-футуристы            89092.0  0.0         NaN     NaN   \nАбдуллаев, Евгений Викторович    1041399.0  0.0         NaN     NaN   \nАбдуллаев, Шамшад Маджитович       68329.0  0.0         NaN     NaN   \n...                                    ...  ...         ...     ...   \nЮта (певица)                           NaN  NaN         NaN     NaN   \nЯжевика                                NaN  NaN         NaN     NaN   \nЯкушева, Ада                           NaN  NaN         NaN     NaN   \nЯнбулатова, Рагида Саитгалеевна        NaN  NaN         NaN     NaN   \nЯшина, Роза Ивановна                   NaN  NaN         NaN     NaN   \n\n                                 rwp_pageid  rwp_ns  \ntitle                                                \nПоэтессы Серебряного века               NaN     NaN  \nРусские поэты Серебряного века          NaN     NaN  \nРусские поэты-футуристы                 NaN     NaN  \nАбдуллаев, Евгений Викторович           NaN     NaN  \nАбдуллаев, Шамшад Маджитович            NaN     NaN  \n...                                     ...     ...  \nЮта (певица)                      3419263.0     0.0  \nЯжевика                           3331686.0     0.0  \nЯкушева, Ада                        79145.0     0.0  \nЯнбулатова, Рагида Саитгалеевна   3788328.0     0.0  \nЯшина, Роза Ивановна              8739019.0     0.0  \n\n[3589 rows x 6 columns]",
      "text/html": "<div>\n<style scoped>\n    .dataframe tbody tr th:only-of-type {\n        vertical-align: middle;\n    }\n\n    .dataframe tbody tr th {\n        vertical-align: top;\n    }\n\n    .dataframe thead th {\n        text-align: right;\n    }\n</style>\n<table border=\"1\" class=\"dataframe\">\n  <thead>\n    <tr style=\"text-align: right;\">\n      <th></th>\n      <th>pageid</th>\n      <th>ns</th>\n      <th>por_pageid</th>\n      <th>por_ns</th>\n      <th>rwp_pageid</th>\n      <th>rwp_ns</th>\n    </tr>\n    <tr>\n      <th>title</th>\n      <th></th>\n      <th></th>\n      <th></th>\n      <th></th>\n      <th></th>\n      <th></th>\n    </tr>\n  </thead>\n  <tbody>\n    <tr>\n      <th>Поэтессы Серебряного века</th>\n      <td>4692805.0</td>\n      <td>0.0</td>\n      <td>NaN</td>\n      <td>NaN</td>\n      <td>NaN</td>\n      <td>NaN</td>\n    </tr>\n    <tr>\n      <th>Русские поэты Серебряного века</th>\n      <td>87820.0</td>\n      <td>0.0</td>\n      <td>NaN</td>\n      <td>NaN</td>\n      <td>NaN</td>\n      <td>NaN</td>\n    </tr>\n    <tr>\n      <th>Русские поэты-футуристы</th>\n      <td>89092.0</td>\n      <td>0.0</td>\n      <td>NaN</td>\n      <td>NaN</td>\n      <td>NaN</td>\n      <td>NaN</td>\n    </tr>\n    <tr>\n      <th>Абдуллаев, Евгений Викторович</th>\n      <td>1041399.0</td>\n      <td>0.0</td>\n      <td>NaN</td>\n      <td>NaN</td>\n      <td>NaN</td>\n      <td>NaN</td>\n    </tr>\n    <tr>\n      <th>Абдуллаев, Шамшад Маджитович</th>\n      <td>68329.0</td>\n      <td>0.0</td>\n      <td>NaN</td>\n      <td>NaN</td>\n      <td>NaN</td>\n      <td>NaN</td>\n    </tr>\n    <tr>\n      <th>...</th>\n      <td>...</td>\n      <td>...</td>\n      <td>...</td>\n      <td>...</td>\n      <td>...</td>\n      <td>...</td>\n    </tr>\n    <tr>\n      <th>Юта (певица)</th>\n      <td>NaN</td>\n      <td>NaN</td>\n      <td>NaN</td>\n      <td>NaN</td>\n      <td>3419263.0</td>\n      <td>0.0</td>\n    </tr>\n    <tr>\n      <th>Яжевика</th>\n      <td>NaN</td>\n      <td>NaN</td>\n      <td>NaN</td>\n      <td>NaN</td>\n      <td>3331686.0</td>\n      <td>0.0</td>\n    </tr>\n    <tr>\n      <th>Якушева, Ада</th>\n      <td>NaN</td>\n      <td>NaN</td>\n      <td>NaN</td>\n      <td>NaN</td>\n      <td>79145.0</td>\n      <td>0.0</td>\n    </tr>\n    <tr>\n      <th>Янбулатова, Рагида Саитгалеевна</th>\n      <td>NaN</td>\n      <td>NaN</td>\n      <td>NaN</td>\n      <td>NaN</td>\n      <td>3788328.0</td>\n      <td>0.0</td>\n    </tr>\n    <tr>\n      <th>Яшина, Роза Ивановна</th>\n      <td>NaN</td>\n      <td>NaN</td>\n      <td>NaN</td>\n      <td>NaN</td>\n      <td>8739019.0</td>\n      <td>0.0</td>\n    </tr>\n  </tbody>\n</table>\n<p>3589 rows × 6 columns</p>\n</div>"
     },
     "execution_count": 6,
     "metadata": {},
     "output_type": "execute_result"
    }
   ],
   "source": [
    "individual_poets = poets.loc[~(poets.ns > 0) & ~(poets.por_ns > 0) & ~(poets.rwp_ns > 0)]\n",
    "print('Category pages: {}'.format(len(individual_poets)))\n",
    "individual_poets"
   ],
   "metadata": {
    "collapsed": false,
    "pycharm": {
     "name": "#%%\n"
    }
   }
  }
 ],
 "metadata": {
  "kernelspec": {
   "display_name": "Python 3",
   "language": "python",
   "name": "python3"
  },
  "language_info": {
   "codemirror_mode": {
    "name": "ipython",
    "version": 2
   },
   "file_extension": ".py",
   "mimetype": "text/x-python",
   "name": "python",
   "nbconvert_exporter": "python",
   "pygments_lexer": "ipython2",
   "version": "2.7.6"
  }
 },
 "nbformat": 4,
 "nbformat_minor": 0
}