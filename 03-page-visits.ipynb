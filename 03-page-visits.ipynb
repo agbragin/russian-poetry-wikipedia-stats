{
 "cells": [
  {
   "cell_type": "markdown",
   "metadata": {
    "collapsed": true,
    "pycharm": {
     "name": "#%% md\n"
    }
   },
   "source": [
    "# Запрос информации о количестве посещений страниц поэтов в русскоязычной Википедии\n",
    "\n",
    "Анализируем число заходов на страницу по месяцам."
   ]
  },
  {
   "cell_type": "code",
   "execution_count": 1,
   "outputs": [
    {
     "data": {
      "text/plain": "                                                title     pageid     ns  \\\n0      Проект:Литература/Списки/Русские поэты Украины    89076.0  104.0   \n1     Проект:Литература/Списки/Русские поэты XIX века    87816.0  104.0   \n2                           Поэтессы Серебряного века  4692805.0    0.0   \n3                      Русские поэты Серебряного века    87820.0    0.0   \n4                             Русские поэты-футуристы    89092.0    0.0   \n...                                               ...        ...    ...   \n3612                                          Яжевика        NaN    NaN   \n3613                                     Якушева, Ада        NaN    NaN   \n3614                  Янбулатова, Рагида Саитгалеевна        NaN    NaN   \n3615                             Яшина, Роза Ивановна        NaN    NaN   \n3616            Категория:Поэтессы Российской империи        NaN    NaN   \n\n      por_pageid  por_ns  rwp_pageid  rwp_ns  \n0            NaN     NaN         NaN     NaN  \n1            NaN     NaN         NaN     NaN  \n2            NaN     NaN         NaN     NaN  \n3            NaN     NaN         NaN     NaN  \n4            NaN     NaN         NaN     NaN  \n...          ...     ...         ...     ...  \n3612         NaN     NaN   3331686.0     0.0  \n3613         NaN     NaN     79145.0     0.0  \n3614         NaN     NaN   3788328.0     0.0  \n3615         NaN     NaN   8739019.0     0.0  \n3616         NaN     NaN   3412574.0    14.0  \n\n[3617 rows x 7 columns]",
      "text/html": "<div>\n<style scoped>\n    .dataframe tbody tr th:only-of-type {\n        vertical-align: middle;\n    }\n\n    .dataframe tbody tr th {\n        vertical-align: top;\n    }\n\n    .dataframe thead th {\n        text-align: right;\n    }\n</style>\n<table border=\"1\" class=\"dataframe\">\n  <thead>\n    <tr style=\"text-align: right;\">\n      <th></th>\n      <th>title</th>\n      <th>pageid</th>\n      <th>ns</th>\n      <th>por_pageid</th>\n      <th>por_ns</th>\n      <th>rwp_pageid</th>\n      <th>rwp_ns</th>\n    </tr>\n  </thead>\n  <tbody>\n    <tr>\n      <th>0</th>\n      <td>Проект:Литература/Списки/Русские поэты Украины</td>\n      <td>89076.0</td>\n      <td>104.0</td>\n      <td>NaN</td>\n      <td>NaN</td>\n      <td>NaN</td>\n      <td>NaN</td>\n    </tr>\n    <tr>\n      <th>1</th>\n      <td>Проект:Литература/Списки/Русские поэты XIX века</td>\n      <td>87816.0</td>\n      <td>104.0</td>\n      <td>NaN</td>\n      <td>NaN</td>\n      <td>NaN</td>\n      <td>NaN</td>\n    </tr>\n    <tr>\n      <th>2</th>\n      <td>Поэтессы Серебряного века</td>\n      <td>4692805.0</td>\n      <td>0.0</td>\n      <td>NaN</td>\n      <td>NaN</td>\n      <td>NaN</td>\n      <td>NaN</td>\n    </tr>\n    <tr>\n      <th>3</th>\n      <td>Русские поэты Серебряного века</td>\n      <td>87820.0</td>\n      <td>0.0</td>\n      <td>NaN</td>\n      <td>NaN</td>\n      <td>NaN</td>\n      <td>NaN</td>\n    </tr>\n    <tr>\n      <th>4</th>\n      <td>Русские поэты-футуристы</td>\n      <td>89092.0</td>\n      <td>0.0</td>\n      <td>NaN</td>\n      <td>NaN</td>\n      <td>NaN</td>\n      <td>NaN</td>\n    </tr>\n    <tr>\n      <th>...</th>\n      <td>...</td>\n      <td>...</td>\n      <td>...</td>\n      <td>...</td>\n      <td>...</td>\n      <td>...</td>\n      <td>...</td>\n    </tr>\n    <tr>\n      <th>3612</th>\n      <td>Яжевика</td>\n      <td>NaN</td>\n      <td>NaN</td>\n      <td>NaN</td>\n      <td>NaN</td>\n      <td>3331686.0</td>\n      <td>0.0</td>\n    </tr>\n    <tr>\n      <th>3613</th>\n      <td>Якушева, Ада</td>\n      <td>NaN</td>\n      <td>NaN</td>\n      <td>NaN</td>\n      <td>NaN</td>\n      <td>79145.0</td>\n      <td>0.0</td>\n    </tr>\n    <tr>\n      <th>3614</th>\n      <td>Янбулатова, Рагида Саитгалеевна</td>\n      <td>NaN</td>\n      <td>NaN</td>\n      <td>NaN</td>\n      <td>NaN</td>\n      <td>3788328.0</td>\n      <td>0.0</td>\n    </tr>\n    <tr>\n      <th>3615</th>\n      <td>Яшина, Роза Ивановна</td>\n      <td>NaN</td>\n      <td>NaN</td>\n      <td>NaN</td>\n      <td>NaN</td>\n      <td>8739019.0</td>\n      <td>0.0</td>\n    </tr>\n    <tr>\n      <th>3616</th>\n      <td>Категория:Поэтессы Российской империи</td>\n      <td>NaN</td>\n      <td>NaN</td>\n      <td>NaN</td>\n      <td>NaN</td>\n      <td>3412574.0</td>\n      <td>14.0</td>\n    </tr>\n  </tbody>\n</table>\n<p>3617 rows × 7 columns</p>\n</div>"
     },
     "execution_count": 1,
     "metadata": {},
     "output_type": "execute_result"
    }
   ],
   "source": [
    "import pandas as pd\n",
    "\n",
    "poets = pd.read_csv('data/poets-joined.csv')\n",
    "poets.rename(columns={'Unnamed: 0': 'title'}, inplace=True)\n",
    "\n",
    "poets"
   ],
   "metadata": {
    "collapsed": false,
    "pycharm": {
     "name": "#%%\n"
    }
   }
  },
  {
   "cell_type": "markdown",
   "source": [
    "## Запрашиваем статистику для страниц\n",
    "\n",
    "Описание API [здесь](https://wikitech.wikimedia.org/wiki/Analytics/AQS/Pageviews).\n",
    "\n",
    "Данные доступны начиная в 01.08.2015."
   ],
   "metadata": {
    "collapsed": false,
    "pycharm": {
     "name": "#%% md\n"
    }
   }
  },
  {
   "cell_type": "code",
   "execution_count": 8,
   "outputs": [
    {
     "name": "stderr",
     "output_type": "stream",
     "text": [
      "<ipython-input-8-94c59988f2ea>:20: DeprecationWarning: The default dtype for empty Series will be 'object' instead of 'float64' in a future version. Specify a dtype explicitly to silence this warning.\n",
      "  return pd.Series()\n"
     ]
    },
    {
     "data": {
      "text/plain": "                                                title     pageid     ns  \\\n0      Проект:Литература/Списки/Русские поэты Украины    89076.0  104.0   \n1     Проект:Литература/Списки/Русские поэты XIX века    87816.0  104.0   \n2                           Поэтессы Серебряного века  4692805.0    0.0   \n3                      Русские поэты Серебряного века    87820.0    0.0   \n4                             Русские поэты-футуристы    89092.0    0.0   \n...                                               ...        ...    ...   \n3612                                          Яжевика        NaN    NaN   \n3613                                     Якушева, Ада        NaN    NaN   \n3614                  Янбулатова, Рагида Саитгалеевна        NaN    NaN   \n3615                             Яшина, Роза Ивановна        NaN    NaN   \n3616            Категория:Поэтессы Российской империи        NaN    NaN   \n\n      por_pageid  por_ns  rwp_pageid  rwp_ns  2015080100  2015090100  \\\n0            NaN     NaN         NaN     NaN         NaN         NaN   \n1            NaN     NaN         NaN     NaN         NaN         NaN   \n2            NaN     NaN         NaN     NaN      1349.0      1841.0   \n3            NaN     NaN         NaN     NaN      5389.0     14159.0   \n4            NaN     NaN         NaN     NaN       831.0      6138.0   \n...          ...     ...         ...     ...         ...         ...   \n3612         NaN     NaN   3331686.0     0.0      1512.0      1528.0   \n3613         NaN     NaN     79145.0     0.0      1222.0      7037.0   \n3614         NaN     NaN   3788328.0     0.0        73.0        77.0   \n3615         NaN     NaN   8739019.0     0.0         NaN         NaN   \n3616         NaN     NaN   3412574.0    14.0       106.0       119.0   \n\n      2015100100  ...  2020120100  2021010100  2021020100  2021030100  \\\n0            NaN  ...         NaN         NaN         NaN         NaN   \n1            NaN  ...         NaN         NaN         NaN         NaN   \n2         2456.0  ...      2877.0      3034.0      3170.0      3852.0   \n3        22557.0  ...     12937.0     10555.0     10606.0     12186.0   \n4         8135.0  ...      6405.0      4121.0      4617.0      5678.0   \n...          ...  ...         ...         ...         ...         ...   \n3612      1398.0  ...       308.0       322.0       341.0       335.0   \n3613      4053.0  ...      3099.0      2903.0      2615.0      2588.0   \n3614       126.0  ...        91.0        64.0        90.0        81.0   \n3615         NaN  ...         NaN         NaN         NaN       172.0   \n3616       121.0  ...        46.0        71.0       142.0        83.0   \n\n      2021040100  2021050100  2021060100  2021070100  2021080100  2021090100  \n0            NaN         NaN         NaN         NaN         NaN         NaN  \n1            NaN         NaN         NaN         NaN         NaN         NaN  \n2         3223.0      2658.0      2429.0      1977.0      2076.0      2730.0  \n3        13062.0     10484.0      8352.0      5345.0      4741.0     10943.0  \n4         5091.0      3892.0      3839.0      1194.0      1104.0      3455.0  \n...          ...         ...         ...         ...         ...         ...  \n3612       624.0       361.0       545.0       741.0       452.0       396.0  \n3613      3322.0      2501.0      2814.0      2150.0      2327.0      2735.0  \n3614        99.0       191.0        57.0        51.0        60.0        50.0  \n3615        97.0        79.0        40.0        51.0        43.0        48.0  \n3616        96.0        98.0       115.0        74.0       117.0        65.0  \n\n[3617 rows x 81 columns]",
      "text/html": "<div>\n<style scoped>\n    .dataframe tbody tr th:only-of-type {\n        vertical-align: middle;\n    }\n\n    .dataframe tbody tr th {\n        vertical-align: top;\n    }\n\n    .dataframe thead th {\n        text-align: right;\n    }\n</style>\n<table border=\"1\" class=\"dataframe\">\n  <thead>\n    <tr style=\"text-align: right;\">\n      <th></th>\n      <th>title</th>\n      <th>pageid</th>\n      <th>ns</th>\n      <th>por_pageid</th>\n      <th>por_ns</th>\n      <th>rwp_pageid</th>\n      <th>rwp_ns</th>\n      <th>2015080100</th>\n      <th>2015090100</th>\n      <th>2015100100</th>\n      <th>...</th>\n      <th>2020120100</th>\n      <th>2021010100</th>\n      <th>2021020100</th>\n      <th>2021030100</th>\n      <th>2021040100</th>\n      <th>2021050100</th>\n      <th>2021060100</th>\n      <th>2021070100</th>\n      <th>2021080100</th>\n      <th>2021090100</th>\n    </tr>\n  </thead>\n  <tbody>\n    <tr>\n      <th>0</th>\n      <td>Проект:Литература/Списки/Русские поэты Украины</td>\n      <td>89076.0</td>\n      <td>104.0</td>\n      <td>NaN</td>\n      <td>NaN</td>\n      <td>NaN</td>\n      <td>NaN</td>\n      <td>NaN</td>\n      <td>NaN</td>\n      <td>NaN</td>\n      <td>...</td>\n      <td>NaN</td>\n      <td>NaN</td>\n      <td>NaN</td>\n      <td>NaN</td>\n      <td>NaN</td>\n      <td>NaN</td>\n      <td>NaN</td>\n      <td>NaN</td>\n      <td>NaN</td>\n      <td>NaN</td>\n    </tr>\n    <tr>\n      <th>1</th>\n      <td>Проект:Литература/Списки/Русские поэты XIX века</td>\n      <td>87816.0</td>\n      <td>104.0</td>\n      <td>NaN</td>\n      <td>NaN</td>\n      <td>NaN</td>\n      <td>NaN</td>\n      <td>NaN</td>\n      <td>NaN</td>\n      <td>NaN</td>\n      <td>...</td>\n      <td>NaN</td>\n      <td>NaN</td>\n      <td>NaN</td>\n      <td>NaN</td>\n      <td>NaN</td>\n      <td>NaN</td>\n      <td>NaN</td>\n      <td>NaN</td>\n      <td>NaN</td>\n      <td>NaN</td>\n    </tr>\n    <tr>\n      <th>2</th>\n      <td>Поэтессы Серебряного века</td>\n      <td>4692805.0</td>\n      <td>0.0</td>\n      <td>NaN</td>\n      <td>NaN</td>\n      <td>NaN</td>\n      <td>NaN</td>\n      <td>1349.0</td>\n      <td>1841.0</td>\n      <td>2456.0</td>\n      <td>...</td>\n      <td>2877.0</td>\n      <td>3034.0</td>\n      <td>3170.0</td>\n      <td>3852.0</td>\n      <td>3223.0</td>\n      <td>2658.0</td>\n      <td>2429.0</td>\n      <td>1977.0</td>\n      <td>2076.0</td>\n      <td>2730.0</td>\n    </tr>\n    <tr>\n      <th>3</th>\n      <td>Русские поэты Серебряного века</td>\n      <td>87820.0</td>\n      <td>0.0</td>\n      <td>NaN</td>\n      <td>NaN</td>\n      <td>NaN</td>\n      <td>NaN</td>\n      <td>5389.0</td>\n      <td>14159.0</td>\n      <td>22557.0</td>\n      <td>...</td>\n      <td>12937.0</td>\n      <td>10555.0</td>\n      <td>10606.0</td>\n      <td>12186.0</td>\n      <td>13062.0</td>\n      <td>10484.0</td>\n      <td>8352.0</td>\n      <td>5345.0</td>\n      <td>4741.0</td>\n      <td>10943.0</td>\n    </tr>\n    <tr>\n      <th>4</th>\n      <td>Русские поэты-футуристы</td>\n      <td>89092.0</td>\n      <td>0.0</td>\n      <td>NaN</td>\n      <td>NaN</td>\n      <td>NaN</td>\n      <td>NaN</td>\n      <td>831.0</td>\n      <td>6138.0</td>\n      <td>8135.0</td>\n      <td>...</td>\n      <td>6405.0</td>\n      <td>4121.0</td>\n      <td>4617.0</td>\n      <td>5678.0</td>\n      <td>5091.0</td>\n      <td>3892.0</td>\n      <td>3839.0</td>\n      <td>1194.0</td>\n      <td>1104.0</td>\n      <td>3455.0</td>\n    </tr>\n    <tr>\n      <th>...</th>\n      <td>...</td>\n      <td>...</td>\n      <td>...</td>\n      <td>...</td>\n      <td>...</td>\n      <td>...</td>\n      <td>...</td>\n      <td>...</td>\n      <td>...</td>\n      <td>...</td>\n      <td>...</td>\n      <td>...</td>\n      <td>...</td>\n      <td>...</td>\n      <td>...</td>\n      <td>...</td>\n      <td>...</td>\n      <td>...</td>\n      <td>...</td>\n      <td>...</td>\n      <td>...</td>\n    </tr>\n    <tr>\n      <th>3612</th>\n      <td>Яжевика</td>\n      <td>NaN</td>\n      <td>NaN</td>\n      <td>NaN</td>\n      <td>NaN</td>\n      <td>3331686.0</td>\n      <td>0.0</td>\n      <td>1512.0</td>\n      <td>1528.0</td>\n      <td>1398.0</td>\n      <td>...</td>\n      <td>308.0</td>\n      <td>322.0</td>\n      <td>341.0</td>\n      <td>335.0</td>\n      <td>624.0</td>\n      <td>361.0</td>\n      <td>545.0</td>\n      <td>741.0</td>\n      <td>452.0</td>\n      <td>396.0</td>\n    </tr>\n    <tr>\n      <th>3613</th>\n      <td>Якушева, Ада</td>\n      <td>NaN</td>\n      <td>NaN</td>\n      <td>NaN</td>\n      <td>NaN</td>\n      <td>79145.0</td>\n      <td>0.0</td>\n      <td>1222.0</td>\n      <td>7037.0</td>\n      <td>4053.0</td>\n      <td>...</td>\n      <td>3099.0</td>\n      <td>2903.0</td>\n      <td>2615.0</td>\n      <td>2588.0</td>\n      <td>3322.0</td>\n      <td>2501.0</td>\n      <td>2814.0</td>\n      <td>2150.0</td>\n      <td>2327.0</td>\n      <td>2735.0</td>\n    </tr>\n    <tr>\n      <th>3614</th>\n      <td>Янбулатова, Рагида Саитгалеевна</td>\n      <td>NaN</td>\n      <td>NaN</td>\n      <td>NaN</td>\n      <td>NaN</td>\n      <td>3788328.0</td>\n      <td>0.0</td>\n      <td>73.0</td>\n      <td>77.0</td>\n      <td>126.0</td>\n      <td>...</td>\n      <td>91.0</td>\n      <td>64.0</td>\n      <td>90.0</td>\n      <td>81.0</td>\n      <td>99.0</td>\n      <td>191.0</td>\n      <td>57.0</td>\n      <td>51.0</td>\n      <td>60.0</td>\n      <td>50.0</td>\n    </tr>\n    <tr>\n      <th>3615</th>\n      <td>Яшина, Роза Ивановна</td>\n      <td>NaN</td>\n      <td>NaN</td>\n      <td>NaN</td>\n      <td>NaN</td>\n      <td>8739019.0</td>\n      <td>0.0</td>\n      <td>NaN</td>\n      <td>NaN</td>\n      <td>NaN</td>\n      <td>...</td>\n      <td>NaN</td>\n      <td>NaN</td>\n      <td>NaN</td>\n      <td>172.0</td>\n      <td>97.0</td>\n      <td>79.0</td>\n      <td>40.0</td>\n      <td>51.0</td>\n      <td>43.0</td>\n      <td>48.0</td>\n    </tr>\n    <tr>\n      <th>3616</th>\n      <td>Категория:Поэтессы Российской империи</td>\n      <td>NaN</td>\n      <td>NaN</td>\n      <td>NaN</td>\n      <td>NaN</td>\n      <td>3412574.0</td>\n      <td>14.0</td>\n      <td>106.0</td>\n      <td>119.0</td>\n      <td>121.0</td>\n      <td>...</td>\n      <td>46.0</td>\n      <td>71.0</td>\n      <td>142.0</td>\n      <td>83.0</td>\n      <td>96.0</td>\n      <td>98.0</td>\n      <td>115.0</td>\n      <td>74.0</td>\n      <td>117.0</td>\n      <td>65.0</td>\n    </tr>\n  </tbody>\n</table>\n<p>3617 rows × 81 columns</p>\n</div>"
     },
     "execution_count": 8,
     "metadata": {},
     "output_type": "execute_result"
    }
   ],
   "source": [
    "import requests\n",
    "\n",
    "S = requests.Session()\n",
    "\n",
    "start_date = '20150801'\n",
    "end_date = '20210930'\n",
    "\n",
    "headers = {\n",
    "    'User-Agent': 'RussianPoetsResearchBot/1.0 (https://github.com/agbragin/russian-poetry-wikipedia-stats; https://github.com/agbragin)'\n",
    "}\n",
    "\n",
    "def request_stats(article, start_date, end_date):\n",
    "    URL = 'https://wikimedia.org/api/rest_v1/metrics/pageviews/per-article/ru.wikipedia/all-access/all-agents/{0}/monthly/{1}/{2}'\\\n",
    "        .format(article, start_date, end_date)\n",
    "\n",
    "    r = S.get(URL, headers=headers)\n",
    "    data = r.json()\n",
    "\n",
    "    if 'items' not in data:\n",
    "        return pd.Series()\n",
    "\n",
    "    return pd.Series({item['timestamp']:item['views'] for item in data['items']})\n",
    "\n",
    "result = poets.merge(poets.apply(lambda x: request_stats(x['title'], start_date, end_date), axis=1), left_index=True, right_index=True)\n",
    "result"
   ],
   "metadata": {
    "collapsed": false,
    "pycharm": {
     "name": "#%%\n"
    }
   }
  },
  {
   "cell_type": "code",
   "execution_count": 10,
   "outputs": [],
   "source": [
    "result.to_csv('data/poet-page-visit-stats.csv', encoding='utf8')"
   ],
   "metadata": {
    "collapsed": false,
    "pycharm": {
     "name": "#%%\n"
    }
   }
  }
 ],
 "metadata": {
  "kernelspec": {
   "display_name": "Python 3",
   "language": "python",
   "name": "python3"
  },
  "language_info": {
   "codemirror_mode": {
    "name": "ipython",
    "version": 2
   },
   "file_extension": ".py",
   "mimetype": "text/x-python",
   "name": "python",
   "nbconvert_exporter": "python",
   "pygments_lexer": "ipython2",
   "version": "2.7.6"
  }
 },
 "nbformat": 4,
 "nbformat_minor": 0
}