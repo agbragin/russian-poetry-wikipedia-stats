{
 "cells": [
  {
   "cell_type": "markdown",
   "metadata": {
    "collapsed": true,
    "pycharm": {
     "name": "#%% md\n"
    }
   },
   "source": [
    "# Запрос информации о количестве посещений страниц поэтов в русскоязычной Википедии\n",
    "\n",
    "Анализируем число заходов на страницу по месяцам."
   ]
  },
  {
   "cell_type": "code",
   "execution_count": 3,
   "outputs": [
    {
     "data": {
      "text/plain": "                                                title     pageid     ns  \\\n0      Проект:Литература/Списки/Русские поэты Украины    89076.0  104.0   \n1     Проект:Литература/Списки/Русские поэты XIX века    87816.0  104.0   \n2                           Поэтессы Серебряного века  4692805.0    0.0   \n3                      Русские поэты Серебряного века    87820.0    0.0   \n4                             Русские поэты-футуристы    89092.0    0.0   \n...                                               ...        ...    ...   \n3529                                          Яжевика        NaN    NaN   \n3530                                     Якушева, Ада        NaN    NaN   \n3531                  Янбулатова, Рагида Саитгалеевна        NaN    NaN   \n3532            Категория:Поэтессы Российской империи        NaN    NaN   \n3533              Категория:Поэтессы Серебряного века        NaN    NaN   \n\n      por_pageid  por_ns  rwp_pageid  rwp_ns  \n0            NaN     NaN         NaN     NaN  \n1            NaN     NaN         NaN     NaN  \n2            NaN     NaN         NaN     NaN  \n3            NaN     NaN         NaN     NaN  \n4            NaN     NaN         NaN     NaN  \n...          ...     ...         ...     ...  \n3529         NaN     NaN   3331686.0     0.0  \n3530         NaN     NaN     79145.0     0.0  \n3531         NaN     NaN   3788328.0     0.0  \n3532         NaN     NaN   3412574.0    14.0  \n3533         NaN     NaN   5032790.0    14.0  \n\n[3534 rows x 7 columns]",
      "text/html": "<div>\n<style scoped>\n    .dataframe tbody tr th:only-of-type {\n        vertical-align: middle;\n    }\n\n    .dataframe tbody tr th {\n        vertical-align: top;\n    }\n\n    .dataframe thead th {\n        text-align: right;\n    }\n</style>\n<table border=\"1\" class=\"dataframe\">\n  <thead>\n    <tr style=\"text-align: right;\">\n      <th></th>\n      <th>title</th>\n      <th>pageid</th>\n      <th>ns</th>\n      <th>por_pageid</th>\n      <th>por_ns</th>\n      <th>rwp_pageid</th>\n      <th>rwp_ns</th>\n    </tr>\n  </thead>\n  <tbody>\n    <tr>\n      <th>0</th>\n      <td>Проект:Литература/Списки/Русские поэты Украины</td>\n      <td>89076.0</td>\n      <td>104.0</td>\n      <td>NaN</td>\n      <td>NaN</td>\n      <td>NaN</td>\n      <td>NaN</td>\n    </tr>\n    <tr>\n      <th>1</th>\n      <td>Проект:Литература/Списки/Русские поэты XIX века</td>\n      <td>87816.0</td>\n      <td>104.0</td>\n      <td>NaN</td>\n      <td>NaN</td>\n      <td>NaN</td>\n      <td>NaN</td>\n    </tr>\n    <tr>\n      <th>2</th>\n      <td>Поэтессы Серебряного века</td>\n      <td>4692805.0</td>\n      <td>0.0</td>\n      <td>NaN</td>\n      <td>NaN</td>\n      <td>NaN</td>\n      <td>NaN</td>\n    </tr>\n    <tr>\n      <th>3</th>\n      <td>Русские поэты Серебряного века</td>\n      <td>87820.0</td>\n      <td>0.0</td>\n      <td>NaN</td>\n      <td>NaN</td>\n      <td>NaN</td>\n      <td>NaN</td>\n    </tr>\n    <tr>\n      <th>4</th>\n      <td>Русские поэты-футуристы</td>\n      <td>89092.0</td>\n      <td>0.0</td>\n      <td>NaN</td>\n      <td>NaN</td>\n      <td>NaN</td>\n      <td>NaN</td>\n    </tr>\n    <tr>\n      <th>...</th>\n      <td>...</td>\n      <td>...</td>\n      <td>...</td>\n      <td>...</td>\n      <td>...</td>\n      <td>...</td>\n      <td>...</td>\n    </tr>\n    <tr>\n      <th>3529</th>\n      <td>Яжевика</td>\n      <td>NaN</td>\n      <td>NaN</td>\n      <td>NaN</td>\n      <td>NaN</td>\n      <td>3331686.0</td>\n      <td>0.0</td>\n    </tr>\n    <tr>\n      <th>3530</th>\n      <td>Якушева, Ада</td>\n      <td>NaN</td>\n      <td>NaN</td>\n      <td>NaN</td>\n      <td>NaN</td>\n      <td>79145.0</td>\n      <td>0.0</td>\n    </tr>\n    <tr>\n      <th>3531</th>\n      <td>Янбулатова, Рагида Саитгалеевна</td>\n      <td>NaN</td>\n      <td>NaN</td>\n      <td>NaN</td>\n      <td>NaN</td>\n      <td>3788328.0</td>\n      <td>0.0</td>\n    </tr>\n    <tr>\n      <th>3532</th>\n      <td>Категория:Поэтессы Российской империи</td>\n      <td>NaN</td>\n      <td>NaN</td>\n      <td>NaN</td>\n      <td>NaN</td>\n      <td>3412574.0</td>\n      <td>14.0</td>\n    </tr>\n    <tr>\n      <th>3533</th>\n      <td>Категория:Поэтессы Серебряного века</td>\n      <td>NaN</td>\n      <td>NaN</td>\n      <td>NaN</td>\n      <td>NaN</td>\n      <td>5032790.0</td>\n      <td>14.0</td>\n    </tr>\n  </tbody>\n</table>\n<p>3534 rows × 7 columns</p>\n</div>"
     },
     "execution_count": 3,
     "metadata": {},
     "output_type": "execute_result"
    }
   ],
   "source": [
    "import pandas as pd\n",
    "\n",
    "poets = pd.read_csv('data/poets-joined.csv')\n",
    "poets.rename(columns={'Unnamed: 0': 'title'}, inplace=True)\n",
    "\n",
    "poets"
   ],
   "metadata": {
    "collapsed": false,
    "pycharm": {
     "name": "#%%\n"
    }
   }
  },
  {
   "cell_type": "markdown",
   "source": [
    "## Запрашиваем статистику для страниц\n",
    "\n",
    "Описание API [здесь](https://wikitech.wikimedia.org/wiki/Analytics/AQS/Pageviews).\n",
    "\n",
    "Данные доступны начиная в 01.08.2015."
   ],
   "metadata": {
    "collapsed": false,
    "pycharm": {
     "name": "#%% md\n"
    }
   }
  },
  {
   "cell_type": "code",
   "execution_count": 4,
   "outputs": [
    {
     "name": "stderr",
     "output_type": "stream",
     "text": [
      "<ipython-input-4-8727af38e5e4>:16: DeprecationWarning: The default dtype for empty Series will be 'object' instead of 'float64' in a future version. Specify a dtype explicitly to silence this warning.\n",
      "  return pd.Series()\n"
     ]
    },
    {
     "data": {
      "text/plain": "                                                title     pageid     ns  \\\n0      Проект:Литература/Списки/Русские поэты Украины    89076.0  104.0   \n1     Проект:Литература/Списки/Русские поэты XIX века    87816.0  104.0   \n2                           Поэтессы Серебряного века  4692805.0    0.0   \n3                      Русские поэты Серебряного века    87820.0    0.0   \n4                             Русские поэты-футуристы    89092.0    0.0   \n...                                               ...        ...    ...   \n3529                                          Яжевика        NaN    NaN   \n3530                                     Якушева, Ада        NaN    NaN   \n3531                  Янбулатова, Рагида Саитгалеевна        NaN    NaN   \n3532            Категория:Поэтессы Российской империи        NaN    NaN   \n3533              Категория:Поэтессы Серебряного века        NaN    NaN   \n\n      por_pageid  por_ns  rwp_pageid  rwp_ns  2015080100  2015090100  \\\n0            NaN     NaN         NaN     NaN         NaN         NaN   \n1            NaN     NaN         NaN     NaN         NaN         NaN   \n2            NaN     NaN         NaN     NaN      1349.0      1841.0   \n3            NaN     NaN         NaN     NaN      5389.0     14159.0   \n4            NaN     NaN         NaN     NaN       831.0      6138.0   \n...          ...     ...         ...     ...         ...         ...   \n3529         NaN     NaN   3331686.0     0.0      1512.0      1528.0   \n3530         NaN     NaN     79145.0     0.0      1222.0      7037.0   \n3531         NaN     NaN   3788328.0     0.0        73.0        77.0   \n3532         NaN     NaN   3412574.0    14.0       106.0       119.0   \n3533         NaN     NaN   5032790.0    14.0       250.0       177.0   \n\n      2015100100  ...  2020020100  2020030100  2020040100  2020050100  \\\n0            NaN  ...         NaN         NaN         NaN         NaN   \n1            NaN  ...         NaN         NaN         NaN         NaN   \n2         2456.0  ...      2944.0      2874.0      3249.0      3053.0   \n3        22557.0  ...      9191.0     10400.0     16523.0     15185.0   \n4         8135.0  ...      4200.0      4400.0      9639.0      7992.0   \n...          ...  ...         ...         ...         ...         ...   \n3529      1398.0  ...       400.0       384.0       674.0       467.0   \n3530      4053.0  ...      2744.0      2427.0      5053.0      3766.0   \n3531       126.0  ...        96.0        88.0        98.0       152.0   \n3532       121.0  ...        59.0        70.0        77.0        67.0   \n3533       227.0  ...       355.0       243.0       359.0       226.0   \n\n      2020060100  2020070100  2020080100  2020090100  2020100100  2020110100  \n0            NaN         NaN         NaN         NaN         NaN         NaN  \n1            NaN         NaN         NaN         NaN         NaN         NaN  \n2         2294.0      2103.0      2294.0      2242.0      2545.0      2475.0  \n3         9723.0      3921.0      5854.0      9789.0     10338.0     11500.0  \n4         6620.0      1538.0      1101.0      4509.0      5848.0      5218.0  \n...          ...         ...         ...         ...         ...         ...  \n3529       413.0       414.0       370.0       318.0       365.0       378.0  \n3530      3432.0      2634.0      3629.0      4404.0      4972.0      4209.0  \n3531        63.0        89.0        79.0        57.0        70.0        52.0  \n3532        49.0        53.0        52.0        61.0        42.0        67.0  \n3533       201.0       165.0       165.0       201.0       180.0       185.0  \n\n[3534 rows x 71 columns]",
      "text/html": "<div>\n<style scoped>\n    .dataframe tbody tr th:only-of-type {\n        vertical-align: middle;\n    }\n\n    .dataframe tbody tr th {\n        vertical-align: top;\n    }\n\n    .dataframe thead th {\n        text-align: right;\n    }\n</style>\n<table border=\"1\" class=\"dataframe\">\n  <thead>\n    <tr style=\"text-align: right;\">\n      <th></th>\n      <th>title</th>\n      <th>pageid</th>\n      <th>ns</th>\n      <th>por_pageid</th>\n      <th>por_ns</th>\n      <th>rwp_pageid</th>\n      <th>rwp_ns</th>\n      <th>2015080100</th>\n      <th>2015090100</th>\n      <th>2015100100</th>\n      <th>...</th>\n      <th>2020020100</th>\n      <th>2020030100</th>\n      <th>2020040100</th>\n      <th>2020050100</th>\n      <th>2020060100</th>\n      <th>2020070100</th>\n      <th>2020080100</th>\n      <th>2020090100</th>\n      <th>2020100100</th>\n      <th>2020110100</th>\n    </tr>\n  </thead>\n  <tbody>\n    <tr>\n      <th>0</th>\n      <td>Проект:Литература/Списки/Русские поэты Украины</td>\n      <td>89076.0</td>\n      <td>104.0</td>\n      <td>NaN</td>\n      <td>NaN</td>\n      <td>NaN</td>\n      <td>NaN</td>\n      <td>NaN</td>\n      <td>NaN</td>\n      <td>NaN</td>\n      <td>...</td>\n      <td>NaN</td>\n      <td>NaN</td>\n      <td>NaN</td>\n      <td>NaN</td>\n      <td>NaN</td>\n      <td>NaN</td>\n      <td>NaN</td>\n      <td>NaN</td>\n      <td>NaN</td>\n      <td>NaN</td>\n    </tr>\n    <tr>\n      <th>1</th>\n      <td>Проект:Литература/Списки/Русские поэты XIX века</td>\n      <td>87816.0</td>\n      <td>104.0</td>\n      <td>NaN</td>\n      <td>NaN</td>\n      <td>NaN</td>\n      <td>NaN</td>\n      <td>NaN</td>\n      <td>NaN</td>\n      <td>NaN</td>\n      <td>...</td>\n      <td>NaN</td>\n      <td>NaN</td>\n      <td>NaN</td>\n      <td>NaN</td>\n      <td>NaN</td>\n      <td>NaN</td>\n      <td>NaN</td>\n      <td>NaN</td>\n      <td>NaN</td>\n      <td>NaN</td>\n    </tr>\n    <tr>\n      <th>2</th>\n      <td>Поэтессы Серебряного века</td>\n      <td>4692805.0</td>\n      <td>0.0</td>\n      <td>NaN</td>\n      <td>NaN</td>\n      <td>NaN</td>\n      <td>NaN</td>\n      <td>1349.0</td>\n      <td>1841.0</td>\n      <td>2456.0</td>\n      <td>...</td>\n      <td>2944.0</td>\n      <td>2874.0</td>\n      <td>3249.0</td>\n      <td>3053.0</td>\n      <td>2294.0</td>\n      <td>2103.0</td>\n      <td>2294.0</td>\n      <td>2242.0</td>\n      <td>2545.0</td>\n      <td>2475.0</td>\n    </tr>\n    <tr>\n      <th>3</th>\n      <td>Русские поэты Серебряного века</td>\n      <td>87820.0</td>\n      <td>0.0</td>\n      <td>NaN</td>\n      <td>NaN</td>\n      <td>NaN</td>\n      <td>NaN</td>\n      <td>5389.0</td>\n      <td>14159.0</td>\n      <td>22557.0</td>\n      <td>...</td>\n      <td>9191.0</td>\n      <td>10400.0</td>\n      <td>16523.0</td>\n      <td>15185.0</td>\n      <td>9723.0</td>\n      <td>3921.0</td>\n      <td>5854.0</td>\n      <td>9789.0</td>\n      <td>10338.0</td>\n      <td>11500.0</td>\n    </tr>\n    <tr>\n      <th>4</th>\n      <td>Русские поэты-футуристы</td>\n      <td>89092.0</td>\n      <td>0.0</td>\n      <td>NaN</td>\n      <td>NaN</td>\n      <td>NaN</td>\n      <td>NaN</td>\n      <td>831.0</td>\n      <td>6138.0</td>\n      <td>8135.0</td>\n      <td>...</td>\n      <td>4200.0</td>\n      <td>4400.0</td>\n      <td>9639.0</td>\n      <td>7992.0</td>\n      <td>6620.0</td>\n      <td>1538.0</td>\n      <td>1101.0</td>\n      <td>4509.0</td>\n      <td>5848.0</td>\n      <td>5218.0</td>\n    </tr>\n    <tr>\n      <th>...</th>\n      <td>...</td>\n      <td>...</td>\n      <td>...</td>\n      <td>...</td>\n      <td>...</td>\n      <td>...</td>\n      <td>...</td>\n      <td>...</td>\n      <td>...</td>\n      <td>...</td>\n      <td>...</td>\n      <td>...</td>\n      <td>...</td>\n      <td>...</td>\n      <td>...</td>\n      <td>...</td>\n      <td>...</td>\n      <td>...</td>\n      <td>...</td>\n      <td>...</td>\n      <td>...</td>\n    </tr>\n    <tr>\n      <th>3529</th>\n      <td>Яжевика</td>\n      <td>NaN</td>\n      <td>NaN</td>\n      <td>NaN</td>\n      <td>NaN</td>\n      <td>3331686.0</td>\n      <td>0.0</td>\n      <td>1512.0</td>\n      <td>1528.0</td>\n      <td>1398.0</td>\n      <td>...</td>\n      <td>400.0</td>\n      <td>384.0</td>\n      <td>674.0</td>\n      <td>467.0</td>\n      <td>413.0</td>\n      <td>414.0</td>\n      <td>370.0</td>\n      <td>318.0</td>\n      <td>365.0</td>\n      <td>378.0</td>\n    </tr>\n    <tr>\n      <th>3530</th>\n      <td>Якушева, Ада</td>\n      <td>NaN</td>\n      <td>NaN</td>\n      <td>NaN</td>\n      <td>NaN</td>\n      <td>79145.0</td>\n      <td>0.0</td>\n      <td>1222.0</td>\n      <td>7037.0</td>\n      <td>4053.0</td>\n      <td>...</td>\n      <td>2744.0</td>\n      <td>2427.0</td>\n      <td>5053.0</td>\n      <td>3766.0</td>\n      <td>3432.0</td>\n      <td>2634.0</td>\n      <td>3629.0</td>\n      <td>4404.0</td>\n      <td>4972.0</td>\n      <td>4209.0</td>\n    </tr>\n    <tr>\n      <th>3531</th>\n      <td>Янбулатова, Рагида Саитгалеевна</td>\n      <td>NaN</td>\n      <td>NaN</td>\n      <td>NaN</td>\n      <td>NaN</td>\n      <td>3788328.0</td>\n      <td>0.0</td>\n      <td>73.0</td>\n      <td>77.0</td>\n      <td>126.0</td>\n      <td>...</td>\n      <td>96.0</td>\n      <td>88.0</td>\n      <td>98.0</td>\n      <td>152.0</td>\n      <td>63.0</td>\n      <td>89.0</td>\n      <td>79.0</td>\n      <td>57.0</td>\n      <td>70.0</td>\n      <td>52.0</td>\n    </tr>\n    <tr>\n      <th>3532</th>\n      <td>Категория:Поэтессы Российской империи</td>\n      <td>NaN</td>\n      <td>NaN</td>\n      <td>NaN</td>\n      <td>NaN</td>\n      <td>3412574.0</td>\n      <td>14.0</td>\n      <td>106.0</td>\n      <td>119.0</td>\n      <td>121.0</td>\n      <td>...</td>\n      <td>59.0</td>\n      <td>70.0</td>\n      <td>77.0</td>\n      <td>67.0</td>\n      <td>49.0</td>\n      <td>53.0</td>\n      <td>52.0</td>\n      <td>61.0</td>\n      <td>42.0</td>\n      <td>67.0</td>\n    </tr>\n    <tr>\n      <th>3533</th>\n      <td>Категория:Поэтессы Серебряного века</td>\n      <td>NaN</td>\n      <td>NaN</td>\n      <td>NaN</td>\n      <td>NaN</td>\n      <td>5032790.0</td>\n      <td>14.0</td>\n      <td>250.0</td>\n      <td>177.0</td>\n      <td>227.0</td>\n      <td>...</td>\n      <td>355.0</td>\n      <td>243.0</td>\n      <td>359.0</td>\n      <td>226.0</td>\n      <td>201.0</td>\n      <td>165.0</td>\n      <td>165.0</td>\n      <td>201.0</td>\n      <td>180.0</td>\n      <td>185.0</td>\n    </tr>\n  </tbody>\n</table>\n<p>3534 rows × 71 columns</p>\n</div>"
     },
     "execution_count": 4,
     "metadata": {},
     "output_type": "execute_result"
    }
   ],
   "source": [
    "import requests\n",
    "\n",
    "S = requests.Session()\n",
    "\n",
    "start_date = '20150801'\n",
    "end_date = '20201130'\n",
    "\n",
    "def request_stats(article, start_date, end_date):\n",
    "    URL = 'https://wikimedia.org/api/rest_v1/metrics/pageviews/per-article/ru.wikipedia/all-access/all-agents/{0}/monthly/{1}/{2}'\\\n",
    "        .format(article, start_date, end_date)\n",
    "\n",
    "    r = S.get(URL)\n",
    "    data = r.json()\n",
    "\n",
    "    if 'items' not in data:\n",
    "        return pd.Series()\n",
    "\n",
    "    return pd.Series({item['timestamp']:item['views'] for item in data['items']})\n",
    "\n",
    "result = poets.merge(poets.apply(lambda x: request_stats(x['title'], start_date, end_date), axis=1), left_index=True, right_index=True)\n",
    "result"
   ],
   "metadata": {
    "collapsed": false,
    "pycharm": {
     "name": "#%%\n"
    }
   }
  },
  {
   "cell_type": "code",
   "execution_count": 5,
   "outputs": [],
   "source": [
    "result.to_csv('data/poet-page-visit-stats.csv', encoding='utf8')"
   ],
   "metadata": {
    "collapsed": false,
    "pycharm": {
     "name": "#%%\n"
    }
   }
  }
 ],
 "metadata": {
  "kernelspec": {
   "display_name": "Python 3",
   "language": "python",
   "name": "python3"
  },
  "language_info": {
   "codemirror_mode": {
    "name": "ipython",
    "version": 2
   },
   "file_extension": ".py",
   "mimetype": "text/x-python",
   "name": "python",
   "nbconvert_exporter": "python",
   "pygments_lexer": "ipython2",
   "version": "2.7.6"
  }
 },
 "nbformat": 4,
 "nbformat_minor": 0
}