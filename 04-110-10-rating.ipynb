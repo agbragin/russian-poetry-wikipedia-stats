{
 "cells": [
  {
   "cell_type": "markdown",
   "source": [
    "# Данные проекта «110 к 10 с чем-то»\n",
    "\n",
    "Курицын В. Проект «110 к 10 с чем-то»\n",
    "\n",
    "Файл рейтинга поэтов был скачан по [ссылке](http://old.guelman.ru/slava/10/10%20poe.htm)"
   ],
   "metadata": {
    "collapsed": false
   }
  },
  {
   "cell_type": "code",
   "execution_count": 1,
   "metadata": {
    "collapsed": true
   },
   "outputs": [
    {
     "name": "stdout",
     "output_type": "stream",
     "text": [
      "Bad record: <p><font color=\"#FF0000\" size=\"+2\"><b>Рейтинг поэтов</b></font></p>\n",
      "Bad record: <p align=\"CENTER\"><a href=\"http://old.guelman.ru/index.html\"><img alt=\"\" border=\"0\" height=\"31\" src=\"./110-10-rating_files/marat88.gif\" width=\"88\"/></a></p>\n",
      "Bad record: <p>\n",
      "<!-- banner -->\n",
      "<iframe frameborder=\"0\" height=\"60\" marginheight=\"0\" marginwidth=\"0\" scrolling=\"no\" src=\"./110-10-rating_files/slava.html\" width=\"470\"><a href=\"http://rotabanner.gif.ru/cgi-bin/href/slava?6785434986631\" target=\"_top\"><img alt=\"ArtRuNet\" border=\"0\" height=\"60\" ismap=\"\" src=\"http://rotabanner.gif.ru/cgi-bin/banner/slava?6785434986631&amp;курицын, слава, современная русская литература\" width=\"470\"/></a></iframe>\n",
      "</p>\n"
     ]
    },
    {
     "data": {
      "text/plain": "[('Сергей Гандлевский', '38', 1),\n ('Тимур Кибиров', '35', 2),\n ('Лев Лосев', '31', 3),\n ('Дмитрий А.Пригов', '28', 4),\n ('Елена Шварц', '27', 5),\n ('Лев Рубинштейн', '27', 5),\n ('Вера Павлова', '25', 7),\n ('Дмитрий Воденников', '24', 8),\n ('Елена Фанайлова', '23', 9),\n ('Шиш Брянский', '22', 10),\n ('Виктор Соснора', '20', 11),\n ('Всеволод Некрасов', '19', 12),\n ('Иван Жданов', '18', 13),\n ('Михаил Айзенберг', '17', 14),\n ('Ольга Седакова', '17', 14),\n ('Александр Анашевич', '15', 16),\n ('Александр Еременко', '15', 16),\n ('Александр Кушнер', '15', 16),\n ('Светлана Кекова', '14', 19),\n ('Бахыт Кенжеев', '14', 19),\n ('Алексей Парщиков', '14', 19),\n ('Мария Степанова', '14', 19),\n ('Ярослав Могутин', '13', 23),\n ('Геннадий Айги', '13', 23),\n ('Владимир Гандельсман', '12', 25),\n ('Аркадий Драгомощенко', '12', 25),\n ('Станислав Львовский', '11', 25),\n ('Сергей Стратановский', '12', 25),\n ('Михаил Еремин', '10', 29),\n ('Виталий Кальпиди', '9', 30),\n ('Евгений Рейн', '9', 30),\n ('Владимир Строчков', '9', 30),\n ('Алексей Цветков', '9', 30),\n ('Олег Чухонцев', '9', 30),\n ('Николай Кононов', '8', 35),\n ('Евгения Лавут', '8', 35),\n ('Кирилл Медведев', '8', 35),\n ('Полина Барскова', '7', 38),\n ('Дмитрий Волчек', '7', 38),\n ('Псой Короленко', '7', 38),\n ('Александр Левин', '7', 38),\n ('Герман Лукомников', '7', 38),\n ('Мирослав Немиров', '7', 38),\n ('Белла Ахмадулина', '6', 44),\n ('Дмитрий Быков', '6', 44),\n ('Борис Рыжий', '6', 44),\n ('Максим Амелин', '5', 47),\n ('Борис Гребенщиков', '5', 47),\n ('Сергей Завьялов', '5', 47),\n ('Николай Звягинцев', '5', 47),\n ('Станислав Красовицкий', '5', 47),\n ('Александра Петрова', '5', 47),\n ('Игорь Померанцев', '5', 47),\n ('Земфира Рамазанова', '5', 47),\n ('Александр Скидан', '5', 47),\n ('Михаил Сухотин', '5', 47),\n ('Александр Шаталов', '5', 47),\n ('Глеб Шульпяков', '5', 47),\n ('Дмитрий Авалиани', '4', 59),\n ('Иван Ахметьев', '4', 59),\n ('Александр Бренер', '4', 59),\n ('Андрей Вознесенский', '4', 59),\n ('Юрий Кузнецов', '4', 59),\n ('Владимир Кучерявкин', '4', 59),\n ('Эдуард Лимонов', '4', 59),\n ('Инна Лиснянская', '4', 59),\n ('Мария Максимова', '4', 74),\n ('Юнна Мориц', '4', 59),\n ('Олеся Николаева', '4', 59),\n ('Михаил Нилин', '4', 59),\n ('Андрей Поляков', '4', 59),\n ('Владимир Салимон', '4', 59),\n ('Сергей Тимофеев', '4', 59),\n ('Шамшад Абдуллаев', '3', 74),\n ('Владимир Аристов', '3', 74),\n ('Леонид Виноградов', '3', 74),\n ('Анри Волохонский', '3', 74),\n ('Сергей Вольф', '3', 74),\n ('Дмитрий Голынко-Вольфсон', '3', 74),\n ('Михаил Гронас', '3', 74),\n ('Григорий Дашевский', '3', 74),\n ('Игорь Иртеньев', '3', 74),\n ('Елена Костылева', '3', 74),\n ('Григорий Кружков', '3', 74),\n ('Юрий Кублановский', '3', 74),\n ('Егор Летов', '3', 74),\n ('Игорь Меламед', '3', 74),\n ('Вадим Месяц', '3', 74),\n ('Анатолий Найман', '3', 74),\n ('Влад Нескажу', '3', 74),\n ('Иван Овчинников', '3', 74),\n ('Дмитрий Соколов', '3', 74),\n ('Василий Филиппов', '3', 74),\n ('Валерий Шубинский', '3', 74),\n ('Михаил Щербаков', '3', 74),\n ('Татьяна Щербина', '3', 74),\n ('Санджар Янышев', '3', 74),\n ('Николай Байтов', '2', 98),\n ('Иосиф Бродский', '2', 98),\n ('Владимир Бурич', '2', 98),\n ('Дмитрий Веденяпин', '2', 98),\n ('Татьяна Вольтская', '2', 98),\n ('Владлен Гаврильчик', '2', 98),\n ('Линор Горалик', '2', 98),\n ('Наталья Горбаневская', '2', 98),\n ('Юлий Гуголев', '2', 98),\n ('Валерий Дашкевич', '2', 98),\n ('Александр Денисенко', '2', 98),\n ('Всеволод Зельченко', '2', 98),\n ('Нина Искренко', '2', 94),\n ('Евгений Карасев', '2', 98),\n ('Виктор Коваль', '2', 98),\n ('Виктор Кривулин', '2', 98),\n ('Семен Липкин', '2', 98),\n ('Света Литвак', '2', 98),\n ('Ольга Мартынова', '2', 98),\n ('Лариса Миллер', '2', 98),\n ('Сергей Морейно', '2', 98),\n ('Ры Никонова', '2', 98),\n ('Олег Пащенко', '2', 98),\n ('Алексей Пурин', '2', 98),\n ('Александр Радашкевич', '2', 98),\n ('Ольга Родионова', '2', 98),\n ('Генрих Сапгир', '2', 98),\n ('Андрей Санников', '2', 98),\n ('Андрей Сен-Сеньков', '2', 98),\n ('Вадим Степанцов', '2', 98),\n ('Алексей Тимаховский', '2', 98),\n ('Алексей Шельвах', '2', 98),\n ('Эдуард Шендерович', '2', 98),\n ('Юдик Шерман', '2', 98),\n ('Аркадий Штыпель', '2', 98),\n ('Олег Юрьев', '2', 98),\n ('Александр Алейник', 1, 134),\n ('Алексей Алехин', 1, 134),\n ('Анна Альчук', 1, 134),\n ('Максим Анкудинов', 1, 134),\n ('Татьяна Бек', 1, 134),\n ('Владимир Белобров', 1, 134),\n ('Беломлинская ', 1, 134),\n ('Александр Беляков', 1, 134),\n ('Сергей Бирюков', 1, 134),\n ('Евгений Блажеевский', 1, 134),\n ('Вениамин Блаженный', 1, 134),\n ('Дмитрий Бобышев', 1, 134),\n ('Сергей Бойченко', 1, 134),\n ('Михаил Болдуман ', 1, 134),\n ('Дмитрий Болотов', 1, 134),\n ('Игорь Бурихин', 1, 134),\n ('Екатерина Бушуева', 1, 134),\n ('Наталья Ванханен', 1, 134),\n ('Константин Ваншенкин', 1, 134),\n ('Лев Васильев', 1, 134),\n ('Петр Вегин', 1, 134),\n ('Михаил Векслер', 1, 134),\n ('Кирилл Воробьев ', 1, 134),\n ('Андрей Гаврилин ', 1, 134),\n ('Юлия Генюк', 1, 134),\n ('Марина Георгадзе', 1, 134),\n ('Ренат Гильфанов', 1, 134),\n ('Анна Глазова', 1, 134),\n ('Сергей Гонцов', 1, 134),\n ('Евгений Горный', 1, 134),\n ('Фаина Гримберг', 1, 134),\n ('Владимир Губайловский', 1, 134),\n ('Игорь Давлетшин', 1, 134),\n ('Данила Давыдов', 1, 134),\n ('Евгений Даенин', 1, 134),\n ('Лев Дановский', 1, 134),\n ('Державин', 1, 134),\n ('Виталий Дмитриев', 1, 134),\n ('Вероника Долина ', 1, 134),\n ('Евгений Евтушенко', 1, 134),\n ('Всеволод Емелин', 1, 134),\n ('Ирина Ермакова', 1, 134),\n ('Заболоцкий', 1, 134),\n ('Злыдень', 1, 134),\n ('Ирина Знаменская', 1, 134),\n ('Светлана Иванова', 1, 134),\n ('Елена Игнатова', 1, 134),\n ('Александр Ильянен', 1, 134),\n ('Александр Илюшин ', 1, 134),\n ('Дмитрий Ицкович', 1, 134),\n ('Инна Кабыш', 1, 134),\n ('Юрий Казарин', 1, 134),\n ('Игорь Караулов', 1, 134),\n ('Ирина Карпинская', 1, 134),\n ('Б.У.Кашкин', 1, 134),\n ('Михаил Книжник', 1, 134),\n ('Илья Кормильцев', 1, 134),\n ('Алексей Королев', 1, 134),\n ('Алексей Кортнев', 1, 134),\n ('Борис Кочейшвили', 1, 134),\n ('Элла Крылова', 1, 134),\n ('Алексей Кубрик', 1, 134),\n ('Марина Кудимова', 1, 134),\n ('Ольга Кузнецова', 1, 134),\n ('Виктор Куллэ', 1, 134),\n ('Илья Кутик', 1, 134),\n ('Александр Куляхтин', 1, 134),\n ('Лабас', 1, 134),\n ('Слава Лен', 1, 134),\n ('Владимир Леонович', 1, 134),\n ('Эдуард Литомин ', 1, 134),\n ('Светлана Максимова', 1, 134),\n ('Петр Мамонов', 1, 134),\n ('Ирина Машинская', 1, 134),\n ('Андрей Машнин ', 1, 134),\n ('Маяковский', 1, 134),\n ('Александр Медведев', 1, 134),\n ('Александр Межиров', 1, 134),\n ('Филипп Минлос', 1, 134),\n ('Александр Миронов', 1, 134),\n ('Андрей Монастырский', 1, 134),\n ('Вадим Муратханов', 1, 134),\n ('Денис Новиков', 1, 134),\n ('Дмитрий Озерский ', 1, 134),\n ('Олейников', 1, 134),\n ('Евгений Осташевский ', 1, 134),\n ('Сергей Панов (г. Луганск) ', 1, 134),\n ('Пастернак', 1, 134),\n ('Рамон Перец', 1, 134),\n ('Ф.Пиздорвацман (Бологое) ', 1, 134),\n ('Алексей Плуцер ', 1, 134),\n ('Елена Полецкая', 1, 134),\n ('Дмитрий Полищук', 1, 134),\n ('Слава Полищук ', 1, 134),\n ('Вячеслав Попов', 1, 134),\n ('Ольга Постникова', 1, 134),\n ('Алексей Прокопьев', 1, 134),\n ('Виталий Пуханов', 1, 134),\n ('Пушкин', 1, 134),\n ('Александр Пушкин', 1, 134),\n ('Маргарита Пушкина', 1, 134),\n ('Александр Радковский ', 1, 134),\n ('Эвелина Ракитская', 1, 134),\n ('Арие Ротман', 1, 134),\n ('Юрий Ряшенцев', 1, 134),\n ('Евгений Сабуров', 1, 134),\n ('Дмитрий Савицкий', 1, 134),\n ('Михаил Сазонов', 1, 134),\n ('Сергей Самойленко', 1, 134),\n ('Виктор Санчук', 1, 134),\n ('Сап-Са-Дэ', 1, 134),\n ('Леша Сарно ', 1, 134),\n ('Сатуновский', 1, 134),\n ('Сергей Сигей', 1, 134),\n ('Петр Смирнов ', 1, 134),\n ('Сергей Соколовский ', 1, 134),\n ('Сергей Соловьев', 1, 134),\n ('Александр Сорока', 1, 134),\n ('Дмитрий Сухарев', 1, 134),\n ('Дарья Суховей', 1, 134),\n ('Марина Темкина ', 1, 134),\n ('Елена Тиновская', 1, 134),\n ('Дмитрий Тонконогов', 1, 134),\n ('Иван Трофимов', 1, 134),\n ('Андрей Туркин', 1, 134),\n ('Виталина Тхоржевская', 1, 134),\n ('Тютчев', 1, 134),\n ('Борис Усов ', 1, 134),\n ('Владимир Уфлянд', 1, 134),\n ('Михаил Файнерман', 1, 134),\n ('Сергей Федин', 1, 134),\n ('Алексей Фомин ', 1, 134),\n ('Хармс', 1, 134),\n ('Алексей Хвостенко', 1, 134),\n ('Борис Херсонский', 1, 134),\n ('Екатерина Ходок ', 1, 134),\n ('Глеб Цвель', 1, 134),\n ('Алексей Цветков (мл.)', 1, 134),\n ('Юля Чичерина', 1, 134),\n ('Сергей Чудаков', 1, 134),\n ('Екатерина Шевченко', 1, 134),\n ('Шмубзик', 1, 134),\n ('Сергей Шнуров', 1, 134),\n ('Ирина Шостаковская', 1, 134)]"
     },
     "execution_count": 1,
     "metadata": {},
     "output_type": "execute_result"
    }
   ],
   "source": [
    "from bs4 import BeautifulSoup\n",
    "import re\n",
    "\n",
    "with open('data/110-10-rating.html') as f:\n",
    "    soup = BeautifulSoup(f, 'html.parser')\n",
    "\n",
    "name_pattern = '\\d+\\s*-\\s*\\d+\\s*(\\D+)\\s*\\d+'\n",
    "data = []\n",
    "\n",
    "for record in soup.find_all('p'):\n",
    "    try:\n",
    "        place = int(record.text.split()[0])\n",
    "\n",
    "        if record.a:\n",
    "            name = record.a.text\n",
    "        else:\n",
    "            m = re.search(name_pattern, record.text)\n",
    "            name = m.group(1)\n",
    "\n",
    "        if record.b:\n",
    "            votes = record.b.text\n",
    "        else:\n",
    "            votes = 1\n",
    "\n",
    "        data.append((name, votes, place))\n",
    "\n",
    "    except Exception as e:\n",
    "        print('Bad record: {}'.format(record))\n",
    "\n",
    "data"
   ]
  },
  {
   "cell_type": "code",
   "execution_count": 2,
   "outputs": [
    {
     "data": {
      "text/plain": "                   name votes  place\n0    Сергей Гандлевский    38      1\n1         Тимур Кибиров    35      2\n2             Лев Лосев    31      3\n3      Дмитрий А.Пригов    28      4\n4           Елена Шварц    27      5\n..                  ...   ...    ...\n272      Сергей Чудаков     1    134\n273  Екатерина Шевченко     1    134\n274             Шмубзик     1    134\n275       Сергей Шнуров     1    134\n276  Ирина Шостаковская     1    134\n\n[277 rows x 3 columns]",
      "text/html": "<div>\n<style scoped>\n    .dataframe tbody tr th:only-of-type {\n        vertical-align: middle;\n    }\n\n    .dataframe tbody tr th {\n        vertical-align: top;\n    }\n\n    .dataframe thead th {\n        text-align: right;\n    }\n</style>\n<table border=\"1\" class=\"dataframe\">\n  <thead>\n    <tr style=\"text-align: right;\">\n      <th></th>\n      <th>name</th>\n      <th>votes</th>\n      <th>place</th>\n    </tr>\n  </thead>\n  <tbody>\n    <tr>\n      <th>0</th>\n      <td>Сергей Гандлевский</td>\n      <td>38</td>\n      <td>1</td>\n    </tr>\n    <tr>\n      <th>1</th>\n      <td>Тимур Кибиров</td>\n      <td>35</td>\n      <td>2</td>\n    </tr>\n    <tr>\n      <th>2</th>\n      <td>Лев Лосев</td>\n      <td>31</td>\n      <td>3</td>\n    </tr>\n    <tr>\n      <th>3</th>\n      <td>Дмитрий А.Пригов</td>\n      <td>28</td>\n      <td>4</td>\n    </tr>\n    <tr>\n      <th>4</th>\n      <td>Елена Шварц</td>\n      <td>27</td>\n      <td>5</td>\n    </tr>\n    <tr>\n      <th>...</th>\n      <td>...</td>\n      <td>...</td>\n      <td>...</td>\n    </tr>\n    <tr>\n      <th>272</th>\n      <td>Сергей Чудаков</td>\n      <td>1</td>\n      <td>134</td>\n    </tr>\n    <tr>\n      <th>273</th>\n      <td>Екатерина Шевченко</td>\n      <td>1</td>\n      <td>134</td>\n    </tr>\n    <tr>\n      <th>274</th>\n      <td>Шмубзик</td>\n      <td>1</td>\n      <td>134</td>\n    </tr>\n    <tr>\n      <th>275</th>\n      <td>Сергей Шнуров</td>\n      <td>1</td>\n      <td>134</td>\n    </tr>\n    <tr>\n      <th>276</th>\n      <td>Ирина Шостаковская</td>\n      <td>1</td>\n      <td>134</td>\n    </tr>\n  </tbody>\n</table>\n<p>277 rows × 3 columns</p>\n</div>"
     },
     "execution_count": 2,
     "metadata": {},
     "output_type": "execute_result"
    }
   ],
   "source": [
    "import pandas as pd\n",
    "\n",
    "df = pd.DataFrame.from_records(data, columns=['name', 'votes', 'place'])\n",
    "df"
   ],
   "metadata": {
    "collapsed": false,
    "pycharm": {
     "name": "#%%\n"
    }
   }
  },
  {
   "cell_type": "code",
   "execution_count": 3,
   "outputs": [],
   "source": [
    "df.to_csv('data/110-10-rating.csv')"
   ],
   "metadata": {
    "collapsed": false,
    "pycharm": {
     "name": "#%%\n"
    }
   }
  },
  {
   "cell_type": "code",
   "execution_count": 8,
   "outputs": [
    {
     "data": {
      "text/plain": "1092"
     },
     "execution_count": 8,
     "metadata": {},
     "output_type": "execute_result"
    }
   ],
   "source": [
    "df.votes.map(lambda x: int(x)).sum()"
   ],
   "metadata": {
    "collapsed": false,
    "pycharm": {
     "name": "#%%\n"
    }
   }
  },
  {
   "cell_type": "code",
   "execution_count": 17,
   "outputs": [
    {
     "data": {
      "text/plain": "444"
     },
     "execution_count": 17,
     "metadata": {},
     "output_type": "execute_result"
    }
   ],
   "source": [
    "df.votes[:20].map(lambda x: int(x)).sum()"
   ],
   "metadata": {
    "collapsed": false,
    "pycharm": {
     "name": "#%%\n"
    }
   }
  },
  {
   "cell_type": "code",
   "execution_count": 14,
   "outputs": [
    {
     "data": {
      "text/plain": "            place\ncount  277.000000\nmean    97.805054\nstd     43.551796\nmin      1.000000\n25%     59.000000\n50%    134.000000\n75%    134.000000\nmax    134.000000",
      "text/html": "<div>\n<style scoped>\n    .dataframe tbody tr th:only-of-type {\n        vertical-align: middle;\n    }\n\n    .dataframe tbody tr th {\n        vertical-align: top;\n    }\n\n    .dataframe thead th {\n        text-align: right;\n    }\n</style>\n<table border=\"1\" class=\"dataframe\">\n  <thead>\n    <tr style=\"text-align: right;\">\n      <th></th>\n      <th>place</th>\n    </tr>\n  </thead>\n  <tbody>\n    <tr>\n      <th>count</th>\n      <td>277.000000</td>\n    </tr>\n    <tr>\n      <th>mean</th>\n      <td>97.805054</td>\n    </tr>\n    <tr>\n      <th>std</th>\n      <td>43.551796</td>\n    </tr>\n    <tr>\n      <th>min</th>\n      <td>1.000000</td>\n    </tr>\n    <tr>\n      <th>25%</th>\n      <td>59.000000</td>\n    </tr>\n    <tr>\n      <th>50%</th>\n      <td>134.000000</td>\n    </tr>\n    <tr>\n      <th>75%</th>\n      <td>134.000000</td>\n    </tr>\n    <tr>\n      <th>max</th>\n      <td>134.000000</td>\n    </tr>\n  </tbody>\n</table>\n</div>"
     },
     "execution_count": 14,
     "metadata": {},
     "output_type": "execute_result"
    }
   ],
   "source": [
    "df.describe()"
   ],
   "metadata": {
    "collapsed": false,
    "pycharm": {
     "name": "#%%\n"
    }
   }
  },
  {
   "cell_type": "code",
   "execution_count": 20,
   "outputs": [
    {
     "data": {
      "text/plain": "<AxesSubplot:>"
     },
     "execution_count": 20,
     "metadata": {},
     "output_type": "execute_result"
    },
    {
     "data": {
      "text/plain": "<Figure size 432x288 with 1 Axes>",
      "image/png": "[encoded data removed]"
     },
     "metadata": {
      "needs_background": "light"
     },
     "output_type": "display_data"
    }
   ],
   "source": [
    "df.votes.map(lambda x: int(x)).hist()"
   ],
   "metadata": {
    "collapsed": false,
    "pycharm": {
     "name": "#%%\n"
    }
   }
  },
  {
   "cell_type": "code",
   "execution_count": 24,
   "outputs": [
    {
     "data": {
      "text/plain": "<AxesSubplot:>"
     },
     "execution_count": 24,
     "metadata": {},
     "output_type": "execute_result"
    },
    {
     "data": {
      "text/plain": "<Figure size 432x288 with 1 Axes>",
      "image/png": "[encoded data removed]"
     },
     "metadata": {
      "needs_background": "light"
     },
     "output_type": "display_data"
    }
   ],
   "source": [
    "df.votes[:100].map(lambda x: int(x)).hist()"
   ],
   "metadata": {
    "collapsed": false,
    "pycharm": {
     "name": "#%%\n"
    }
   }
  }
 ],
 "metadata": {
  "kernelspec": {
   "display_name": "Python 3",
   "language": "python",
   "name": "python3"
  },
  "language_info": {
   "codemirror_mode": {
    "name": "ipython",
    "version": 2
   },
   "file_extension": ".py",
   "mimetype": "text/x-python",
   "name": "python",
   "nbconvert_exporter": "python",
   "pygments_lexer": "ipython2",
   "version": "2.7.6"
  }
 },
 "nbformat": 4,
 "nbformat_minor": 0
}