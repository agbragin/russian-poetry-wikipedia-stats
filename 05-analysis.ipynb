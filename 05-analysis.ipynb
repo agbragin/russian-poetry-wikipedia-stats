{
 "cells": [
  {
   "cell_type": "markdown",
   "metadata": {
    "collapsed": true,
    "pycharm": {
     "name": "#%% md\n"
    }
   },
   "source": [
    "# Анализ данных о количество посещений страниц"
   ]
  },
  {
   "cell_type": "code",
   "execution_count": 1,
   "metadata": {
    "pycharm": {
     "name": "#%%\n"
    }
   },
   "outputs": [
    {
     "data": {
      "text/plain": "                                                title     pageid     ns  \\\n0      Проект:Литература/Списки/Русские поэты Украины    89076.0  104.0   \n1     Проект:Литература/Списки/Русские поэты XIX века    87816.0  104.0   \n2                           Поэтессы Серебряного века  4692805.0    0.0   \n3                      Русские поэты Серебряного века    87820.0    0.0   \n4                             Русские поэты-футуристы    89092.0    0.0   \n...                                               ...        ...    ...   \n3529                                          Яжевика        NaN    NaN   \n3530                                     Якушева, Ада        NaN    NaN   \n3531                  Янбулатова, Рагида Саитгалеевна        NaN    NaN   \n3532            Категория:Поэтессы Российской империи        NaN    NaN   \n3533              Категория:Поэтессы Серебряного века        NaN    NaN   \n\n      por_pageid  por_ns  rwp_pageid  rwp_ns  2015080100  2015090100  \\\n0            NaN     NaN         NaN     NaN         NaN         NaN   \n1            NaN     NaN         NaN     NaN         NaN         NaN   \n2            NaN     NaN         NaN     NaN      1349.0      1841.0   \n3            NaN     NaN         NaN     NaN      5389.0     14159.0   \n4            NaN     NaN         NaN     NaN       831.0      6138.0   \n...          ...     ...         ...     ...         ...         ...   \n3529         NaN     NaN   3331686.0     0.0      1512.0      1528.0   \n3530         NaN     NaN     79145.0     0.0      1222.0      7037.0   \n3531         NaN     NaN   3788328.0     0.0        73.0        77.0   \n3532         NaN     NaN   3412574.0    14.0       106.0       119.0   \n3533         NaN     NaN   5032790.0    14.0       250.0       177.0   \n\n      2015100100  ...  2020020100  2020030100  2020040100  2020050100  \\\n0            NaN  ...         NaN         NaN         NaN         NaN   \n1            NaN  ...         NaN         NaN         NaN         NaN   \n2         2456.0  ...      2944.0      2874.0      3249.0      3053.0   \n3        22557.0  ...      9191.0     10400.0     16523.0     15185.0   \n4         8135.0  ...      4200.0      4400.0      9639.0      7992.0   \n...          ...  ...         ...         ...         ...         ...   \n3529      1398.0  ...       400.0       384.0       674.0       467.0   \n3530      4053.0  ...      2744.0      2427.0      5053.0      3766.0   \n3531       126.0  ...        96.0        88.0        98.0       152.0   \n3532       121.0  ...        59.0        70.0        77.0        67.0   \n3533       227.0  ...       355.0       243.0       359.0       226.0   \n\n      2020060100  2020070100  2020080100  2020090100  2020100100  2020110100  \n0            NaN         NaN         NaN         NaN         NaN         NaN  \n1            NaN         NaN         NaN         NaN         NaN         NaN  \n2         2294.0      2103.0      2294.0      2242.0      2545.0      2475.0  \n3         9723.0      3921.0      5854.0      9789.0     10338.0     11500.0  \n4         6620.0      1538.0      1101.0      4509.0      5848.0      5218.0  \n...          ...         ...         ...         ...         ...         ...  \n3529       413.0       414.0       370.0       318.0       365.0       378.0  \n3530      3432.0      2634.0      3629.0      4404.0      4972.0      4209.0  \n3531        63.0        89.0        79.0        57.0        70.0        52.0  \n3532        49.0        53.0        52.0        61.0        42.0        67.0  \n3533       201.0       165.0       165.0       201.0       180.0       185.0  \n\n[3534 rows x 71 columns]",
      "text/html": "<div>\n<style scoped>\n    .dataframe tbody tr th:only-of-type {\n        vertical-align: middle;\n    }\n\n    .dataframe tbody tr th {\n        vertical-align: top;\n    }\n\n    .dataframe thead th {\n        text-align: right;\n    }\n</style>\n<table border=\"1\" class=\"dataframe\">\n  <thead>\n    <tr style=\"text-align: right;\">\n      <th></th>\n      <th>title</th>\n      <th>pageid</th>\n      <th>ns</th>\n      <th>por_pageid</th>\n      <th>por_ns</th>\n      <th>rwp_pageid</th>\n      <th>rwp_ns</th>\n      <th>2015080100</th>\n      <th>2015090100</th>\n      <th>2015100100</th>\n      <th>...</th>\n      <th>2020020100</th>\n      <th>2020030100</th>\n      <th>2020040100</th>\n      <th>2020050100</th>\n      <th>2020060100</th>\n      <th>2020070100</th>\n      <th>2020080100</th>\n      <th>2020090100</th>\n      <th>2020100100</th>\n      <th>2020110100</th>\n    </tr>\n  </thead>\n  <tbody>\n    <tr>\n      <th>0</th>\n      <td>Проект:Литература/Списки/Русские поэты Украины</td>\n      <td>89076.0</td>\n      <td>104.0</td>\n      <td>NaN</td>\n      <td>NaN</td>\n      <td>NaN</td>\n      <td>NaN</td>\n      <td>NaN</td>\n      <td>NaN</td>\n      <td>NaN</td>\n      <td>...</td>\n      <td>NaN</td>\n      <td>NaN</td>\n      <td>NaN</td>\n      <td>NaN</td>\n      <td>NaN</td>\n      <td>NaN</td>\n      <td>NaN</td>\n      <td>NaN</td>\n      <td>NaN</td>\n      <td>NaN</td>\n    </tr>\n    <tr>\n      <th>1</th>\n      <td>Проект:Литература/Списки/Русские поэты XIX века</td>\n      <td>87816.0</td>\n      <td>104.0</td>\n      <td>NaN</td>\n      <td>NaN</td>\n      <td>NaN</td>\n      <td>NaN</td>\n      <td>NaN</td>\n      <td>NaN</td>\n      <td>NaN</td>\n      <td>...</td>\n      <td>NaN</td>\n      <td>NaN</td>\n      <td>NaN</td>\n      <td>NaN</td>\n      <td>NaN</td>\n      <td>NaN</td>\n      <td>NaN</td>\n      <td>NaN</td>\n      <td>NaN</td>\n      <td>NaN</td>\n    </tr>\n    <tr>\n      <th>2</th>\n      <td>Поэтессы Серебряного века</td>\n      <td>4692805.0</td>\n      <td>0.0</td>\n      <td>NaN</td>\n      <td>NaN</td>\n      <td>NaN</td>\n      <td>NaN</td>\n      <td>1349.0</td>\n      <td>1841.0</td>\n      <td>2456.0</td>\n      <td>...</td>\n      <td>2944.0</td>\n      <td>2874.0</td>\n      <td>3249.0</td>\n      <td>3053.0</td>\n      <td>2294.0</td>\n      <td>2103.0</td>\n      <td>2294.0</td>\n      <td>2242.0</td>\n      <td>2545.0</td>\n      <td>2475.0</td>\n    </tr>\n    <tr>\n      <th>3</th>\n      <td>Русские поэты Серебряного века</td>\n      <td>87820.0</td>\n      <td>0.0</td>\n      <td>NaN</td>\n      <td>NaN</td>\n      <td>NaN</td>\n      <td>NaN</td>\n      <td>5389.0</td>\n      <td>14159.0</td>\n      <td>22557.0</td>\n      <td>...</td>\n      <td>9191.0</td>\n      <td>10400.0</td>\n      <td>16523.0</td>\n      <td>15185.0</td>\n      <td>9723.0</td>\n      <td>3921.0</td>\n      <td>5854.0</td>\n      <td>9789.0</td>\n      <td>10338.0</td>\n      <td>11500.0</td>\n    </tr>\n    <tr>\n      <th>4</th>\n      <td>Русские поэты-футуристы</td>\n      <td>89092.0</td>\n      <td>0.0</td>\n      <td>NaN</td>\n      <td>NaN</td>\n      <td>NaN</td>\n      <td>NaN</td>\n      <td>831.0</td>\n      <td>6138.0</td>\n      <td>8135.0</td>\n      <td>...</td>\n      <td>4200.0</td>\n      <td>4400.0</td>\n      <td>9639.0</td>\n      <td>7992.0</td>\n      <td>6620.0</td>\n      <td>1538.0</td>\n      <td>1101.0</td>\n      <td>4509.0</td>\n      <td>5848.0</td>\n      <td>5218.0</td>\n    </tr>\n    <tr>\n      <th>...</th>\n      <td>...</td>\n      <td>...</td>\n      <td>...</td>\n      <td>...</td>\n      <td>...</td>\n      <td>...</td>\n      <td>...</td>\n      <td>...</td>\n      <td>...</td>\n      <td>...</td>\n      <td>...</td>\n      <td>...</td>\n      <td>...</td>\n      <td>...</td>\n      <td>...</td>\n      <td>...</td>\n      <td>...</td>\n      <td>...</td>\n      <td>...</td>\n      <td>...</td>\n      <td>...</td>\n    </tr>\n    <tr>\n      <th>3529</th>\n      <td>Яжевика</td>\n      <td>NaN</td>\n      <td>NaN</td>\n      <td>NaN</td>\n      <td>NaN</td>\n      <td>3331686.0</td>\n      <td>0.0</td>\n      <td>1512.0</td>\n      <td>1528.0</td>\n      <td>1398.0</td>\n      <td>...</td>\n      <td>400.0</td>\n      <td>384.0</td>\n      <td>674.0</td>\n      <td>467.0</td>\n      <td>413.0</td>\n      <td>414.0</td>\n      <td>370.0</td>\n      <td>318.0</td>\n      <td>365.0</td>\n      <td>378.0</td>\n    </tr>\n    <tr>\n      <th>3530</th>\n      <td>Якушева, Ада</td>\n      <td>NaN</td>\n      <td>NaN</td>\n      <td>NaN</td>\n      <td>NaN</td>\n      <td>79145.0</td>\n      <td>0.0</td>\n      <td>1222.0</td>\n      <td>7037.0</td>\n      <td>4053.0</td>\n      <td>...</td>\n      <td>2744.0</td>\n      <td>2427.0</td>\n      <td>5053.0</td>\n      <td>3766.0</td>\n      <td>3432.0</td>\n      <td>2634.0</td>\n      <td>3629.0</td>\n      <td>4404.0</td>\n      <td>4972.0</td>\n      <td>4209.0</td>\n    </tr>\n    <tr>\n      <th>3531</th>\n      <td>Янбулатова, Рагида Саитгалеевна</td>\n      <td>NaN</td>\n      <td>NaN</td>\n      <td>NaN</td>\n      <td>NaN</td>\n      <td>3788328.0</td>\n      <td>0.0</td>\n      <td>73.0</td>\n      <td>77.0</td>\n      <td>126.0</td>\n      <td>...</td>\n      <td>96.0</td>\n      <td>88.0</td>\n      <td>98.0</td>\n      <td>152.0</td>\n      <td>63.0</td>\n      <td>89.0</td>\n      <td>79.0</td>\n      <td>57.0</td>\n      <td>70.0</td>\n      <td>52.0</td>\n    </tr>\n    <tr>\n      <th>3532</th>\n      <td>Категория:Поэтессы Российской империи</td>\n      <td>NaN</td>\n      <td>NaN</td>\n      <td>NaN</td>\n      <td>NaN</td>\n      <td>3412574.0</td>\n      <td>14.0</td>\n      <td>106.0</td>\n      <td>119.0</td>\n      <td>121.0</td>\n      <td>...</td>\n      <td>59.0</td>\n      <td>70.0</td>\n      <td>77.0</td>\n      <td>67.0</td>\n      <td>49.0</td>\n      <td>53.0</td>\n      <td>52.0</td>\n      <td>61.0</td>\n      <td>42.0</td>\n      <td>67.0</td>\n    </tr>\n    <tr>\n      <th>3533</th>\n      <td>Категория:Поэтессы Серебряного века</td>\n      <td>NaN</td>\n      <td>NaN</td>\n      <td>NaN</td>\n      <td>NaN</td>\n      <td>5032790.0</td>\n      <td>14.0</td>\n      <td>250.0</td>\n      <td>177.0</td>\n      <td>227.0</td>\n      <td>...</td>\n      <td>355.0</td>\n      <td>243.0</td>\n      <td>359.0</td>\n      <td>226.0</td>\n      <td>201.0</td>\n      <td>165.0</td>\n      <td>165.0</td>\n      <td>201.0</td>\n      <td>180.0</td>\n      <td>185.0</td>\n    </tr>\n  </tbody>\n</table>\n<p>3534 rows × 71 columns</p>\n</div>"
     },
     "execution_count": 1,
     "metadata": {},
     "output_type": "execute_result"
    }
   ],
   "source": [
    "import pandas as pd\n",
    "\n",
    "poet_stats = pd.read_csv('data/poet-page-visit-stats.csv', index_col=0)\n",
    "poet_stats"
   ]
  },
  {
   "cell_type": "code",
   "execution_count": 2,
   "outputs": [
    {
     "data": {
      "text/plain": "                                             title     pageid     ns  \\\n0   Проект:Литература/Списки/Русские поэты Украины    89076.0  104.0   \n1  Проект:Литература/Списки/Русские поэты XIX века    87816.0  104.0   \n2                        Поэтессы Серебряного века  4692805.0    0.0   \n3                   Русские поэты Серебряного века    87820.0    0.0   \n4                          Русские поэты-футуристы    89092.0    0.0   \n\n   por_pageid  por_ns  rwp_pageid  rwp_ns  2015080100  2015090100  2015100100  \\\n0         NaN     NaN         NaN     NaN         NaN         NaN         NaN   \n1         NaN     NaN         NaN     NaN         NaN         NaN         NaN   \n2         NaN     NaN         NaN     NaN      1349.0      1841.0      2456.0   \n3         NaN     NaN         NaN     NaN      5389.0     14159.0     22557.0   \n4         NaN     NaN         NaN     NaN       831.0      6138.0      8135.0   \n\n   ...  2020030100  2020040100  2020050100  2020060100  2020070100  \\\n0  ...         NaN         NaN         NaN         NaN         NaN   \n1  ...         NaN         NaN         NaN         NaN         NaN   \n2  ...      2874.0      3249.0      3053.0      2294.0      2103.0   \n3  ...     10400.0     16523.0     15185.0      9723.0      3921.0   \n4  ...      4400.0      9639.0      7992.0      6620.0      1538.0   \n\n   2020080100  2020090100  2020100100  2020110100  monthly_average  \n0         NaN         NaN         NaN         NaN              NaN  \n1         NaN         NaN         NaN         NaN              NaN  \n2      2294.0      2242.0      2545.0      2475.0      2396.609375  \n3      5854.0      9789.0     10338.0     11500.0     11154.281250  \n4      1101.0      4509.0      5848.0      5218.0      5347.531250  \n\n[5 rows x 72 columns]",
      "text/html": "<div>\n<style scoped>\n    .dataframe tbody tr th:only-of-type {\n        vertical-align: middle;\n    }\n\n    .dataframe tbody tr th {\n        vertical-align: top;\n    }\n\n    .dataframe thead th {\n        text-align: right;\n    }\n</style>\n<table border=\"1\" class=\"dataframe\">\n  <thead>\n    <tr style=\"text-align: right;\">\n      <th></th>\n      <th>title</th>\n      <th>pageid</th>\n      <th>ns</th>\n      <th>por_pageid</th>\n      <th>por_ns</th>\n      <th>rwp_pageid</th>\n      <th>rwp_ns</th>\n      <th>2015080100</th>\n      <th>2015090100</th>\n      <th>2015100100</th>\n      <th>...</th>\n      <th>2020030100</th>\n      <th>2020040100</th>\n      <th>2020050100</th>\n      <th>2020060100</th>\n      <th>2020070100</th>\n      <th>2020080100</th>\n      <th>2020090100</th>\n      <th>2020100100</th>\n      <th>2020110100</th>\n      <th>monthly_average</th>\n    </tr>\n  </thead>\n  <tbody>\n    <tr>\n      <th>0</th>\n      <td>Проект:Литература/Списки/Русские поэты Украины</td>\n      <td>89076.0</td>\n      <td>104.0</td>\n      <td>NaN</td>\n      <td>NaN</td>\n      <td>NaN</td>\n      <td>NaN</td>\n      <td>NaN</td>\n      <td>NaN</td>\n      <td>NaN</td>\n      <td>...</td>\n      <td>NaN</td>\n      <td>NaN</td>\n      <td>NaN</td>\n      <td>NaN</td>\n      <td>NaN</td>\n      <td>NaN</td>\n      <td>NaN</td>\n      <td>NaN</td>\n      <td>NaN</td>\n      <td>NaN</td>\n    </tr>\n    <tr>\n      <th>1</th>\n      <td>Проект:Литература/Списки/Русские поэты XIX века</td>\n      <td>87816.0</td>\n      <td>104.0</td>\n      <td>NaN</td>\n      <td>NaN</td>\n      <td>NaN</td>\n      <td>NaN</td>\n      <td>NaN</td>\n      <td>NaN</td>\n      <td>NaN</td>\n      <td>...</td>\n      <td>NaN</td>\n      <td>NaN</td>\n      <td>NaN</td>\n      <td>NaN</td>\n      <td>NaN</td>\n      <td>NaN</td>\n      <td>NaN</td>\n      <td>NaN</td>\n      <td>NaN</td>\n      <td>NaN</td>\n    </tr>\n    <tr>\n      <th>2</th>\n      <td>Поэтессы Серебряного века</td>\n      <td>4692805.0</td>\n      <td>0.0</td>\n      <td>NaN</td>\n      <td>NaN</td>\n      <td>NaN</td>\n      <td>NaN</td>\n      <td>1349.0</td>\n      <td>1841.0</td>\n      <td>2456.0</td>\n      <td>...</td>\n      <td>2874.0</td>\n      <td>3249.0</td>\n      <td>3053.0</td>\n      <td>2294.0</td>\n      <td>2103.0</td>\n      <td>2294.0</td>\n      <td>2242.0</td>\n      <td>2545.0</td>\n      <td>2475.0</td>\n      <td>2396.609375</td>\n    </tr>\n    <tr>\n      <th>3</th>\n      <td>Русские поэты Серебряного века</td>\n      <td>87820.0</td>\n      <td>0.0</td>\n      <td>NaN</td>\n      <td>NaN</td>\n      <td>NaN</td>\n      <td>NaN</td>\n      <td>5389.0</td>\n      <td>14159.0</td>\n      <td>22557.0</td>\n      <td>...</td>\n      <td>10400.0</td>\n      <td>16523.0</td>\n      <td>15185.0</td>\n      <td>9723.0</td>\n      <td>3921.0</td>\n      <td>5854.0</td>\n      <td>9789.0</td>\n      <td>10338.0</td>\n      <td>11500.0</td>\n      <td>11154.281250</td>\n    </tr>\n    <tr>\n      <th>4</th>\n      <td>Русские поэты-футуристы</td>\n      <td>89092.0</td>\n      <td>0.0</td>\n      <td>NaN</td>\n      <td>NaN</td>\n      <td>NaN</td>\n      <td>NaN</td>\n      <td>831.0</td>\n      <td>6138.0</td>\n      <td>8135.0</td>\n      <td>...</td>\n      <td>4400.0</td>\n      <td>9639.0</td>\n      <td>7992.0</td>\n      <td>6620.0</td>\n      <td>1538.0</td>\n      <td>1101.0</td>\n      <td>4509.0</td>\n      <td>5848.0</td>\n      <td>5218.0</td>\n      <td>5347.531250</td>\n    </tr>\n  </tbody>\n</table>\n<p>5 rows × 72 columns</p>\n</div>"
     },
     "execution_count": 2,
     "metadata": {},
     "output_type": "execute_result"
    }
   ],
   "source": [
    "poet_stats['monthly_average'] = poet_stats.loc[:, '2015080100':'2020110100'].mean(axis=1, skipna=True)\n",
    "poet_stats.head()"
   ],
   "metadata": {
    "collapsed": false,
    "pycharm": {
     "name": "#%%\n"
    }
   }
  },
  {
   "cell_type": "code",
   "execution_count": 3,
   "metadata": {
    "pycharm": {
     "name": "#%%\n"
    }
   },
   "outputs": [
    {
     "data": {
      "text/plain": "                                             title     pageid     ns  \\\n0   Проект:Литература/Списки/Русские поэты Украины    89076.0  104.0   \n1  Проект:Литература/Списки/Русские поэты XIX века    87816.0  104.0   \n2                        Поэтессы Серебряного века  4692805.0    0.0   \n3                   Русские поэты Серебряного века    87820.0    0.0   \n4                          Русские поэты-футуристы    89092.0    0.0   \n\n   por_pageid  por_ns  rwp_pageid  rwp_ns  2015080100  2015090100  2015100100  \\\n0         NaN     NaN         NaN     NaN         NaN         NaN         NaN   \n1         NaN     NaN         NaN     NaN         NaN         NaN         NaN   \n2         NaN     NaN         NaN     NaN      1349.0      1841.0      2456.0   \n3         NaN     NaN         NaN     NaN      5389.0     14159.0     22557.0   \n4         NaN     NaN         NaN     NaN       831.0      6138.0      8135.0   \n\n   ...  2020040100  2020050100  2020060100  2020070100  2020080100  \\\n0  ...         NaN         NaN         NaN         NaN         NaN   \n1  ...         NaN         NaN         NaN         NaN         NaN   \n2  ...      3249.0      3053.0      2294.0      2103.0      2294.0   \n3  ...     16523.0     15185.0      9723.0      3921.0      5854.0   \n4  ...      9639.0      7992.0      6620.0      1538.0      1101.0   \n\n   2020090100  2020100100  2020110100  monthly_average  2015-2020  \n0         NaN         NaN         NaN              NaN        0.0  \n1         NaN         NaN         NaN              NaN        0.0  \n2      2242.0      2545.0      2475.0      2396.609375   153383.0  \n3      9789.0     10338.0     11500.0     11154.281250   713874.0  \n4      4509.0      5848.0      5218.0      5347.531250   342242.0  \n\n[5 rows x 73 columns]",
      "text/html": "<div>\n<style scoped>\n    .dataframe tbody tr th:only-of-type {\n        vertical-align: middle;\n    }\n\n    .dataframe tbody tr th {\n        vertical-align: top;\n    }\n\n    .dataframe thead th {\n        text-align: right;\n    }\n</style>\n<table border=\"1\" class=\"dataframe\">\n  <thead>\n    <tr style=\"text-align: right;\">\n      <th></th>\n      <th>title</th>\n      <th>pageid</th>\n      <th>ns</th>\n      <th>por_pageid</th>\n      <th>por_ns</th>\n      <th>rwp_pageid</th>\n      <th>rwp_ns</th>\n      <th>2015080100</th>\n      <th>2015090100</th>\n      <th>2015100100</th>\n      <th>...</th>\n      <th>2020040100</th>\n      <th>2020050100</th>\n      <th>2020060100</th>\n      <th>2020070100</th>\n      <th>2020080100</th>\n      <th>2020090100</th>\n      <th>2020100100</th>\n      <th>2020110100</th>\n      <th>monthly_average</th>\n      <th>2015-2020</th>\n    </tr>\n  </thead>\n  <tbody>\n    <tr>\n      <th>0</th>\n      <td>Проект:Литература/Списки/Русские поэты Украины</td>\n      <td>89076.0</td>\n      <td>104.0</td>\n      <td>NaN</td>\n      <td>NaN</td>\n      <td>NaN</td>\n      <td>NaN</td>\n      <td>NaN</td>\n      <td>NaN</td>\n      <td>NaN</td>\n      <td>...</td>\n      <td>NaN</td>\n      <td>NaN</td>\n      <td>NaN</td>\n      <td>NaN</td>\n      <td>NaN</td>\n      <td>NaN</td>\n      <td>NaN</td>\n      <td>NaN</td>\n      <td>NaN</td>\n      <td>0.0</td>\n    </tr>\n    <tr>\n      <th>1</th>\n      <td>Проект:Литература/Списки/Русские поэты XIX века</td>\n      <td>87816.0</td>\n      <td>104.0</td>\n      <td>NaN</td>\n      <td>NaN</td>\n      <td>NaN</td>\n      <td>NaN</td>\n      <td>NaN</td>\n      <td>NaN</td>\n      <td>NaN</td>\n      <td>...</td>\n      <td>NaN</td>\n      <td>NaN</td>\n      <td>NaN</td>\n      <td>NaN</td>\n      <td>NaN</td>\n      <td>NaN</td>\n      <td>NaN</td>\n      <td>NaN</td>\n      <td>NaN</td>\n      <td>0.0</td>\n    </tr>\n    <tr>\n      <th>2</th>\n      <td>Поэтессы Серебряного века</td>\n      <td>4692805.0</td>\n      <td>0.0</td>\n      <td>NaN</td>\n      <td>NaN</td>\n      <td>NaN</td>\n      <td>NaN</td>\n      <td>1349.0</td>\n      <td>1841.0</td>\n      <td>2456.0</td>\n      <td>...</td>\n      <td>3249.0</td>\n      <td>3053.0</td>\n      <td>2294.0</td>\n      <td>2103.0</td>\n      <td>2294.0</td>\n      <td>2242.0</td>\n      <td>2545.0</td>\n      <td>2475.0</td>\n      <td>2396.609375</td>\n      <td>153383.0</td>\n    </tr>\n    <tr>\n      <th>3</th>\n      <td>Русские поэты Серебряного века</td>\n      <td>87820.0</td>\n      <td>0.0</td>\n      <td>NaN</td>\n      <td>NaN</td>\n      <td>NaN</td>\n      <td>NaN</td>\n      <td>5389.0</td>\n      <td>14159.0</td>\n      <td>22557.0</td>\n      <td>...</td>\n      <td>16523.0</td>\n      <td>15185.0</td>\n      <td>9723.0</td>\n      <td>3921.0</td>\n      <td>5854.0</td>\n      <td>9789.0</td>\n      <td>10338.0</td>\n      <td>11500.0</td>\n      <td>11154.281250</td>\n      <td>713874.0</td>\n    </tr>\n    <tr>\n      <th>4</th>\n      <td>Русские поэты-футуристы</td>\n      <td>89092.0</td>\n      <td>0.0</td>\n      <td>NaN</td>\n      <td>NaN</td>\n      <td>NaN</td>\n      <td>NaN</td>\n      <td>831.0</td>\n      <td>6138.0</td>\n      <td>8135.0</td>\n      <td>...</td>\n      <td>9639.0</td>\n      <td>7992.0</td>\n      <td>6620.0</td>\n      <td>1538.0</td>\n      <td>1101.0</td>\n      <td>4509.0</td>\n      <td>5848.0</td>\n      <td>5218.0</td>\n      <td>5347.531250</td>\n      <td>342242.0</td>\n    </tr>\n  </tbody>\n</table>\n<p>5 rows × 73 columns</p>\n</div>"
     },
     "execution_count": 3,
     "metadata": {},
     "output_type": "execute_result"
    }
   ],
   "source": [
    "poet_stats['2015-2020'] = poet_stats.loc[:, '2015080100':'2020110100'].sum(axis=1)\n",
    "poet_stats.head()"
   ]
  },
  {
   "cell_type": "code",
   "execution_count": 4,
   "metadata": {
    "pycharm": {
     "name": "#%%\n"
    }
   },
   "outputs": [
    {
     "data": {
      "text/plain": "    index                            title    pageid   ns  por_pageid  por_ns  \\\n0    1456      Пушкин, Александр Сергеевич     537.0  0.0         NaN     NaN   \n1     664     Есенин, Сергей Александрович   22419.0  0.0         NaN     NaN   \n2     382     Высоцкий, Владимир Семёнович   24738.0  0.0         NaN     NaN   \n3    1055        Лермонтов, Михаил Юрьевич   32724.0  0.0         NaN     NaN   \n4    1085     Ломоносов, Михаил Васильевич    1024.0  0.0         NaN     NaN   \n..    ...                              ...       ...  ...         ...     ...   \n95    139  Бальмонт, Константин Дмитриевич   90969.0  0.0         NaN     NaN   \n96    356   Вознесенский, Андрей Андреевич   45859.0  0.0         NaN     NaN   \n97   1527       Рубцов, Николай Михайлович  139061.0  0.0         NaN     NaN   \n98   3060       Самойлов, Глеб Рудольфович       NaN  NaN    349483.0     0.0   \n99   3396                     Апина, Алёна       NaN  NaN         NaN     NaN   \n\n    rwp_pageid  rwp_ns  2015080100  2015090100  ...  2020040100  2020050100  \\\n0          NaN     NaN     71505.0    248119.0  ...    154326.0    128537.0   \n1          NaN     NaN     44521.0    195886.0  ...    146350.0     86429.0   \n2          NaN     NaN     74681.0     80310.0  ...     98379.0     97541.0   \n3          NaN     NaN     39675.0    148902.0  ...    116068.0     62720.0   \n4          NaN     NaN     61626.0    253756.0  ...    130275.0     73310.0   \n..         ...     ...         ...         ...  ...         ...         ...   \n95         NaN     NaN      5071.0     16564.0  ...     12846.0     10754.0   \n96         NaN     NaN      6240.0     22649.0  ...     15722.0     17355.0   \n97         NaN     NaN      4903.0      5491.0  ...     57699.0     27827.0   \n98         NaN     NaN     17851.0     13564.0  ...     10856.0     11128.0   \n99    593437.0     0.0     16186.0      8722.0  ...     11438.0     10432.0   \n\n    2020060100  2020070100  2020080100  2020090100  2020100100  2020110100  \\\n0     135724.0     75013.0     82055.0    302875.0    329783.0    296280.0   \n1      59043.0     50485.0     54573.0     94414.0    173957.0    108390.0   \n2      65035.0    282664.0     76458.0     70429.0     64568.0     78062.0   \n3      44120.0     45271.0     42034.0    114609.0    150137.0    221056.0   \n4      33397.0     29273.0     27970.0    212403.0    156396.0     98087.0   \n..         ...         ...         ...         ...         ...         ...   \n95      8292.0      5867.0      6168.0     14857.0     24042.0     18484.0   \n96     11135.0      8037.0      6295.0      6167.0      7128.0      7836.0   \n97     10022.0      5581.0      5288.0      5745.0      6705.0      6807.0   \n98     13013.0      9563.0     11110.0      9855.0      9014.0      9009.0   \n99     11853.0      8996.0      9994.0     13439.0     14491.0     12417.0   \n\n    monthly_average   2015-2020  \n0     197432.859375  12635703.0  \n1     116759.062500   7472580.0  \n2     111227.125000   7118536.0  \n3     109141.328125   6985045.0  \n4      90785.640625   5810281.0  \n..              ...         ...  \n95     14965.656250    957802.0  \n96     14540.875000    930616.0  \n97     13914.437500    890524.0  \n98     13820.265625    884497.0  \n99     13808.765625    883761.0  \n\n[100 rows x 74 columns]",
      "text/html": "<div>\n<style scoped>\n    .dataframe tbody tr th:only-of-type {\n        vertical-align: middle;\n    }\n\n    .dataframe tbody tr th {\n        vertical-align: top;\n    }\n\n    .dataframe thead th {\n        text-align: right;\n    }\n</style>\n<table border=\"1\" class=\"dataframe\">\n  <thead>\n    <tr style=\"text-align: right;\">\n      <th></th>\n      <th>index</th>\n      <th>title</th>\n      <th>pageid</th>\n      <th>ns</th>\n      <th>por_pageid</th>\n      <th>por_ns</th>\n      <th>rwp_pageid</th>\n      <th>rwp_ns</th>\n      <th>2015080100</th>\n      <th>2015090100</th>\n      <th>...</th>\n      <th>2020040100</th>\n      <th>2020050100</th>\n      <th>2020060100</th>\n      <th>2020070100</th>\n      <th>2020080100</th>\n      <th>2020090100</th>\n      <th>2020100100</th>\n      <th>2020110100</th>\n      <th>monthly_average</th>\n      <th>2015-2020</th>\n    </tr>\n  </thead>\n  <tbody>\n    <tr>\n      <th>0</th>\n      <td>1456</td>\n      <td>Пушкин, Александр Сергеевич</td>\n      <td>537.0</td>\n      <td>0.0</td>\n      <td>NaN</td>\n      <td>NaN</td>\n      <td>NaN</td>\n      <td>NaN</td>\n      <td>71505.0</td>\n      <td>248119.0</td>\n      <td>...</td>\n      <td>154326.0</td>\n      <td>128537.0</td>\n      <td>135724.0</td>\n      <td>75013.0</td>\n      <td>82055.0</td>\n      <td>302875.0</td>\n      <td>329783.0</td>\n      <td>296280.0</td>\n      <td>197432.859375</td>\n      <td>12635703.0</td>\n    </tr>\n    <tr>\n      <th>1</th>\n      <td>664</td>\n      <td>Есенин, Сергей Александрович</td>\n      <td>22419.0</td>\n      <td>0.0</td>\n      <td>NaN</td>\n      <td>NaN</td>\n      <td>NaN</td>\n      <td>NaN</td>\n      <td>44521.0</td>\n      <td>195886.0</td>\n      <td>...</td>\n      <td>146350.0</td>\n      <td>86429.0</td>\n      <td>59043.0</td>\n      <td>50485.0</td>\n      <td>54573.0</td>\n      <td>94414.0</td>\n      <td>173957.0</td>\n      <td>108390.0</td>\n      <td>116759.062500</td>\n      <td>7472580.0</td>\n    </tr>\n    <tr>\n      <th>2</th>\n      <td>382</td>\n      <td>Высоцкий, Владимир Семёнович</td>\n      <td>24738.0</td>\n      <td>0.0</td>\n      <td>NaN</td>\n      <td>NaN</td>\n      <td>NaN</td>\n      <td>NaN</td>\n      <td>74681.0</td>\n      <td>80310.0</td>\n      <td>...</td>\n      <td>98379.0</td>\n      <td>97541.0</td>\n      <td>65035.0</td>\n      <td>282664.0</td>\n      <td>76458.0</td>\n      <td>70429.0</td>\n      <td>64568.0</td>\n      <td>78062.0</td>\n      <td>111227.125000</td>\n      <td>7118536.0</td>\n    </tr>\n    <tr>\n      <th>3</th>\n      <td>1055</td>\n      <td>Лермонтов, Михаил Юрьевич</td>\n      <td>32724.0</td>\n      <td>0.0</td>\n      <td>NaN</td>\n      <td>NaN</td>\n      <td>NaN</td>\n      <td>NaN</td>\n      <td>39675.0</td>\n      <td>148902.0</td>\n      <td>...</td>\n      <td>116068.0</td>\n      <td>62720.0</td>\n      <td>44120.0</td>\n      <td>45271.0</td>\n      <td>42034.0</td>\n      <td>114609.0</td>\n      <td>150137.0</td>\n      <td>221056.0</td>\n      <td>109141.328125</td>\n      <td>6985045.0</td>\n    </tr>\n    <tr>\n      <th>4</th>\n      <td>1085</td>\n      <td>Ломоносов, Михаил Васильевич</td>\n      <td>1024.0</td>\n      <td>0.0</td>\n      <td>NaN</td>\n      <td>NaN</td>\n      <td>NaN</td>\n      <td>NaN</td>\n      <td>61626.0</td>\n      <td>253756.0</td>\n      <td>...</td>\n      <td>130275.0</td>\n      <td>73310.0</td>\n      <td>33397.0</td>\n      <td>29273.0</td>\n      <td>27970.0</td>\n      <td>212403.0</td>\n      <td>156396.0</td>\n      <td>98087.0</td>\n      <td>90785.640625</td>\n      <td>5810281.0</td>\n    </tr>\n    <tr>\n      <th>...</th>\n      <td>...</td>\n      <td>...</td>\n      <td>...</td>\n      <td>...</td>\n      <td>...</td>\n      <td>...</td>\n      <td>...</td>\n      <td>...</td>\n      <td>...</td>\n      <td>...</td>\n      <td>...</td>\n      <td>...</td>\n      <td>...</td>\n      <td>...</td>\n      <td>...</td>\n      <td>...</td>\n      <td>...</td>\n      <td>...</td>\n      <td>...</td>\n      <td>...</td>\n      <td>...</td>\n    </tr>\n    <tr>\n      <th>95</th>\n      <td>139</td>\n      <td>Бальмонт, Константин Дмитриевич</td>\n      <td>90969.0</td>\n      <td>0.0</td>\n      <td>NaN</td>\n      <td>NaN</td>\n      <td>NaN</td>\n      <td>NaN</td>\n      <td>5071.0</td>\n      <td>16564.0</td>\n      <td>...</td>\n      <td>12846.0</td>\n      <td>10754.0</td>\n      <td>8292.0</td>\n      <td>5867.0</td>\n      <td>6168.0</td>\n      <td>14857.0</td>\n      <td>24042.0</td>\n      <td>18484.0</td>\n      <td>14965.656250</td>\n      <td>957802.0</td>\n    </tr>\n    <tr>\n      <th>96</th>\n      <td>356</td>\n      <td>Вознесенский, Андрей Андреевич</td>\n      <td>45859.0</td>\n      <td>0.0</td>\n      <td>NaN</td>\n      <td>NaN</td>\n      <td>NaN</td>\n      <td>NaN</td>\n      <td>6240.0</td>\n      <td>22649.0</td>\n      <td>...</td>\n      <td>15722.0</td>\n      <td>17355.0</td>\n      <td>11135.0</td>\n      <td>8037.0</td>\n      <td>6295.0</td>\n      <td>6167.0</td>\n      <td>7128.0</td>\n      <td>7836.0</td>\n      <td>14540.875000</td>\n      <td>930616.0</td>\n    </tr>\n    <tr>\n      <th>97</th>\n      <td>1527</td>\n      <td>Рубцов, Николай Михайлович</td>\n      <td>139061.0</td>\n      <td>0.0</td>\n      <td>NaN</td>\n      <td>NaN</td>\n      <td>NaN</td>\n      <td>NaN</td>\n      <td>4903.0</td>\n      <td>5491.0</td>\n      <td>...</td>\n      <td>57699.0</td>\n      <td>27827.0</td>\n      <td>10022.0</td>\n      <td>5581.0</td>\n      <td>5288.0</td>\n      <td>5745.0</td>\n      <td>6705.0</td>\n      <td>6807.0</td>\n      <td>13914.437500</td>\n      <td>890524.0</td>\n    </tr>\n    <tr>\n      <th>98</th>\n      <td>3060</td>\n      <td>Самойлов, Глеб Рудольфович</td>\n      <td>NaN</td>\n      <td>NaN</td>\n      <td>349483.0</td>\n      <td>0.0</td>\n      <td>NaN</td>\n      <td>NaN</td>\n      <td>17851.0</td>\n      <td>13564.0</td>\n      <td>...</td>\n      <td>10856.0</td>\n      <td>11128.0</td>\n      <td>13013.0</td>\n      <td>9563.0</td>\n      <td>11110.0</td>\n      <td>9855.0</td>\n      <td>9014.0</td>\n      <td>9009.0</td>\n      <td>13820.265625</td>\n      <td>884497.0</td>\n    </tr>\n    <tr>\n      <th>99</th>\n      <td>3396</td>\n      <td>Апина, Алёна</td>\n      <td>NaN</td>\n      <td>NaN</td>\n      <td>NaN</td>\n      <td>NaN</td>\n      <td>593437.0</td>\n      <td>0.0</td>\n      <td>16186.0</td>\n      <td>8722.0</td>\n      <td>...</td>\n      <td>11438.0</td>\n      <td>10432.0</td>\n      <td>11853.0</td>\n      <td>8996.0</td>\n      <td>9994.0</td>\n      <td>13439.0</td>\n      <td>14491.0</td>\n      <td>12417.0</td>\n      <td>13808.765625</td>\n      <td>883761.0</td>\n    </tr>\n  </tbody>\n</table>\n<p>100 rows × 74 columns</p>\n</div>"
     },
     "execution_count": 4,
     "metadata": {},
     "output_type": "execute_result"
    }
   ],
   "source": [
    "poet_stats = poet_stats.sort_values('monthly_average', ascending=False)\n",
    "poet_stats.reset_index(inplace=True)\n",
    "\n",
    "poet_stats.head(100)"
   ]
  },
  {
   "cell_type": "code",
   "execution_count": 21,
   "outputs": [
    {
     "data": {
      "text/plain": "                                                title monthly_average\n0                         Пушкин, Александр Сергеевич          197433\n1                        Есенин, Сергей Александрович          116759\n2                        Высоцкий, Владимир Семёнович          111227\n3                           Лермонтов, Михаил Юрьевич          109141\n4                        Ломоносов, Михаил Васильевич           90786\n...                                               ...             ...\n3529                        Категория:Игорь Северянин              18\n3530                         Категория:Пётр Вяземский               7\n3531   Проект:Литература/Списки/Русские поэты Украины             nan\n3532  Проект:Литература/Списки/Русские поэты XIX века             nan\n3533                                 Скарынкина, Таня             nan\n\n[3534 rows x 2 columns]",
      "text/html": "<div>\n<style scoped>\n    .dataframe tbody tr th:only-of-type {\n        vertical-align: middle;\n    }\n\n    .dataframe tbody tr th {\n        vertical-align: top;\n    }\n\n    .dataframe thead th {\n        text-align: right;\n    }\n</style>\n<table border=\"1\" class=\"dataframe\">\n  <thead>\n    <tr style=\"text-align: right;\">\n      <th></th>\n      <th>title</th>\n      <th>monthly_average</th>\n    </tr>\n  </thead>\n  <tbody>\n    <tr>\n      <th>0</th>\n      <td>Пушкин, Александр Сергеевич</td>\n      <td>197433</td>\n    </tr>\n    <tr>\n      <th>1</th>\n      <td>Есенин, Сергей Александрович</td>\n      <td>116759</td>\n    </tr>\n    <tr>\n      <th>2</th>\n      <td>Высоцкий, Владимир Семёнович</td>\n      <td>111227</td>\n    </tr>\n    <tr>\n      <th>3</th>\n      <td>Лермонтов, Михаил Юрьевич</td>\n      <td>109141</td>\n    </tr>\n    <tr>\n      <th>4</th>\n      <td>Ломоносов, Михаил Васильевич</td>\n      <td>90786</td>\n    </tr>\n    <tr>\n      <th>...</th>\n      <td>...</td>\n      <td>...</td>\n    </tr>\n    <tr>\n      <th>3529</th>\n      <td>Категория:Игорь Северянин</td>\n      <td>18</td>\n    </tr>\n    <tr>\n      <th>3530</th>\n      <td>Категория:Пётр Вяземский</td>\n      <td>7</td>\n    </tr>\n    <tr>\n      <th>3531</th>\n      <td>Проект:Литература/Списки/Русские поэты Украины</td>\n      <td>nan</td>\n    </tr>\n    <tr>\n      <th>3532</th>\n      <td>Проект:Литература/Списки/Русские поэты XIX века</td>\n      <td>nan</td>\n    </tr>\n    <tr>\n      <th>3533</th>\n      <td>Скарынкина, Таня</td>\n      <td>nan</td>\n    </tr>\n  </tbody>\n</table>\n<p>3534 rows × 2 columns</p>\n</div>"
     },
     "execution_count": 21,
     "metadata": {},
     "output_type": "execute_result"
    }
   ],
   "source": [
    "rating_by_average = poet_stats.loc[:, ['title', 'monthly_average']]\n",
    "rating_by_average['monthly_average'] = rating_by_average['monthly_average'].map('{:.0f}'.format)\n",
    "rating_by_average"
   ],
   "metadata": {
    "collapsed": false,
    "pycharm": {
     "name": "#%%\n"
    }
   }
  },
  {
   "cell_type": "markdown",
   "source": [
    "## Тестовый запрос"
   ],
   "metadata": {
    "collapsed": false
   }
  },
  {
   "cell_type": "code",
   "execution_count": 6,
   "metadata": {
    "pycharm": {
     "name": "#%%\n"
    }
   },
   "outputs": [
    {
     "data": {
      "text/plain": "    index                      title   pageid   ns  por_pageid  por_ns  \\\n92    108  Асадов, Эдуард Аркадьевич  45877.0  0.0         NaN     NaN   \n\n    rwp_pageid  rwp_ns  2015080100  2015090100  ...  2020040100  2020050100  \\\n92         NaN     NaN     14495.0     22109.0  ...     17042.0     15031.0   \n\n    2020060100  2020070100  2020080100  2020090100  2020100100  2020110100  \\\n92      9729.0      8022.0      9959.0     13495.0     11758.0     12806.0   \n\n    monthly_average  2015-2020  \n92     15903.171875  1017803.0  \n\n[1 rows x 74 columns]",
      "text/html": "<div>\n<style scoped>\n    .dataframe tbody tr th:only-of-type {\n        vertical-align: middle;\n    }\n\n    .dataframe tbody tr th {\n        vertical-align: top;\n    }\n\n    .dataframe thead th {\n        text-align: right;\n    }\n</style>\n<table border=\"1\" class=\"dataframe\">\n  <thead>\n    <tr style=\"text-align: right;\">\n      <th></th>\n      <th>index</th>\n      <th>title</th>\n      <th>pageid</th>\n      <th>ns</th>\n      <th>por_pageid</th>\n      <th>por_ns</th>\n      <th>rwp_pageid</th>\n      <th>rwp_ns</th>\n      <th>2015080100</th>\n      <th>2015090100</th>\n      <th>...</th>\n      <th>2020040100</th>\n      <th>2020050100</th>\n      <th>2020060100</th>\n      <th>2020070100</th>\n      <th>2020080100</th>\n      <th>2020090100</th>\n      <th>2020100100</th>\n      <th>2020110100</th>\n      <th>monthly_average</th>\n      <th>2015-2020</th>\n    </tr>\n  </thead>\n  <tbody>\n    <tr>\n      <th>92</th>\n      <td>108</td>\n      <td>Асадов, Эдуард Аркадьевич</td>\n      <td>45877.0</td>\n      <td>0.0</td>\n      <td>NaN</td>\n      <td>NaN</td>\n      <td>NaN</td>\n      <td>NaN</td>\n      <td>14495.0</td>\n      <td>22109.0</td>\n      <td>...</td>\n      <td>17042.0</td>\n      <td>15031.0</td>\n      <td>9729.0</td>\n      <td>8022.0</td>\n      <td>9959.0</td>\n      <td>13495.0</td>\n      <td>11758.0</td>\n      <td>12806.0</td>\n      <td>15903.171875</td>\n      <td>1017803.0</td>\n    </tr>\n  </tbody>\n</table>\n<p>1 rows × 74 columns</p>\n</div>"
     },
     "execution_count": 6,
     "metadata": {},
     "output_type": "execute_result"
    }
   ],
   "source": [
    "def get_stats(poet):\n",
    "    return poet_stats.loc[poet_stats['title'].str.startswith(poet)]\n",
    "\n",
    "get_stats('Асадов')"
   ]
  },
  {
   "cell_type": "markdown",
   "source": [
    "# Сравниваем c данными опросов"
   ],
   "metadata": {
    "collapsed": false,
    "pycharm": {
     "name": "#%% md\n"
    }
   }
  },
  {
   "cell_type": "markdown",
   "source": [
    "## ВЦИОМ\n",
    "\n",
    "[Оригинальная публикация](https://wciom.ru/analytical-reviews/analiticheskii-obzor/lyubimye-poety-rossiyan)\n",
    "\n",
    "Чаще всего респондентам хочется перечитывать Пушкина (35%), Есенина (30%), Лермонтова (23%). Несколько реже возвращаются к творчеству Ахматовой, Маяковского (по 15%), Цветаевой, Блока (по 14%), Некрасова (13%).  Реже всего россиянам случается перечитывать произведения Симонова, Твардовского (по 8%), Евтушенко, Рождественского (по 7%), Вознесенского (5%)."
   ],
   "metadata": {
    "collapsed": false,
    "pycharm": {
     "name": "#%% md\n"
    }
   }
  },
  {
   "cell_type": "code",
   "execution_count": 7,
   "outputs": [],
   "source": [
    "wciom_stats = pd.Series({\n",
    "    'Пушкин, Александр Сергеевич': 0.35,\n",
    "    'Есенин, Сергей Александрович': 0.3,\n",
    "    'Лермонтов, Михаил Юрьевич': 0.23,\n",
    "    'Ахматова, Анна Андреевна': 0.15,\n",
    "    'Маяковский, Владимир Владимирович': 0.15,\n",
    "    'Цветаева, Марина Ивановна': 0.14,\n",
    "    'Блок, Александр Александрович': 0.14,\n",
    "    'Некрасов, Николай Алексеевич': 0.13,\n",
    "    'Симонов, Константин Михайлович': 0.08,\n",
    "    'Твардовский, Александр Трифонович': 0.08,\n",
    "    'Евтушенко, Евгений Александрович': 0.07,\n",
    "    'Рождественский, Роберт Иванович': 0.07,\n",
    "    'Вознесенский, Андрей Андреевич': 0.05\n",
    "})\n",
    "wciom_stats = wciom_stats.to_frame(name='wciom_reread')"
   ],
   "metadata": {
    "collapsed": false,
    "pycharm": {
     "name": "#%%\n"
    }
   }
  },
  {
   "cell_type": "code",
   "execution_count": 8,
   "outputs": [
    {
     "data": {
      "text/plain": "                                   Доля перечитывающих  \\\nПушкин, Александр Сергеевич                       0.35   \nЕсенин, Сергей Александрович                      0.30   \nЛермонтов, Михаил Юрьевич                         0.23   \nМаяковский, Владимир Владимирович                 0.15   \nАхматова, Анна Андреевна                          0.15   \nЦветаева, Марина Ивановна                         0.14   \nБлок, Александр Александрович                     0.14   \nНекрасов, Николай Алексеевич                      0.13   \nСимонов, Константин Михайлович                    0.08   \nТвардовский, Александр Трифонович                 0.08   \nЕвтушенко, Евгений Александрович                  0.07   \nРождественский, Роберт Иванович                   0.07   \nВознесенский, Андрей Андреевич                    0.05   \n\n                                   Рейтинг по числу запросов страницы в Википедии 2015-2020  \nПушкин, Александр Сергеевич                                                        1         \nЕсенин, Сергей Александрович                                                       2         \nЛермонтов, Михаил Юрьевич                                                          4         \nМаяковский, Владимир Владимирович                                                  7         \nАхматова, Анна Андреевна                                                          10         \nЦветаева, Марина Ивановна                                                         13         \nБлок, Александр Александрович                                                     18         \nНекрасов, Николай Алексеевич                                                      24         \nСимонов, Константин Михайлович                                                    57         \nТвардовский, Александр Трифонович                                                 60         \nЕвтушенко, Евгений Александрович                                                  25         \nРождественский, Роберт Иванович                                                   75         \nВознесенский, Андрей Андреевич                                                    97         ",
      "text/html": "<div>\n<style scoped>\n    .dataframe tbody tr th:only-of-type {\n        vertical-align: middle;\n    }\n\n    .dataframe tbody tr th {\n        vertical-align: top;\n    }\n\n    .dataframe thead th {\n        text-align: right;\n    }\n</style>\n<table border=\"1\" class=\"dataframe\">\n  <thead>\n    <tr style=\"text-align: right;\">\n      <th></th>\n      <th>Доля перечитывающих</th>\n      <th>Рейтинг по числу запросов страницы в Википедии 2015-2020</th>\n    </tr>\n  </thead>\n  <tbody>\n    <tr>\n      <th>Пушкин, Александр Сергеевич</th>\n      <td>0.35</td>\n      <td>1</td>\n    </tr>\n    <tr>\n      <th>Есенин, Сергей Александрович</th>\n      <td>0.30</td>\n      <td>2</td>\n    </tr>\n    <tr>\n      <th>Лермонтов, Михаил Юрьевич</th>\n      <td>0.23</td>\n      <td>4</td>\n    </tr>\n    <tr>\n      <th>Маяковский, Владимир Владимирович</th>\n      <td>0.15</td>\n      <td>7</td>\n    </tr>\n    <tr>\n      <th>Ахматова, Анна Андреевна</th>\n      <td>0.15</td>\n      <td>10</td>\n    </tr>\n    <tr>\n      <th>Цветаева, Марина Ивановна</th>\n      <td>0.14</td>\n      <td>13</td>\n    </tr>\n    <tr>\n      <th>Блок, Александр Александрович</th>\n      <td>0.14</td>\n      <td>18</td>\n    </tr>\n    <tr>\n      <th>Некрасов, Николай Алексеевич</th>\n      <td>0.13</td>\n      <td>24</td>\n    </tr>\n    <tr>\n      <th>Симонов, Константин Михайлович</th>\n      <td>0.08</td>\n      <td>57</td>\n    </tr>\n    <tr>\n      <th>Твардовский, Александр Трифонович</th>\n      <td>0.08</td>\n      <td>60</td>\n    </tr>\n    <tr>\n      <th>Евтушенко, Евгений Александрович</th>\n      <td>0.07</td>\n      <td>25</td>\n    </tr>\n    <tr>\n      <th>Рождественский, Роберт Иванович</th>\n      <td>0.07</td>\n      <td>75</td>\n    </tr>\n    <tr>\n      <th>Вознесенский, Андрей Андреевич</th>\n      <td>0.05</td>\n      <td>97</td>\n    </tr>\n  </tbody>\n</table>\n</div>"
     },
     "execution_count": 8,
     "metadata": {},
     "output_type": "execute_result"
    }
   ],
   "source": [
    "rank = poet_stats['title'].to_frame()\n",
    "rank['rank'] = rank.index + 1\n",
    "rank.set_index('title', inplace=True)\n",
    "\n",
    "wciom_rank = wciom_stats.join(rank).sort_values(['wciom_reread', 'rank'], ascending=[False, True]).rename(\n",
    "    columns={'wciom_reread': 'Доля перечитывающих', 'rank': 'Рейтинг по числу запросов страницы в Википедии 2015-2020'})\n",
    "wciom_rank"
   ],
   "metadata": {
    "collapsed": false,
    "pycharm": {
     "name": "#%%\n"
    }
   }
  },
  {
   "cell_type": "code",
   "execution_count": 9,
   "outputs": [
    {
     "data": {
      "text/plain": "                                                 rank  wciom_reread\ntitle                                                              \nПушкин, Александр Сергеевич                         1          0.35\nЕсенин, Сергей Александрович                        2          0.30\nВысоцкий, Владимир Семёнович                        3           NaN\nЛермонтов, Михаил Юрьевич                           4          0.23\nЛомоносов, Михаил Васильевич                        5           NaN\n...                                               ...           ...\nКатегория:Игорь Северянин                        3530           NaN\nКатегория:Пётр Вяземский                         3531           NaN\nПроект:Литература/Списки/Русские поэты Украины   3532           NaN\nПроект:Литература/Списки/Русские поэты XIX века  3533           NaN\nСкарынкина, Таня                                 3534           NaN\n\n[3534 rows x 2 columns]",
      "text/html": "<div>\n<style scoped>\n    .dataframe tbody tr th:only-of-type {\n        vertical-align: middle;\n    }\n\n    .dataframe tbody tr th {\n        vertical-align: top;\n    }\n\n    .dataframe thead th {\n        text-align: right;\n    }\n</style>\n<table border=\"1\" class=\"dataframe\">\n  <thead>\n    <tr style=\"text-align: right;\">\n      <th></th>\n      <th>rank</th>\n      <th>wciom_reread</th>\n    </tr>\n    <tr>\n      <th>title</th>\n      <th></th>\n      <th></th>\n    </tr>\n  </thead>\n  <tbody>\n    <tr>\n      <th>Пушкин, Александр Сергеевич</th>\n      <td>1</td>\n      <td>0.35</td>\n    </tr>\n    <tr>\n      <th>Есенин, Сергей Александрович</th>\n      <td>2</td>\n      <td>0.30</td>\n    </tr>\n    <tr>\n      <th>Высоцкий, Владимир Семёнович</th>\n      <td>3</td>\n      <td>NaN</td>\n    </tr>\n    <tr>\n      <th>Лермонтов, Михаил Юрьевич</th>\n      <td>4</td>\n      <td>0.23</td>\n    </tr>\n    <tr>\n      <th>Ломоносов, Михаил Васильевич</th>\n      <td>5</td>\n      <td>NaN</td>\n    </tr>\n    <tr>\n      <th>...</th>\n      <td>...</td>\n      <td>...</td>\n    </tr>\n    <tr>\n      <th>Категория:Игорь Северянин</th>\n      <td>3530</td>\n      <td>NaN</td>\n    </tr>\n    <tr>\n      <th>Категория:Пётр Вяземский</th>\n      <td>3531</td>\n      <td>NaN</td>\n    </tr>\n    <tr>\n      <th>Проект:Литература/Списки/Русские поэты Украины</th>\n      <td>3532</td>\n      <td>NaN</td>\n    </tr>\n    <tr>\n      <th>Проект:Литература/Списки/Русские поэты XIX века</th>\n      <td>3533</td>\n      <td>NaN</td>\n    </tr>\n    <tr>\n      <th>Скарынкина, Таня</th>\n      <td>3534</td>\n      <td>NaN</td>\n    </tr>\n  </tbody>\n</table>\n<p>3534 rows × 2 columns</p>\n</div>"
     },
     "execution_count": 9,
     "metadata": {},
     "output_type": "execute_result"
    }
   ],
   "source": [
    "rank.join(wciom_stats)"
   ],
   "metadata": {
    "collapsed": false,
    "pycharm": {
     "name": "#%%\n"
    }
   }
  },
  {
   "cell_type": "code",
   "execution_count": 10,
   "outputs": [
    {
     "data": {
      "text/plain": "<AxesSubplot:xlabel='Доля перечитывающих', ylabel='Рейтинг по числу запросов страницы в Википедии 2015-2020'>"
     },
     "execution_count": 10,
     "metadata": {},
     "output_type": "execute_result"
    },
    {
     "data": {
      "text/plain": "<Figure size 432x288 with 1 Axes>",
      "image/png": "[encoded data removed]"
     },
     "metadata": {
      "needs_background": "light"
     },
     "output_type": "display_data"
    }
   ],
   "source": [
    "import seaborn as sns\n",
    "\n",
    "sns.scatterplot(data=wciom_rank, x='Доля перечитывающих', y='Рейтинг по числу запросов страницы в Википедии 2015-2020')"
   ],
   "metadata": {
    "collapsed": false,
    "pycharm": {
     "name": "#%%\n"
    }
   }
  },
  {
   "cell_type": "markdown",
   "source": [
    "## ЛЕВАДА\n",
    "\n",
    "ГЛАВНЫЕ ПОЭТЫ XX-ГО ВЕКА\n",
    "\n",
    "[Оригинал статьи](https://www.levada.ru/2013/07/18/glavnye-poety-xx-go-veka/)\n",
    "\n",
    "Вопрос: НАЗОВИТЕ 5-6 НАИБОЛЕЕ ВЫДАЮЩИХСЯ, НА ВАШ ВЗГЛЯД, СОВЕТСКИХ И РОССИЙСКИХ ПОЭТОВ ХХ ВЕКА?"
   ],
   "metadata": {
    "collapsed": false
   }
  },
  {
   "cell_type": "code",
   "execution_count": 11,
   "outputs": [
    {
     "data": {
      "text/plain": "                                   popularity\nauthor                                       \nЕсенин, Сергей Александрович             39.0\nМаяковский, Владимир Владимирович        27.0\nВысоцкий, Владимир Семёнович             26.0\nАхматова, Анна Андреевна                 23.0\nЦветаева, Марина Ивановна                19.0\nБлок, Александр Александрович            18.0\nОкуджава, Булат Шалвович                 15.0\nМаршак, Самуил Яковлевич                 14.0\nЕвтушенко, Евгений Александрович         13.0\nРождественский, Роберт Иванович          13.0\nЧуковский, Корней Иванович               12.0\nТвардовский, Александр Трифонович        11.0\nАхмадулина, Белла Ахатовна               10.0\nБарто, Агния Львовна                     10.0\nМихалков, Сергей Владимирович            10.0\nПастернак, Борис Леонидович               9.0\nВознесенский, Андрей Андреевич            7.0\nГамзатов, Расул_Гамзатович                6.0\nТанич, Михаил Исаевич                     6.0\nГумилёв, Николай Степанович               5.0\nМандельштам, Осип Эмильевич               4.0\nГалич, Александр Аркадьевич               4.0\nБродский, Иосиф Александрович             4.0\nДементьев, Андрей Дмитриевич              3.0\nАсадов, Эдуард Аркадьевич                 3.0",
      "text/html": "<div>\n<style scoped>\n    .dataframe tbody tr th:only-of-type {\n        vertical-align: middle;\n    }\n\n    .dataframe tbody tr th {\n        vertical-align: top;\n    }\n\n    .dataframe thead th {\n        text-align: right;\n    }\n</style>\n<table border=\"1\" class=\"dataframe\">\n  <thead>\n    <tr style=\"text-align: right;\">\n      <th></th>\n      <th>popularity</th>\n    </tr>\n    <tr>\n      <th>author</th>\n      <th></th>\n    </tr>\n  </thead>\n  <tbody>\n    <tr>\n      <th>Есенин, Сергей Александрович</th>\n      <td>39.0</td>\n    </tr>\n    <tr>\n      <th>Маяковский, Владимир Владимирович</th>\n      <td>27.0</td>\n    </tr>\n    <tr>\n      <th>Высоцкий, Владимир Семёнович</th>\n      <td>26.0</td>\n    </tr>\n    <tr>\n      <th>Ахматова, Анна Андреевна</th>\n      <td>23.0</td>\n    </tr>\n    <tr>\n      <th>Цветаева, Марина Ивановна</th>\n      <td>19.0</td>\n    </tr>\n    <tr>\n      <th>Блок, Александр Александрович</th>\n      <td>18.0</td>\n    </tr>\n    <tr>\n      <th>Окуджава, Булат Шалвович</th>\n      <td>15.0</td>\n    </tr>\n    <tr>\n      <th>Маршак, Самуил Яковлевич</th>\n      <td>14.0</td>\n    </tr>\n    <tr>\n      <th>Евтушенко, Евгений Александрович</th>\n      <td>13.0</td>\n    </tr>\n    <tr>\n      <th>Рождественский, Роберт Иванович</th>\n      <td>13.0</td>\n    </tr>\n    <tr>\n      <th>Чуковский, Корней Иванович</th>\n      <td>12.0</td>\n    </tr>\n    <tr>\n      <th>Твардовский, Александр Трифонович</th>\n      <td>11.0</td>\n    </tr>\n    <tr>\n      <th>Ахмадулина, Белла Ахатовна</th>\n      <td>10.0</td>\n    </tr>\n    <tr>\n      <th>Барто, Агния Львовна</th>\n      <td>10.0</td>\n    </tr>\n    <tr>\n      <th>Михалков, Сергей Владимирович</th>\n      <td>10.0</td>\n    </tr>\n    <tr>\n      <th>Пастернак, Борис Леонидович</th>\n      <td>9.0</td>\n    </tr>\n    <tr>\n      <th>Вознесенский, Андрей Андреевич</th>\n      <td>7.0</td>\n    </tr>\n    <tr>\n      <th>Гамзатов, Расул_Гамзатович</th>\n      <td>6.0</td>\n    </tr>\n    <tr>\n      <th>Танич, Михаил Исаевич</th>\n      <td>6.0</td>\n    </tr>\n    <tr>\n      <th>Гумилёв, Николай Степанович</th>\n      <td>5.0</td>\n    </tr>\n    <tr>\n      <th>Мандельштам, Осип Эмильевич</th>\n      <td>4.0</td>\n    </tr>\n    <tr>\n      <th>Галич, Александр Аркадьевич</th>\n      <td>4.0</td>\n    </tr>\n    <tr>\n      <th>Бродский, Иосиф Александрович</th>\n      <td>4.0</td>\n    </tr>\n    <tr>\n      <th>Дементьев, Андрей Дмитриевич</th>\n      <td>3.0</td>\n    </tr>\n    <tr>\n      <th>Асадов, Эдуард Аркадьевич</th>\n      <td>3.0</td>\n    </tr>\n  </tbody>\n</table>\n</div>"
     },
     "execution_count": 11,
     "metadata": {},
     "output_type": "execute_result"
    }
   ],
   "source": [
    "levada = pd.read_csv('data/levada-2013.csv', index_col='author')\n",
    "levada"
   ],
   "metadata": {
    "collapsed": false,
    "pycharm": {
     "name": "#%%\n"
    }
   }
  },
  {
   "cell_type": "code",
   "execution_count": 12,
   "outputs": [
    {
     "data": {
      "text/plain": "                                   Доля респондентов  \\\nauthor                                                 \nЕсенин, Сергей Александрович                    39.0   \nМаяковский, Владимир Владимирович               27.0   \nВысоцкий, Владимир Семёнович                    26.0   \nАхматова, Анна Андреевна                        23.0   \nЦветаева, Марина Ивановна                       19.0   \nБлок, Александр Александрович                   18.0   \nОкуджава, Булат Шалвович                        15.0   \nМаршак, Самуил Яковлевич                        14.0   \nЕвтушенко, Евгений Александрович                13.0   \nРождественский, Роберт Иванович                 13.0   \nЧуковский, Корней Иванович                      12.0   \nТвардовский, Александр Трифонович               11.0   \nМихалков, Сергей Владимирович                   10.0   \nАхмадулина, Белла Ахатовна                      10.0   \nБарто, Агния Львовна                            10.0   \nПастернак, Борис Леонидович                      9.0   \nВознесенский, Андрей Андреевич                   7.0   \nТанич, Михаил Исаевич                            6.0   \nГамзатов, Расул_Гамзатович                       6.0   \nГумилёв, Николай Степанович                      5.0   \nБродский, Иосиф Александрович                    4.0   \nМандельштам, Осип Эмильевич                      4.0   \nГалич, Александр Аркадьевич                      4.0   \nАсадов, Эдуард Аркадьевич                        3.0   \nДементьев, Андрей Дмитриевич                     3.0   \n\n                                   Рейтинг по числу запросов страницы в Википедии 2015-2020  \nauthor                                                                                       \nЕсенин, Сергей Александрович                                                     2.0         \nМаяковский, Владимир Владимирович                                                7.0         \nВысоцкий, Владимир Семёнович                                                     3.0         \nАхматова, Анна Андреевна                                                        10.0         \nЦветаева, Марина Ивановна                                                       13.0         \nБлок, Александр Александрович                                                   18.0         \nОкуджава, Булат Шалвович                                                        44.0         \nМаршак, Самуил Яковлевич                                                        65.0         \nЕвтушенко, Евгений Александрович                                                25.0         \nРождественский, Роберт Иванович                                                 75.0         \nЧуковский, Корней Иванович                                                      46.0         \nТвардовский, Александр Трифонович                                               60.0         \nМихалков, Сергей Владимирович                                                   39.0         \nАхмадулина, Белла Ахатовна                                                      52.0         \nБарто, Агния Львовна                                                            84.0         \nПастернак, Борис Леонидович                                                     20.0         \nВознесенский, Андрей Андреевич                                                  97.0         \nТанич, Михаил Исаевич                                                          104.0         \nГамзатов, Расул_Гамзатович                                                       NaN         \nГумилёв, Николай Степанович                                                     32.0         \nБродский, Иосиф Александрович                                                   16.0         \nМандельштам, Осип Эмильевич                                                     51.0         \nГалич, Александр Аркадьевич                                                    121.0         \nАсадов, Эдуард Аркадьевич                                                       93.0         \nДементьев, Андрей Дмитриевич                                                   160.0         ",
      "text/html": "<div>\n<style scoped>\n    .dataframe tbody tr th:only-of-type {\n        vertical-align: middle;\n    }\n\n    .dataframe tbody tr th {\n        vertical-align: top;\n    }\n\n    .dataframe thead th {\n        text-align: right;\n    }\n</style>\n<table border=\"1\" class=\"dataframe\">\n  <thead>\n    <tr style=\"text-align: right;\">\n      <th></th>\n      <th>Доля респондентов</th>\n      <th>Рейтинг по числу запросов страницы в Википедии 2015-2020</th>\n    </tr>\n    <tr>\n      <th>author</th>\n      <th></th>\n      <th></th>\n    </tr>\n  </thead>\n  <tbody>\n    <tr>\n      <th>Есенин, Сергей Александрович</th>\n      <td>39.0</td>\n      <td>2.0</td>\n    </tr>\n    <tr>\n      <th>Маяковский, Владимир Владимирович</th>\n      <td>27.0</td>\n      <td>7.0</td>\n    </tr>\n    <tr>\n      <th>Высоцкий, Владимир Семёнович</th>\n      <td>26.0</td>\n      <td>3.0</td>\n    </tr>\n    <tr>\n      <th>Ахматова, Анна Андреевна</th>\n      <td>23.0</td>\n      <td>10.0</td>\n    </tr>\n    <tr>\n      <th>Цветаева, Марина Ивановна</th>\n      <td>19.0</td>\n      <td>13.0</td>\n    </tr>\n    <tr>\n      <th>Блок, Александр Александрович</th>\n      <td>18.0</td>\n      <td>18.0</td>\n    </tr>\n    <tr>\n      <th>Окуджава, Булат Шалвович</th>\n      <td>15.0</td>\n      <td>44.0</td>\n    </tr>\n    <tr>\n      <th>Маршак, Самуил Яковлевич</th>\n      <td>14.0</td>\n      <td>65.0</td>\n    </tr>\n    <tr>\n      <th>Евтушенко, Евгений Александрович</th>\n      <td>13.0</td>\n      <td>25.0</td>\n    </tr>\n    <tr>\n      <th>Рождественский, Роберт Иванович</th>\n      <td>13.0</td>\n      <td>75.0</td>\n    </tr>\n    <tr>\n      <th>Чуковский, Корней Иванович</th>\n      <td>12.0</td>\n      <td>46.0</td>\n    </tr>\n    <tr>\n      <th>Твардовский, Александр Трифонович</th>\n      <td>11.0</td>\n      <td>60.0</td>\n    </tr>\n    <tr>\n      <th>Михалков, Сергей Владимирович</th>\n      <td>10.0</td>\n      <td>39.0</td>\n    </tr>\n    <tr>\n      <th>Ахмадулина, Белла Ахатовна</th>\n      <td>10.0</td>\n      <td>52.0</td>\n    </tr>\n    <tr>\n      <th>Барто, Агния Львовна</th>\n      <td>10.0</td>\n      <td>84.0</td>\n    </tr>\n    <tr>\n      <th>Пастернак, Борис Леонидович</th>\n      <td>9.0</td>\n      <td>20.0</td>\n    </tr>\n    <tr>\n      <th>Вознесенский, Андрей Андреевич</th>\n      <td>7.0</td>\n      <td>97.0</td>\n    </tr>\n    <tr>\n      <th>Танич, Михаил Исаевич</th>\n      <td>6.0</td>\n      <td>104.0</td>\n    </tr>\n    <tr>\n      <th>Гамзатов, Расул_Гамзатович</th>\n      <td>6.0</td>\n      <td>NaN</td>\n    </tr>\n    <tr>\n      <th>Гумилёв, Николай Степанович</th>\n      <td>5.0</td>\n      <td>32.0</td>\n    </tr>\n    <tr>\n      <th>Бродский, Иосиф Александрович</th>\n      <td>4.0</td>\n      <td>16.0</td>\n    </tr>\n    <tr>\n      <th>Мандельштам, Осип Эмильевич</th>\n      <td>4.0</td>\n      <td>51.0</td>\n    </tr>\n    <tr>\n      <th>Галич, Александр Аркадьевич</th>\n      <td>4.0</td>\n      <td>121.0</td>\n    </tr>\n    <tr>\n      <th>Асадов, Эдуард Аркадьевич</th>\n      <td>3.0</td>\n      <td>93.0</td>\n    </tr>\n    <tr>\n      <th>Дементьев, Андрей Дмитриевич</th>\n      <td>3.0</td>\n      <td>160.0</td>\n    </tr>\n  </tbody>\n</table>\n</div>"
     },
     "execution_count": 12,
     "metadata": {},
     "output_type": "execute_result"
    }
   ],
   "source": [
    "levada_rank = levada.join(rank).sort_values(['popularity', 'rank'], ascending=[False, True]).rename(\n",
    "    columns={'popularity': 'Доля респондентов', 'rank': 'Рейтинг по числу запросов страницы в Википедии 2015-2020'})\n",
    "levada_rank"
   ],
   "metadata": {
    "collapsed": false,
    "pycharm": {
     "name": "#%%\n"
    }
   }
  },
  {
   "cell_type": "code",
   "execution_count": 13,
   "outputs": [
    {
     "data": {
      "text/plain": "<AxesSubplot:xlabel='Доля респондентов', ylabel='Рейтинг по числу запросов страницы в Википедии 2015-2020'>"
     },
     "execution_count": 13,
     "metadata": {},
     "output_type": "execute_result"
    },
    {
     "data": {
      "text/plain": "<Figure size 432x288 with 1 Axes>",
      "image/png": "[encoded data removed]"
     },
     "metadata": {
      "needs_background": "light"
     },
     "output_type": "display_data"
    }
   ],
   "source": [
    "sns.scatterplot(data=levada_rank, x='Доля респондентов', y='Рейтинг по числу запросов страницы в Википедии 2015-2020')"
   ],
   "metadata": {
    "collapsed": false,
    "pycharm": {
     "name": "#%%\n"
    }
   }
  },
  {
   "cell_type": "markdown",
   "source": [
    "## Опрос Prosodia: Русская поэзия и читатель"
   ],
   "metadata": {
    "collapsed": false
   },
   "outputs": []
  },
  {
   "cell_type": "code",
   "execution_count": 14,
   "outputs": [
    {
     "data": {
      "text/plain": "                                   prosodia\nБродский, Иосиф Александрович        0.1320\nПушкин, Александр Сергеевич          0.1300\nЦветаева, Марина Ивановна            0.0890\nМандельштам, Осип Эмильевич          0.0862\nЛермонтов, Михаил Юрьевич            0.0740\nМаяковский, Владимир Владимирович    0.0740\nАхматова, Анна Андреевна             0.0660\nБлок, Александр Александрович        0.0640\nЕсенин, Сергей Александрович         0.0600\nПастернак, Борис Леонидович          0.0510\nГумилёв, Николай Степанович          0.0460\nВысоцкий, Владимир Семёнович         0.0270\nТарковский, Арсений Александрович    0.0230\nАсадов, Эдуард Аркадьевич            0.0170\nБыков, Дмитрий Львович               0.0170\nРождественский, Роберт Иванович      0.0170\nХодасевич, Владислав Фелицианович    0.0170\nРыжий, Борис Борисович               0.0150\nТютчев, Фёдор Иванович               0.0130",
      "text/html": "<div>\n<style scoped>\n    .dataframe tbody tr th:only-of-type {\n        vertical-align: middle;\n    }\n\n    .dataframe tbody tr th {\n        vertical-align: top;\n    }\n\n    .dataframe thead th {\n        text-align: right;\n    }\n</style>\n<table border=\"1\" class=\"dataframe\">\n  <thead>\n    <tr style=\"text-align: right;\">\n      <th></th>\n      <th>prosodia</th>\n    </tr>\n  </thead>\n  <tbody>\n    <tr>\n      <th>Бродский, Иосиф Александрович</th>\n      <td>0.1320</td>\n    </tr>\n    <tr>\n      <th>Пушкин, Александр Сергеевич</th>\n      <td>0.1300</td>\n    </tr>\n    <tr>\n      <th>Цветаева, Марина Ивановна</th>\n      <td>0.0890</td>\n    </tr>\n    <tr>\n      <th>Мандельштам, Осип Эмильевич</th>\n      <td>0.0862</td>\n    </tr>\n    <tr>\n      <th>Лермонтов, Михаил Юрьевич</th>\n      <td>0.0740</td>\n    </tr>\n    <tr>\n      <th>Маяковский, Владимир Владимирович</th>\n      <td>0.0740</td>\n    </tr>\n    <tr>\n      <th>Ахматова, Анна Андреевна</th>\n      <td>0.0660</td>\n    </tr>\n    <tr>\n      <th>Блок, Александр Александрович</th>\n      <td>0.0640</td>\n    </tr>\n    <tr>\n      <th>Есенин, Сергей Александрович</th>\n      <td>0.0600</td>\n    </tr>\n    <tr>\n      <th>Пастернак, Борис Леонидович</th>\n      <td>0.0510</td>\n    </tr>\n    <tr>\n      <th>Гумилёв, Николай Степанович</th>\n      <td>0.0460</td>\n    </tr>\n    <tr>\n      <th>Высоцкий, Владимир Семёнович</th>\n      <td>0.0270</td>\n    </tr>\n    <tr>\n      <th>Тарковский, Арсений Александрович</th>\n      <td>0.0230</td>\n    </tr>\n    <tr>\n      <th>Асадов, Эдуард Аркадьевич</th>\n      <td>0.0170</td>\n    </tr>\n    <tr>\n      <th>Быков, Дмитрий Львович</th>\n      <td>0.0170</td>\n    </tr>\n    <tr>\n      <th>Рождественский, Роберт Иванович</th>\n      <td>0.0170</td>\n    </tr>\n    <tr>\n      <th>Ходасевич, Владислав Фелицианович</th>\n      <td>0.0170</td>\n    </tr>\n    <tr>\n      <th>Рыжий, Борис Борисович</th>\n      <td>0.0150</td>\n    </tr>\n    <tr>\n      <th>Тютчев, Фёдор Иванович</th>\n      <td>0.0130</td>\n    </tr>\n  </tbody>\n</table>\n</div>"
     },
     "execution_count": 14,
     "metadata": {},
     "output_type": "execute_result"
    }
   ],
   "source": [
    "prosodia_survey = pd.Series({\n",
    "    'Бродский, Иосиф Александрович': 0.132,\n",
    "    'Пушкин, Александр Сергеевич': 0.13,\n",
    "    'Цветаева, Марина Ивановна': 0.089,\n",
    "    'Мандельштам, Осип Эмильевич': 0.0862,\n",
    "    'Лермонтов, Михаил Юрьевич': 0.074,\n",
    "    'Маяковский, Владимир Владимирович': 0.074,\n",
    "    'Ахматова, Анна Андреевна': 0.066,\n",
    "    'Блок, Александр Александрович': 0.064,\n",
    "    'Есенин, Сергей Александрович': 0.06,\n",
    "    'Пастернак, Борис Леонидович': 0.051,\n",
    "    'Гумилёв, Николай Степанович': 0.046,\n",
    "    'Высоцкий, Владимир Семёнович': 0.027,\n",
    "    'Тарковский, Арсений Александрович': 0.023,\n",
    "    'Асадов, Эдуард Аркадьевич': 0.017,\n",
    "    'Быков, Дмитрий Львович': 0.017,\n",
    "    'Рождественский, Роберт Иванович': 0.017,\n",
    "    'Ходасевич, Владислав Фелицианович': 0.017,\n",
    "    'Рыжий, Борис Борисович': 0.015,\n",
    "    'Тютчев, Фёдор Иванович': 0.013\n",
    "}).to_frame(name='prosodia')\n",
    "prosodia_survey"
   ],
   "metadata": {
    "collapsed": false,
    "pycharm": {
     "name": "#%%\n"
    }
   }
  },
  {
   "cell_type": "code",
   "execution_count": 15,
   "outputs": [
    {
     "data": {
      "text/plain": "                                   Доля респондентов  \\\nБродский, Иосиф Александрович                 0.1320   \nПушкин, Александр Сергеевич                   0.1300   \nЦветаева, Марина Ивановна                     0.0890   \nМандельштам, Осип Эмильевич                   0.0862   \nЛермонтов, Михаил Юрьевич                     0.0740   \nМаяковский, Владимир Владимирович             0.0740   \nАхматова, Анна Андреевна                      0.0660   \nБлок, Александр Александрович                 0.0640   \nЕсенин, Сергей Александрович                  0.0600   \nПастернак, Борис Леонидович                   0.0510   \nГумилёв, Николай Степанович                   0.0460   \nВысоцкий, Владимир Семёнович                  0.0270   \nТарковский, Арсений Александрович             0.0230   \nБыков, Дмитрий Львович                        0.0170   \nРождественский, Роберт Иванович               0.0170   \nАсадов, Эдуард Аркадьевич                     0.0170   \nХодасевич, Владислав Фелицианович             0.0170   \nРыжий, Борис Борисович                        0.0150   \nТютчев, Фёдор Иванович                        0.0130   \n\n                                   Рейтинг по числу запросов страницы в Википедии 2015-2020  \nБродский, Иосиф Александрович                                                     16         \nПушкин, Александр Сергеевич                                                        1         \nЦветаева, Марина Ивановна                                                         13         \nМандельштам, Осип Эмильевич                                                       51         \nЛермонтов, Михаил Юрьевич                                                          4         \nМаяковский, Владимир Владимирович                                                  7         \nАхматова, Анна Андреевна                                                          10         \nБлок, Александр Александрович                                                     18         \nЕсенин, Сергей Александрович                                                       2         \nПастернак, Борис Леонидович                                                       20         \nГумилёв, Николай Степанович                                                       32         \nВысоцкий, Владимир Семёнович                                                       3         \nТарковский, Арсений Александрович                                                189         \nБыков, Дмитрий Львович                                                            45         \nРождественский, Роберт Иванович                                                   75         \nАсадов, Эдуард Аркадьевич                                                         93         \nХодасевич, Владислав Фелицианович                                                243         \nРыжий, Борис Борисович                                                           170         \nТютчев, Фёдор Иванович                                                            26         ",
      "text/html": "<div>\n<style scoped>\n    .dataframe tbody tr th:only-of-type {\n        vertical-align: middle;\n    }\n\n    .dataframe tbody tr th {\n        vertical-align: top;\n    }\n\n    .dataframe thead th {\n        text-align: right;\n    }\n</style>\n<table border=\"1\" class=\"dataframe\">\n  <thead>\n    <tr style=\"text-align: right;\">\n      <th></th>\n      <th>Доля респондентов</th>\n      <th>Рейтинг по числу запросов страницы в Википедии 2015-2020</th>\n    </tr>\n  </thead>\n  <tbody>\n    <tr>\n      <th>Бродский, Иосиф Александрович</th>\n      <td>0.1320</td>\n      <td>16</td>\n    </tr>\n    <tr>\n      <th>Пушкин, Александр Сергеевич</th>\n      <td>0.1300</td>\n      <td>1</td>\n    </tr>\n    <tr>\n      <th>Цветаева, Марина Ивановна</th>\n      <td>0.0890</td>\n      <td>13</td>\n    </tr>\n    <tr>\n      <th>Мандельштам, Осип Эмильевич</th>\n      <td>0.0862</td>\n      <td>51</td>\n    </tr>\n    <tr>\n      <th>Лермонтов, Михаил Юрьевич</th>\n      <td>0.0740</td>\n      <td>4</td>\n    </tr>\n    <tr>\n      <th>Маяковский, Владимир Владимирович</th>\n      <td>0.0740</td>\n      <td>7</td>\n    </tr>\n    <tr>\n      <th>Ахматова, Анна Андреевна</th>\n      <td>0.0660</td>\n      <td>10</td>\n    </tr>\n    <tr>\n      <th>Блок, Александр Александрович</th>\n      <td>0.0640</td>\n      <td>18</td>\n    </tr>\n    <tr>\n      <th>Есенин, Сергей Александрович</th>\n      <td>0.0600</td>\n      <td>2</td>\n    </tr>\n    <tr>\n      <th>Пастернак, Борис Леонидович</th>\n      <td>0.0510</td>\n      <td>20</td>\n    </tr>\n    <tr>\n      <th>Гумилёв, Николай Степанович</th>\n      <td>0.0460</td>\n      <td>32</td>\n    </tr>\n    <tr>\n      <th>Высоцкий, Владимир Семёнович</th>\n      <td>0.0270</td>\n      <td>3</td>\n    </tr>\n    <tr>\n      <th>Тарковский, Арсений Александрович</th>\n      <td>0.0230</td>\n      <td>189</td>\n    </tr>\n    <tr>\n      <th>Быков, Дмитрий Львович</th>\n      <td>0.0170</td>\n      <td>45</td>\n    </tr>\n    <tr>\n      <th>Рождественский, Роберт Иванович</th>\n      <td>0.0170</td>\n      <td>75</td>\n    </tr>\n    <tr>\n      <th>Асадов, Эдуард Аркадьевич</th>\n      <td>0.0170</td>\n      <td>93</td>\n    </tr>\n    <tr>\n      <th>Ходасевич, Владислав Фелицианович</th>\n      <td>0.0170</td>\n      <td>243</td>\n    </tr>\n    <tr>\n      <th>Рыжий, Борис Борисович</th>\n      <td>0.0150</td>\n      <td>170</td>\n    </tr>\n    <tr>\n      <th>Тютчев, Фёдор Иванович</th>\n      <td>0.0130</td>\n      <td>26</td>\n    </tr>\n  </tbody>\n</table>\n</div>"
     },
     "execution_count": 15,
     "metadata": {},
     "output_type": "execute_result"
    }
   ],
   "source": [
    "prosodia_rank = prosodia_survey.join(rank).sort_values(['prosodia', 'rank'], ascending=[False, True]).rename(\n",
    "    columns={'prosodia': 'Доля респондентов', 'rank': 'Рейтинг по числу запросов страницы в Википедии 2015-2020'})\n",
    "prosodia_rank"
   ],
   "metadata": {
    "collapsed": false,
    "pycharm": {
     "name": "#%%\n"
    }
   }
  },
  {
   "cell_type": "code",
   "execution_count": 16,
   "outputs": [
    {
     "data": {
      "text/plain": "                                                 rank  prosodia\ntitle                                                          \nПушкин, Александр Сергеевич                         1     0.130\nЕсенин, Сергей Александрович                        2     0.060\nВысоцкий, Владимир Семёнович                        3     0.027\nЛермонтов, Михаил Юрьевич                           4     0.074\nЛомоносов, Михаил Васильевич                        5       NaN\n...                                               ...       ...\nКатегория:Игорь Северянин                        3530       NaN\nКатегория:Пётр Вяземский                         3531       NaN\nПроект:Литература/Списки/Русские поэты Украины   3532       NaN\nПроект:Литература/Списки/Русские поэты XIX века  3533       NaN\nСкарынкина, Таня                                 3534       NaN\n\n[3534 rows x 2 columns]",
      "text/html": "<div>\n<style scoped>\n    .dataframe tbody tr th:only-of-type {\n        vertical-align: middle;\n    }\n\n    .dataframe tbody tr th {\n        vertical-align: top;\n    }\n\n    .dataframe thead th {\n        text-align: right;\n    }\n</style>\n<table border=\"1\" class=\"dataframe\">\n  <thead>\n    <tr style=\"text-align: right;\">\n      <th></th>\n      <th>rank</th>\n      <th>prosodia</th>\n    </tr>\n    <tr>\n      <th>title</th>\n      <th></th>\n      <th></th>\n    </tr>\n  </thead>\n  <tbody>\n    <tr>\n      <th>Пушкин, Александр Сергеевич</th>\n      <td>1</td>\n      <td>0.130</td>\n    </tr>\n    <tr>\n      <th>Есенин, Сергей Александрович</th>\n      <td>2</td>\n      <td>0.060</td>\n    </tr>\n    <tr>\n      <th>Высоцкий, Владимир Семёнович</th>\n      <td>3</td>\n      <td>0.027</td>\n    </tr>\n    <tr>\n      <th>Лермонтов, Михаил Юрьевич</th>\n      <td>4</td>\n      <td>0.074</td>\n    </tr>\n    <tr>\n      <th>Ломоносов, Михаил Васильевич</th>\n      <td>5</td>\n      <td>NaN</td>\n    </tr>\n    <tr>\n      <th>...</th>\n      <td>...</td>\n      <td>...</td>\n    </tr>\n    <tr>\n      <th>Категория:Игорь Северянин</th>\n      <td>3530</td>\n      <td>NaN</td>\n    </tr>\n    <tr>\n      <th>Категория:Пётр Вяземский</th>\n      <td>3531</td>\n      <td>NaN</td>\n    </tr>\n    <tr>\n      <th>Проект:Литература/Списки/Русские поэты Украины</th>\n      <td>3532</td>\n      <td>NaN</td>\n    </tr>\n    <tr>\n      <th>Проект:Литература/Списки/Русские поэты XIX века</th>\n      <td>3533</td>\n      <td>NaN</td>\n    </tr>\n    <tr>\n      <th>Скарынкина, Таня</th>\n      <td>3534</td>\n      <td>NaN</td>\n    </tr>\n  </tbody>\n</table>\n<p>3534 rows × 2 columns</p>\n</div>"
     },
     "execution_count": 16,
     "metadata": {},
     "output_type": "execute_result"
    }
   ],
   "source": [
    "rank.join(prosodia_survey)"
   ],
   "metadata": {
    "collapsed": false,
    "pycharm": {
     "name": "#%%\n"
    }
   }
  },
  {
   "cell_type": "markdown",
   "source": [
    "## Проект “110 к 10 с чем-то”"
   ],
   "metadata": {
    "collapsed": false
   }
  },
  {
   "cell_type": "code",
   "execution_count": 17,
   "outputs": [
    {
     "ename": "NameError",
     "evalue": "name 're' is not defined",
     "output_type": "error",
     "traceback": [
      "\u001B[1;31m---------------------------------------------------------------------------\u001B[0m",
      "\u001B[1;31mNameError\u001B[0m                                 Traceback (most recent call last)",
      "\u001B[1;32m<ipython-input-17-f14cab7fa553>\u001B[0m in \u001B[0;36m<module>\u001B[1;34m\u001B[0m\n\u001B[0;32m      5\u001B[0m     \u001B[1;32mreturn\u001B[0m \u001B[1;34m', '\u001B[0m\u001B[1;33m.\u001B[0m\u001B[0mjoin\u001B[0m\u001B[1;33m(\u001B[0m\u001B[1;33m[\u001B[0m\u001B[0mparts\u001B[0m\u001B[1;33m[\u001B[0m\u001B[1;33m-\u001B[0m\u001B[1;36m1\u001B[0m\u001B[1;33m]\u001B[0m\u001B[1;33m,\u001B[0m \u001B[0mparts\u001B[0m\u001B[1;33m[\u001B[0m\u001B[1;36m0\u001B[0m\u001B[1;33m]\u001B[0m\u001B[1;33m]\u001B[0m\u001B[1;33m)\u001B[0m\u001B[1;33m\u001B[0m\u001B[1;33m\u001B[0m\u001B[0m\n\u001B[0;32m      6\u001B[0m \u001B[1;33m\u001B[0m\u001B[0m\n\u001B[1;32m----> 7\u001B[1;33m \u001B[0mproject_110_10\u001B[0m\u001B[1;33m[\u001B[0m\u001B[1;34m'title'\u001B[0m\u001B[1;33m]\u001B[0m \u001B[1;33m=\u001B[0m \u001B[0mproject_110_10\u001B[0m\u001B[1;33m[\u001B[0m\u001B[1;34m'name'\u001B[0m\u001B[1;33m]\u001B[0m\u001B[1;33m.\u001B[0m\u001B[0mmap\u001B[0m\u001B[1;33m(\u001B[0m\u001B[1;32mlambda\u001B[0m \u001B[0mx\u001B[0m\u001B[1;33m:\u001B[0m \u001B[0mcompose_term\u001B[0m\u001B[1;33m(\u001B[0m\u001B[0mx\u001B[0m\u001B[1;33m)\u001B[0m\u001B[1;33m)\u001B[0m\u001B[1;33m\u001B[0m\u001B[1;33m\u001B[0m\u001B[0m\n\u001B[0m\u001B[0;32m      8\u001B[0m \u001B[0mproject_110_10\u001B[0m\u001B[1;33m\u001B[0m\u001B[1;33m\u001B[0m\u001B[0m\n",
      "\u001B[1;32m~\\Anaconda3\\lib\\site-packages\\pandas\\core\\series.py\u001B[0m in \u001B[0;36mmap\u001B[1;34m(self, arg, na_action)\u001B[0m\n\u001B[0;32m   3968\u001B[0m         \u001B[0mdtype\u001B[0m\u001B[1;33m:\u001B[0m \u001B[0mobject\u001B[0m\u001B[1;33m\u001B[0m\u001B[1;33m\u001B[0m\u001B[0m\n\u001B[0;32m   3969\u001B[0m         \"\"\"\n\u001B[1;32m-> 3970\u001B[1;33m         \u001B[0mnew_values\u001B[0m \u001B[1;33m=\u001B[0m \u001B[0msuper\u001B[0m\u001B[1;33m(\u001B[0m\u001B[1;33m)\u001B[0m\u001B[1;33m.\u001B[0m\u001B[0m_map_values\u001B[0m\u001B[1;33m(\u001B[0m\u001B[0marg\u001B[0m\u001B[1;33m,\u001B[0m \u001B[0mna_action\u001B[0m\u001B[1;33m=\u001B[0m\u001B[0mna_action\u001B[0m\u001B[1;33m)\u001B[0m\u001B[1;33m\u001B[0m\u001B[1;33m\u001B[0m\u001B[0m\n\u001B[0m\u001B[0;32m   3971\u001B[0m         return self._constructor(new_values, index=self.index).__finalize__(\n\u001B[0;32m   3972\u001B[0m             \u001B[0mself\u001B[0m\u001B[1;33m,\u001B[0m \u001B[0mmethod\u001B[0m\u001B[1;33m=\u001B[0m\u001B[1;34m\"map\"\u001B[0m\u001B[1;33m\u001B[0m\u001B[1;33m\u001B[0m\u001B[0m\n",
      "\u001B[1;32m~\\Anaconda3\\lib\\site-packages\\pandas\\core\\base.py\u001B[0m in \u001B[0;36m_map_values\u001B[1;34m(self, mapper, na_action)\u001B[0m\n\u001B[0;32m   1158\u001B[0m \u001B[1;33m\u001B[0m\u001B[0m\n\u001B[0;32m   1159\u001B[0m         \u001B[1;31m# mapper is a function\u001B[0m\u001B[1;33m\u001B[0m\u001B[1;33m\u001B[0m\u001B[1;33m\u001B[0m\u001B[0m\n\u001B[1;32m-> 1160\u001B[1;33m         \u001B[0mnew_values\u001B[0m \u001B[1;33m=\u001B[0m \u001B[0mmap_f\u001B[0m\u001B[1;33m(\u001B[0m\u001B[0mvalues\u001B[0m\u001B[1;33m,\u001B[0m \u001B[0mmapper\u001B[0m\u001B[1;33m)\u001B[0m\u001B[1;33m\u001B[0m\u001B[1;33m\u001B[0m\u001B[0m\n\u001B[0m\u001B[0;32m   1161\u001B[0m \u001B[1;33m\u001B[0m\u001B[0m\n\u001B[0;32m   1162\u001B[0m         \u001B[1;32mreturn\u001B[0m \u001B[0mnew_values\u001B[0m\u001B[1;33m\u001B[0m\u001B[1;33m\u001B[0m\u001B[0m\n",
      "\u001B[1;32mpandas\\_libs\\lib.pyx\u001B[0m in \u001B[0;36mpandas._libs.lib.map_infer\u001B[1;34m()\u001B[0m\n",
      "\u001B[1;32m<ipython-input-17-f14cab7fa553>\u001B[0m in \u001B[0;36m<lambda>\u001B[1;34m(x)\u001B[0m\n\u001B[0;32m      5\u001B[0m     \u001B[1;32mreturn\u001B[0m \u001B[1;34m', '\u001B[0m\u001B[1;33m.\u001B[0m\u001B[0mjoin\u001B[0m\u001B[1;33m(\u001B[0m\u001B[1;33m[\u001B[0m\u001B[0mparts\u001B[0m\u001B[1;33m[\u001B[0m\u001B[1;33m-\u001B[0m\u001B[1;36m1\u001B[0m\u001B[1;33m]\u001B[0m\u001B[1;33m,\u001B[0m \u001B[0mparts\u001B[0m\u001B[1;33m[\u001B[0m\u001B[1;36m0\u001B[0m\u001B[1;33m]\u001B[0m\u001B[1;33m]\u001B[0m\u001B[1;33m)\u001B[0m\u001B[1;33m\u001B[0m\u001B[1;33m\u001B[0m\u001B[0m\n\u001B[0;32m      6\u001B[0m \u001B[1;33m\u001B[0m\u001B[0m\n\u001B[1;32m----> 7\u001B[1;33m \u001B[0mproject_110_10\u001B[0m\u001B[1;33m[\u001B[0m\u001B[1;34m'title'\u001B[0m\u001B[1;33m]\u001B[0m \u001B[1;33m=\u001B[0m \u001B[0mproject_110_10\u001B[0m\u001B[1;33m[\u001B[0m\u001B[1;34m'name'\u001B[0m\u001B[1;33m]\u001B[0m\u001B[1;33m.\u001B[0m\u001B[0mmap\u001B[0m\u001B[1;33m(\u001B[0m\u001B[1;32mlambda\u001B[0m \u001B[0mx\u001B[0m\u001B[1;33m:\u001B[0m \u001B[0mcompose_term\u001B[0m\u001B[1;33m(\u001B[0m\u001B[0mx\u001B[0m\u001B[1;33m)\u001B[0m\u001B[1;33m)\u001B[0m\u001B[1;33m\u001B[0m\u001B[1;33m\u001B[0m\u001B[0m\n\u001B[0m\u001B[0;32m      8\u001B[0m \u001B[0mproject_110_10\u001B[0m\u001B[1;33m\u001B[0m\u001B[1;33m\u001B[0m\u001B[0m\n",
      "\u001B[1;32m<ipython-input-17-f14cab7fa553>\u001B[0m in \u001B[0;36mcompose_term\u001B[1;34m(name)\u001B[0m\n\u001B[0;32m      2\u001B[0m \u001B[1;33m\u001B[0m\u001B[0m\n\u001B[0;32m      3\u001B[0m \u001B[1;32mdef\u001B[0m \u001B[0mcompose_term\u001B[0m\u001B[1;33m(\u001B[0m\u001B[0mname\u001B[0m\u001B[1;33m)\u001B[0m\u001B[1;33m:\u001B[0m\u001B[1;33m\u001B[0m\u001B[1;33m\u001B[0m\u001B[0m\n\u001B[1;32m----> 4\u001B[1;33m     \u001B[0mparts\u001B[0m \u001B[1;33m=\u001B[0m \u001B[0mre\u001B[0m\u001B[1;33m.\u001B[0m\u001B[0msplit\u001B[0m\u001B[1;33m(\u001B[0m\u001B[1;34m'\\s+|\\.'\u001B[0m\u001B[1;33m,\u001B[0m \u001B[0mname\u001B[0m\u001B[1;33m)\u001B[0m\u001B[1;33m\u001B[0m\u001B[1;33m\u001B[0m\u001B[0m\n\u001B[0m\u001B[0;32m      5\u001B[0m     \u001B[1;32mreturn\u001B[0m \u001B[1;34m', '\u001B[0m\u001B[1;33m.\u001B[0m\u001B[0mjoin\u001B[0m\u001B[1;33m(\u001B[0m\u001B[1;33m[\u001B[0m\u001B[0mparts\u001B[0m\u001B[1;33m[\u001B[0m\u001B[1;33m-\u001B[0m\u001B[1;36m1\u001B[0m\u001B[1;33m]\u001B[0m\u001B[1;33m,\u001B[0m \u001B[0mparts\u001B[0m\u001B[1;33m[\u001B[0m\u001B[1;36m0\u001B[0m\u001B[1;33m]\u001B[0m\u001B[1;33m]\u001B[0m\u001B[1;33m)\u001B[0m\u001B[1;33m\u001B[0m\u001B[1;33m\u001B[0m\u001B[0m\n\u001B[0;32m      6\u001B[0m \u001B[1;33m\u001B[0m\u001B[0m\n",
      "\u001B[1;31mNameError\u001B[0m: name 're' is not defined"
     ]
    }
   ],
   "source": [
    "project_110_10 = pd.read_csv('data/110-10-rating.csv', index_col=0)\n",
    "\n",
    "def compose_term(name):\n",
    "    parts = re.split('\\s+|\\.', name)\n",
    "    return ', '.join([parts[-1], parts[0]])\n",
    "\n",
    "project_110_10['title'] = project_110_10['name'].map(lambda x: compose_term(x))\n",
    "project_110_10"
   ],
   "metadata": {
    "collapsed": false,
    "pycharm": {
     "name": "#%%\n"
    }
   }
  },
  {
   "cell_type": "code",
   "execution_count": null,
   "outputs": [],
   "source": [
    "rank['term'] = rank.index.map(lambda x: ' '.join(x.split()[:2]))\n",
    "rank.set_index('term', inplace=True)\n",
    "\n",
    "project_110_10_rank = project_110_10.set_index('title').join(rank).sort_values(['place', 'rank'], ascending=[True, True]).rename(\n",
    "    columns={'place': 'Место в голосовании', 'rank': 'Рейтинг по числу запросов страницы в Википедии 2015-2020'})\n",
    "\n",
    "project_110_10_rank"
   ],
   "metadata": {
    "collapsed": false,
    "pycharm": {
     "name": "#%%\n"
    }
   }
  },
  {
   "cell_type": "code",
   "source": [
    "# Брянский, Шиш\n",
    "get_stats('Решетников, Кирилл Юрьевич') # 653\n",
    "\n",
    "get_stats('Ерёменко') # 953\n",
    "get_stats('Ерёмин') # 1472"
   ],
   "metadata": {
    "collapsed": false,
    "pycharm": {
     "name": "#%%\n"
    }
   },
   "execution_count": null,
   "outputs": []
  },
  {
   "cell_type": "code",
   "execution_count": null,
   "outputs": [],
   "source": [
    "project_110_10_rank.sort_values('Рейтинг по числу запросов страницы в Википедии 2015-2020')"
   ],
   "metadata": {
    "collapsed": false,
    "pycharm": {
     "name": "#%%\n"
    }
   }
  },
  {
   "cell_type": "markdown",
   "metadata": {
    "pycharm": {
     "name": "#%% md\n"
    }
   },
   "source": [
    "\n",
    "\n",
    "## Распределение по общему количеству посещений"
   ]
  },
  {
   "cell_type": "code",
   "execution_count": null,
   "metadata": {
    "pycharm": {
     "name": "#%%\n"
    }
   },
   "outputs": [],
   "source": [
    "import seaborn as sns\n",
    "\n",
    "sns.distplot(poet_stats.loc[:50, '2015-2020'], bins=50)"
   ]
  },
  {
   "cell_type": "code",
   "execution_count": null,
   "outputs": [],
   "source": [
    "import datetime as dt\n",
    "\n",
    "# Pass dates to plot in 'day.month.year' format if any\n",
    "def plot_visits(surname, *key_dates):\n",
    "    page_visits = get_stats(surname)\n",
    "\n",
    "    page_visits = page_visits.reset_index().rename(columns={'level_0':'ordinal'})\n",
    "    page_visits = page_visits.loc[0, '2015110100':'2020110100'].reset_index().rename(columns={0: surname})\n",
    "\n",
    "    page_visits\n",
    "\n",
    "    page_visits['date'] = page_visits['index'].map(lambda x: pd.to_datetime(x, format='%Y%m%d%H'))\n",
    "    ax = page_visits.set_index('date').plot()\n",
    "\n",
    "    for kd in key_dates:\n",
    "        ax.axvline(x=dt.datetime.strptime(kd,'%d.%m.%Y').date(), alpha=0.5, ls='--', color='r')"
   ],
   "metadata": {
    "collapsed": false,
    "pycharm": {
     "name": "#%%\n"
    }
   }
  },
  {
   "cell_type": "markdown",
   "metadata": {},
   "source": [
    "# \"Школьные поэты\""
   ]
  },
  {
   "cell_type": "markdown",
   "source": [
    "## Список ВЦИОМ"
   ],
   "metadata": {
    "collapsed": false
   }
  },
  {
   "cell_type": "code",
   "execution_count": null,
   "outputs": [],
   "source": [
    "for k in wciom_stats.index:\n",
    "    plot_visits(k)"
   ],
   "metadata": {
    "collapsed": false,
    "pycharm": {
     "name": "#%%\n"
    }
   }
  },
  {
   "cell_type": "code",
   "execution_count": null,
   "metadata": {
    "pycharm": {
     "name": "#%%\n"
    }
   },
   "outputs": [],
   "source": [
    "plot_visits('Пушкин')\n",
    "plot_visits('Лермонтов')\n",
    "plot_visits('Есенин')\n",
    "plot_visits('Маяковский')\n",
    "plot_visits('Ахматова')\n",
    "# 2017 год – 125 лет со дня рождения, выставка в Государственном музее истории российской литературы имени В.И. Даля\n",
    "plot_visits('Цветаева')\n",
    "plot_visits('Блок')\n",
    "# 25 ноября 2017: 60 лет назад, в ноябре 1957 года, в Италии вышло в свет первое издание романа Бориса Пастернака \"Доктор Живаго\".\n",
    "plot_visits('Пастернак')\n",
    "plot_visits('Некрасов')\n",
    "plot_visits('Тютчев')\n",
    "plot_visits('Фет')"
   ]
  },
  {
   "cell_type": "markdown",
   "metadata": {},
   "source": []
  },
  {
   "cell_type": "code",
   "execution_count": null,
   "metadata": {
    "pycharm": {
     "name": "#%%\n"
    }
   },
   "outputs": [],
   "source": [
    "\n",
    "plot_visits('Ерёменко')\n",
    "plot_visits('Пригов') # Акция называлась \"Милиционер вступает в игру\" и была посвящена памяти поэта Дмитрия Пригова, умершего 11 лет назад\n",
    "plot_visits('Рубинштейн') # О признаках порядочности. Лев Рубинштейн отвечает на детские вопросы Эхо москвы https://echo.msk.ru/blog/dima_brickman/2213562-echo/"
   ]
  },
  {
   "cell_type": "markdown",
   "metadata": {},
   "source": [
    "# Поэты и инфоповоды"
   ]
  },
  {
   "cell_type": "markdown",
   "metadata": {},
   "source": [
    "## Юбилеи"
   ]
  },
  {
   "cell_type": "markdown",
   "metadata": {},
   "source": [
    "### Иосиф Бродский\n",
    "\n",
    "Май 2020: 80 лет со дня рождения Бродского"
   ]
  },
  {
   "cell_type": "code",
   "execution_count": null,
   "metadata": {
    "pycharm": {
     "name": "#%%\n"
    }
   },
   "outputs": [],
   "source": [
    "plot_visits('Бродский', '24.05.2020')"
   ]
  },
  {
   "cell_type": "markdown",
   "source": [
    "### Дмитрий Александрович Пригов"
   ],
   "metadata": {
    "collapsed": false
   }
  },
  {
   "cell_type": "code",
   "execution_count": null,
   "outputs": [],
   "source": [
    "plot_visits('Пригов, Дмитрий Александрович', '05.11.2020')"
   ],
   "metadata": {
    "collapsed": false,
    "pycharm": {
     "name": "#%%\n"
    }
   }
  },
  {
   "cell_type": "markdown",
   "metadata": {
    "pycharm": {
     "name": "#%% md\n"
    }
   },
   "source": [
    "## Специальные публикации"
   ]
  },
  {
   "cell_type": "markdown",
   "source": [
    "### Статья \"Мел\", 27 июля 2016"
   ],
   "metadata": {
    "collapsed": false,
    "pycharm": {
     "name": "#%% md\n"
    }
   }
  },
  {
   "cell_type": "code",
   "execution_count": null,
   "outputs": [],
   "source": [
    "# 8 современных поэтов, о которых необходимо узнать школьникам\n",
    "# 27 июля, 2016, 55013 просмотров\n",
    "mel_2016 = ['Пригов, Дмитрий',\n",
    "'Лосев, Лев',\n",
    "'Рыжий, Борис',\n",
    "'Чухонцев, Олег',\n",
    "'Гандлевский, Сергей',\n",
    "'Павлова, Вера',\n",
    "'Ермакова, Ирина'\n",
    "]\n",
    "\n",
    "for x in mel_2016:\n",
    "    plot_visits(x, '27.07.2016')"
   ],
   "metadata": {
    "collapsed": false,
    "pycharm": {
     "name": "#%%\n"
    }
   }
  },
  {
   "cell_type": "markdown",
   "source": [
    "### Фигура номера Prosodia"
   ],
   "metadata": {
    "collapsed": false,
    "pycharm": {
     "name": "#%% md\n"
    }
   }
  },
  {
   "cell_type": "code",
   "execution_count": null,
   "outputs": [],
   "source": [
    "plot_visits('Кушнер')\n",
    "plot_visits('Айзенберг')\n",
    "plot_visits('Чухонцев')\n",
    "plot_visits('Аронзон')\n",
    "plot_visits('Гандельсман')"
   ],
   "metadata": {
    "collapsed": false,
    "pycharm": {
     "name": "#%%\n"
    }
   }
  },
  {
   "cell_type": "markdown",
   "source": [
    "### Александр Миронов\n",
    "\n",
    "[Александр Миронов как поэт архаики, смерти и нефти](https://syg.ma/@paviel-arsieniev/alieksiei-konakov-matierialnyie-osnovaniia-epokhi-zastoia)\n"
   ],
   "metadata": {
    "collapsed": false
   }
  },
  {
   "cell_type": "code",
   "execution_count": null,
   "outputs": [],
   "source": [
    "plot_visits('Миронов, Александр', '17.09.2020')"
   ],
   "metadata": {
    "collapsed": false,
    "pycharm": {
     "name": "#%%\n"
    }
   }
  },
  {
   "cell_type": "markdown",
   "source": [
    "## Публикации в неспециальных медиа"
   ],
   "metadata": {
    "collapsed": false
   }
  },
  {
   "cell_type": "markdown",
   "source": [
    "#### Алла Горбунова\n",
    "\n",
    "Статья \"Медузы\" - [«Конец света, моя любовь» — ностальгическая фантасмагория Аллы Горбуновой, которая из мемуара превращается в жуткую сказку И, возможно, главная книга 2020 года](https://meduza.io/feature/2020/08/01/konets-sveta-moya-lyubov-nostalgicheskaya-fantasmagoriya-ally-gorbunovoy-kotoraya-iz-memuara-prevraschaetsya-v-zhutkuyu-skazku)"
   ],
   "metadata": {
    "collapsed": false
   }
  },
  {
   "cell_type": "code",
   "execution_count": null,
   "outputs": [],
   "source": [
    "plot_visits('Горбунова, Алла', '01.08.2020')"
   ],
   "metadata": {
    "collapsed": false,
    "pycharm": {
     "name": "#%%\n"
    }
   }
  },
  {
   "cell_type": "markdown",
   "source": [
    "#### Сергей Гандлевский\n",
    "\n",
    "24.05.2016 [Поэт Гандлевский сорвал в метро портрет Сталина и был задержан](https://ovdinfo.org/express-news/2016/05/24/poet-gandlevskiy-sorval-v-metro-portret-stalina-i-byl-zaderzhan)"
   ],
   "metadata": {
    "collapsed": false
   }
  },
  {
   "cell_type": "code",
   "execution_count": null,
   "outputs": [],
   "source": [
    "plot_visits('Гандлевский, Сергей', '24.05.2016')"
   ],
   "metadata": {
    "collapsed": false,
    "pycharm": {
     "name": "#%%\n"
    }
   }
  },
  {
   "cell_type": "markdown",
   "source": [
    "### Дмитрий Александрович Пригов\n",
    "\n",
    "[«Милиционер вступает в игру»](https://zona.media/chronicle/pr-na-pole)\n",
    "\n",
    "Участники панк-группы Pussy Riot выбежали на поле во время финального матча ЧМ-2018"
   ],
   "metadata": {
    "collapsed": false
   }
  },
  {
   "cell_type": "code",
   "execution_count": null,
   "outputs": [],
   "source": [
    "plot_visits('Пригов, Дмитрий Александрович', '16.07.2018')"
   ],
   "metadata": {
    "collapsed": false,
    "pycharm": {
     "name": "#%%\n"
    }
   }
  },
  {
   "cell_type": "markdown",
   "source": [
    "### Дмитрий Быков\n",
    "\n",
    "[INTERFAX.RU - Писатель Дмитрий Быков сообщил, что его госпитализация 16 апреля в Уфе в тяжелом состоянии была связана с отравлением, однако он не знает, чем именно и как он отравился.](https://www.interfax.ru/russia/659395)"
   ],
   "metadata": {
    "collapsed": false
   }
  },
  {
   "cell_type": "code",
   "execution_count": null,
   "outputs": [],
   "source": [
    "plot_visits('Быков, Дмитрий', '16.04.2019')"
   ],
   "metadata": {
    "collapsed": false,
    "pycharm": {
     "name": "#%%\n"
    }
   }
  },
  {
   "cell_type": "markdown",
   "source": [
    "## Премии"
   ],
   "metadata": {
    "collapsed": false
   }
  },
  {
   "cell_type": "markdown",
   "source": [
    "### Премия Андрея Белого"
   ],
   "metadata": {
    "collapsed": false
   }
  },
  {
   "cell_type": "code",
   "execution_count": null,
   "outputs": [],
   "source": [
    "# 2015\n",
    "plot_visits('Бородин, Василий', '01.12.2015')\n",
    "plot_visits('Завьялов, Сергей', '01.12.2015')\n",
    "\n",
    "# 2016\n",
    "plot_visits('Шваб, Леонид', '01.12.2016')\n",
    "\n",
    "# 2017\n",
    "plot_visits('Станислав Львовский', '01.12.2017')\n",
    "\n",
    "# 2018\n",
    "plot_visits('Сен-Сеньков', '01.12.2018')\n",
    "\n",
    "# 2019\n",
    "# 21 декабря в Москве состоялась пятая церемония вручения премии «Московский наблюдатель». Лауреатом Большой премии стал Андрей Тавров.\n",
    "# https://www.colta.ru/news/16942-vruchena-premiya-moskovskiy-nablyudatel\n",
    "# МОСКВА, 6 декабря. /ТАСС/. Лауреаты старейшей в России литературной премии имени Андрея Белого объявлены на книжной ярмарке non/fiction в пятницу.\n",
    "# https://tass.ru/kultura/7287439\n",
    "plot_visits('Тавров, Андрей', '21.12.2019')\n",
    "plot_visits('Горбунова, Алла', '21.12.2019', '01.08.2020') # август 2020, книга \"Конец света, моя любовь\""
   ],
   "metadata": {
    "collapsed": false,
    "pycharm": {
     "name": "#%%\n"
    }
   }
  },
  {
   "cell_type": "markdown",
   "source": [],
   "metadata": {
    "collapsed": false
   }
  },
  {
   "cell_type": "markdown",
   "source": [
    "### Премия \"Поэзия\""
   ],
   "metadata": {
    "collapsed": false
   }
  },
  {
   "cell_type": "code",
   "execution_count": null,
   "outputs": [],
   "source": [
    "# 2019\n",
    "plot_visits('Веденяпин, Дмитрий', '07.11.2019')\n",
    "# plot_visits('Симонова, Екатерина')\n",
    "\n",
    "# 2020\n",
    "plot_visits('Гуголев', '09.11.2020')"
   ],
   "metadata": {
    "collapsed": false,
    "pycharm": {
     "name": "#%%\n"
    }
   }
  },
  {
   "cell_type": "markdown",
   "source": [
    "# Выбор поэтов и редакторов"
   ],
   "metadata": {
    "collapsed": false
   }
  },
  {
   "cell_type": "code",
   "execution_count": null,
   "outputs": [],
   "source": [
    "poet_stats"
   ],
   "metadata": {
    "collapsed": false,
    "pycharm": {
     "name": "#%%\n"
    }
   }
  },
  {
   "cell_type": "code",
   "execution_count": null,
   "outputs": [],
   "source": [
    "import re\n",
    "\n",
    "project_110_10 = pd.read_csv('data/110-10-rating.csv', index_col=0)\n",
    "\n",
    "def compose_term(name):\n",
    "    parts = re.split('\\s+|\\.', name)\n",
    "    return ', '.join([parts[-1], parts[0]])\n",
    "\n",
    "project_110_10['title'] = project_110_10['name'].map(lambda x: compose_term(x))\n",
    "project_110_10"
   ],
   "metadata": {
    "collapsed": false,
    "pycharm": {
     "name": "#%%\n"
    }
   }
  },
  {
   "cell_type": "markdown",
   "source": [
    "## Александр Переверзин\n",
    "\n",
    "«Как издатель я человек широких взглядов, а как поэт – консерватор», Опубликовано в журнале [Интерпоэзия, номер 3, 2016](https://magazines.gorky.media/interpoezia/2016/3/kak-izdatel-ya-chelovek-shirokih-vzglyadov-a-kak-poet-konservator.html)\n",
    "\n",
    "> Денис Новиков, Игорь Меламед, Григорий Дашевский для меня уже сегодня классики. И я убежден, что достаточно скоро по меркам истории литературы – в течение нескольких десятилетий – они будут утверждены в этом качестве всем литературным сообществом."
   ],
   "metadata": {
    "collapsed": false,
    "pycharm": {
     "name": "#%% md\n"
    }
   }
  },
  {
   "cell_type": "code",
   "execution_count": null,
   "outputs": [],
   "source": [
    "get_stats('Новиков, Денис Геннадиевич')"
   ],
   "metadata": {
    "collapsed": false,
    "pycharm": {
     "name": "#%%\n"
    }
   }
  },
  {
   "cell_type": "code",
   "execution_count": null,
   "outputs": [],
   "source": [
    "plot_visits('Новиков, Денис Геннадиевич')"
   ],
   "metadata": {
    "collapsed": false,
    "pycharm": {
     "name": "#%%\n"
    }
   }
  },
  {
   "cell_type": "code",
   "execution_count": null,
   "outputs": [],
   "source": [
    "get_stats('Меламед, Игорь Сунерович')"
   ],
   "metadata": {
    "collapsed": false,
    "pycharm": {
     "name": "#%%\n"
    }
   }
  },
  {
   "cell_type": "code",
   "execution_count": null,
   "outputs": [],
   "source": [
    "plot_visits('Меламед, Игорь Сунерович')"
   ],
   "metadata": {
    "collapsed": false,
    "pycharm": {
     "name": "#%%\n"
    }
   }
  },
  {
   "cell_type": "code",
   "execution_count": null,
   "outputs": [],
   "source": [
    "get_stats('Дашевский, Григорий Михайлович')"
   ],
   "metadata": {
    "collapsed": false,
    "pycharm": {
     "name": "#%%\n"
    }
   }
  },
  {
   "cell_type": "code",
   "execution_count": null,
   "outputs": [],
   "source": [
    "plot_visits('Дашевский, Григорий Михайлович')"
   ],
   "metadata": {
    "collapsed": false,
    "pycharm": {
     "name": "#%%\n"
    }
   }
  },
  {
   "cell_type": "markdown",
   "source": [
    "# Первые позиции"
   ],
   "metadata": {
    "collapsed": false
   }
  },
  {
   "cell_type": "code",
   "execution_count": null,
   "outputs": [],
   "source": [
    "for i, x in enumerate(poet_stats['title'].iloc[:50]):\n",
    "    print('Автор: {} Позиция: {}'.format(x, i + 1))\n",
    "    plot_visits(x)"
   ],
   "metadata": {
    "collapsed": false,
    "pycharm": {
     "name": "#%%\n"
    }
   }
  },
  {
   "cell_type": "code",
   "execution_count": null,
   "outputs": [],
   "source": [
    "plot_visits('Рымбу')"
   ],
   "metadata": {
    "collapsed": false,
    "pycharm": {
     "name": "#%%\n"
    }
   }
  }
 ],
 "metadata": {
  "kernelspec": {
   "display_name": "Python 3",
   "language": "python",
   "name": "python3"
  },
  "language_info": {
   "codemirror_mode": {
    "name": "ipython",
    "version": 3
   },
   "file_extension": ".py",
   "mimetype": "text/x-python",
   "name": "python",
   "nbconvert_exporter": "python",
   "pygments_lexer": "ipython3",
   "version": "3.8.5"
  },
  "toc": {
   "base_numbering": 1,
   "nav_menu": {},
   "number_sections": true,
   "sideBar": true,
   "skip_h1_title": false,
   "title_cell": "Table of Contents",
   "title_sidebar": "Contents",
   "toc_cell": false,
   "toc_position": {},
   "toc_section_display": true,
   "toc_window_display": false
  }
 },
 "nbformat": 4,
 "nbformat_minor": 1
}